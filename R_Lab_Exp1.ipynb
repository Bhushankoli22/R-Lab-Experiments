{
  "nbformat": 4,
  "nbformat_minor": 0,
  "metadata": {
    "colab": {
      "name": "R_Lab_Exp1.ipynb",
      "provenance": []
    },
    "kernelspec": {
      "name": "ir",
      "display_name": "R"
    }
  },
  "cells": [
    {
      "cell_type": "code",
      "metadata": {
        "colab": {
          "base_uri": "https://localhost:8080/",
          "height": 515
        },
        "id": "pg8BvOCvEJ3-",
        "outputId": "ef8b750c-c2b8-49c6-f449-aae9ad49cdab"
      },
      "source": [
        "R.Version()"
      ],
      "execution_count": 2,
      "outputs": [
        {
          "output_type": "display_data",
          "data": {
            "text/plain": [
              "$platform\n",
              "[1] \"x86_64-pc-linux-gnu\"\n",
              "\n",
              "$arch\n",
              "[1] \"x86_64\"\n",
              "\n",
              "$os\n",
              "[1] \"linux-gnu\"\n",
              "\n",
              "$system\n",
              "[1] \"x86_64, linux-gnu\"\n",
              "\n",
              "$status\n",
              "[1] \"\"\n",
              "\n",
              "$major\n",
              "[1] \"4\"\n",
              "\n",
              "$minor\n",
              "[1] \"0.4\"\n",
              "\n",
              "$year\n",
              "[1] \"2021\"\n",
              "\n",
              "$month\n",
              "[1] \"02\"\n",
              "\n",
              "$day\n",
              "[1] \"15\"\n",
              "\n",
              "$`svn rev`\n",
              "[1] \"80002\"\n",
              "\n",
              "$language\n",
              "[1] \"R\"\n",
              "\n",
              "$version.string\n",
              "[1] \"R version 4.0.4 (2021-02-15)\"\n",
              "\n",
              "$nickname\n",
              "[1] \"Lost Library Book\"\n"
            ],
            "text/latex": "\\begin{description}\n\\item[\\$platform] 'x86\\_64-pc-linux-gnu'\n\\item[\\$arch] 'x86\\_64'\n\\item[\\$os] 'linux-gnu'\n\\item[\\$system] 'x86\\_64, linux-gnu'\n\\item[\\$status] ''\n\\item[\\$major] '4'\n\\item[\\$minor] '0.4'\n\\item[\\$year] '2021'\n\\item[\\$month] '02'\n\\item[\\$day] '15'\n\\item[\\$`svn rev`] '80002'\n\\item[\\$language] 'R'\n\\item[\\$version.string] 'R version 4.0.4 (2021-02-15)'\n\\item[\\$nickname] 'Lost Library Book'\n\\end{description}\n",
            "text/markdown": "$platform\n:   'x86_64-pc-linux-gnu'\n$arch\n:   'x86_64'\n$os\n:   'linux-gnu'\n$system\n:   'x86_64, linux-gnu'\n$status\n:   ''\n$major\n:   '4'\n$minor\n:   '0.4'\n$year\n:   '2021'\n$month\n:   '02'\n$day\n:   '15'\n$`svn rev`\n:   '80002'\n$language\n:   'R'\n$version.string\n:   'R version 4.0.4 (2021-02-15)'\n$nickname\n:   'Lost Library Book'\n\n\n",
            "text/html": [
              "<dl>\n",
              "\t<dt>$platform</dt>\n",
              "\t\t<dd>'x86_64-pc-linux-gnu'</dd>\n",
              "\t<dt>$arch</dt>\n",
              "\t\t<dd>'x86_64'</dd>\n",
              "\t<dt>$os</dt>\n",
              "\t\t<dd>'linux-gnu'</dd>\n",
              "\t<dt>$system</dt>\n",
              "\t\t<dd>'x86_64, linux-gnu'</dd>\n",
              "\t<dt>$status</dt>\n",
              "\t\t<dd>''</dd>\n",
              "\t<dt>$major</dt>\n",
              "\t\t<dd>'4'</dd>\n",
              "\t<dt>$minor</dt>\n",
              "\t\t<dd>'0.4'</dd>\n",
              "\t<dt>$year</dt>\n",
              "\t\t<dd>'2021'</dd>\n",
              "\t<dt>$month</dt>\n",
              "\t\t<dd>'02'</dd>\n",
              "\t<dt>$day</dt>\n",
              "\t\t<dd>'15'</dd>\n",
              "\t<dt>$`svn rev`</dt>\n",
              "\t\t<dd>'80002'</dd>\n",
              "\t<dt>$language</dt>\n",
              "\t\t<dd>'R'</dd>\n",
              "\t<dt>$version.string</dt>\n",
              "\t\t<dd>'R version 4.0.4 (2021-02-15)'</dd>\n",
              "\t<dt>$nickname</dt>\n",
              "\t\t<dd>'Lost Library Book'</dd>\n",
              "</dl>\n"
            ]
          },
          "metadata": {
            "tags": []
          }
        }
      ]
    },
    {
      "cell_type": "code",
      "metadata": {
        "colab": {
          "base_uri": "https://localhost:8080/",
          "height": 437
        },
        "id": "rhhA6UCYELYl",
        "outputId": "8d58b839-c09a-42a2-9203-d3c6010c8054"
      },
      "source": [
        "builtins()"
      ],
      "execution_count": 3,
      "outputs": [
        {
          "output_type": "display_data",
          "data": {
            "text/plain": [
              "   [1] \"zapsmall\"                           \"xzfile\"                            \n",
              "   [3] \"xtfrm.POSIXlt\"                      \"xtfrm.POSIXct\"                     \n",
              "   [5] \"xtfrm.numeric_version\"              \"xtfrm.factor\"                      \n",
              "   [7] \"xtfrm.difftime\"                     \"xtfrm.default\"                     \n",
              "   [9] \"xtfrm.Date\"                         \"xtfrm.AsIs\"                        \n",
              "  [11] \"xtfrm\"                              \"xpdrows.data.frame\"                \n",
              "  [13] \"xor\"                                \"writeLines\"                        \n",
              "  [15] \"writeChar\"                          \"writeBin\"                          \n",
              "  [17] \"write.dcf\"                          \"write\"                             \n",
              "  [19] \"withVisible\"                        \"withRestarts\"                      \n",
              "  [21] \"within.list\"                        \"within.data.frame\"                 \n",
              "  [23] \"within\"                             \"withCallingHandlers\"               \n",
              "  [25] \"withAutoprint\"                      \"with.default\"                      \n",
              "  [27] \"with\"                               \"while\"                             \n",
              "  [29] \"which.min\"                          \"which.max\"                         \n",
              "  [31] \"which\"                              \"weekdays.POSIXt\"                   \n",
              "  [33] \"weekdays.Date\"                      \"weekdays\"                          \n",
              "  [35] \"warnings\"                           \"warningCondition\"                  \n",
              "  [37] \"warning\"                            \"version\"                           \n",
              "  [39] \"Vectorize\"                          \"vector\"                            \n",
              "  [41] \"vapply\"                             \"validUTF8\"                         \n",
              "  [43] \"validEnc\"                           \"utf8ToInt\"                         \n",
              "  [45] \"UseMethod\"                          \"url\"                               \n",
              "  [47] \"upper.tri\"                          \"unz\"                               \n",
              "  [49] \"untracemem\"                         \"untrace\"                           \n",
              "  [51] \"unsplit\"                            \"unserialize\"                       \n",
              "  [53] \"unname\"                             \"unlockBinding\"                     \n",
              "  [55] \"unloadNamespace\"                    \"unlist\"                            \n",
              "  [57] \"unlink\"                             \"unix.time\"                         \n",
              "  [59] \"units<-.difftime\"                   \"units<-\"                           \n",
              "  [61] \"units.difftime\"                     \"units\"                             \n",
              "  [63] \"unique.warnings\"                    \"unique.POSIXlt\"                    \n",
              "  [65] \"unique.numeric_version\"             \"unique.matrix\"                     \n",
              "  [67] \"unique.default\"                     \"unique.data.frame\"                 \n",
              "  [69] \"unique.array\"                       \"unique\"                            \n",
              "  [71] \"union\"                              \"undebug\"                           \n",
              "  [73] \"unclass\"                            \"typeof\"                            \n",
              "  [75] \"tryInvokeRestart\"                   \"tryCatch\"                          \n",
              "  [77] \"try\"                                \"truncate.connection\"               \n",
              "  [79] \"truncate\"                           \"trunc.POSIXt\"                      \n",
              "  [81] \"trunc.Date\"                         \"trunc\"                             \n",
              "  [83] \"trimws\"                             \"trigamma\"                          \n",
              "  [85] \"transform.default\"                  \"transform.data.frame\"              \n",
              "  [87] \"transform\"                          \"tracingState\"                      \n",
              "  [89] \"tracemem\"                           \"traceback\"                         \n",
              "  [91] \"trace\"                              \"toupper\"                           \n",
              "  [93] \"toString.default\"                   \"toString\"                          \n",
              "  [95] \"topenv\"                             \"tolower\"                           \n",
              "  [97] \"textConnectionValue\"                \"textConnection\"                    \n",
              "  [99] \"tempfile\"                           \"tempdir\"                           \n",
              " [101] \"tcrossprod\"                         \"taskCallbackManager\"               \n",
              " [103] \"tapply\"                             \"tanpi\"                             \n",
              " [105] \"tanh\"                               \"tan\"                               \n",
              " [107] \"tabulate\"                           \"table\"                             \n",
              " [109] \"t.default\"                          \"t.data.frame\"                      \n",
              " [111] \"T\"                                  \"t\"                                 \n",
              " [113] \"system2\"                            \"system.time\"                       \n",
              " [115] \"system.file\"                        \"system\"                            \n",
              " [117] \"Sys.which\"                          \"Sys.unsetenv\"                      \n",
              " [119] \"Sys.umask\"                          \"Sys.timezone\"                      \n",
              " [121] \"Sys.time\"                           \"sys.status\"                        \n",
              " [123] \"sys.source\"                         \"Sys.sleep\"                         \n",
              " [125] \"Sys.setlocale\"                      \"Sys.setFileTime\"                   \n",
              " [127] \"Sys.setenv\"                         \"sys.save.image\"                    \n",
              " [129] \"Sys.readlink\"                       \"sys.parents\"                       \n",
              " [131] \"sys.parent\"                         \"sys.on.exit\"                       \n",
              " [133] \"sys.nframe\"                         \"Sys.localeconv\"                    \n",
              " [135] \"sys.load.image\"                     \"Sys.info\"                          \n",
              " [137] \"Sys.glob\"                           \"Sys.getpid\"                        \n",
              " [139] \"Sys.getlocale\"                      \"Sys.getenv\"                        \n",
              " [141] \"sys.function\"                       \"sys.frames\"                        \n",
              " [143] \"sys.frame\"                          \"Sys.Date\"                          \n",
              " [145] \"Sys.chmod\"                          \"sys.calls\"                         \n",
              " [147] \"sys.call\"                           \"switch\"                            \n",
              " [149] \"sweep\"                              \"svd\"                               \n",
              " [151] \"suspendInterrupts\"                  \"suppressWarnings\"                  \n",
              " [153] \"suppressPackageStartupMessages\"     \"suppressMessages\"                  \n",
              " [155] \"summary.warnings\"                   \"summary.table\"                     \n",
              " [157] \"summary.srcref\"                     \"summary.srcfile\"                   \n",
              " [159] \"summary.proc_time\"                  \"Summary.POSIXlt\"                   \n",
              " [161] \"summary.POSIXlt\"                    \"Summary.POSIXct\"                   \n",
              " [163] \"summary.POSIXct\"                    \"Summary.ordered\"                   \n",
              " [165] \"Summary.numeric_version\"            \"summary.matrix\"                    \n",
              " [167] \"Summary.factor\"                     \"summary.factor\"                    \n",
              " [169] \"Summary.difftime\"                   \"summary.default\"                   \n",
              " [171] \"Summary.Date\"                       \"summary.Date\"                      \n",
              " [173] \"Summary.data.frame\"                 \"summary.data.frame\"                \n",
              " [175] \"summary.connection\"                 \"summary\"                           \n",
              " [177] \"sum\"                                \"substring<-\"                       \n",
              " [179] \"substring\"                          \"substr<-\"                          \n",
              " [181] \"substr\"                             \"substitute\"                        \n",
              " [183] \"subset.matrix\"                      \"subset.default\"                    \n",
              " [185] \"subset.data.frame\"                  \"subset\"                            \n",
              " [187] \"sub\"                                \"strwrap\"                           \n",
              " [189] \"structure\"                          \"strtrim\"                           \n",
              " [191] \"strtoi\"                             \"strsplit\"                          \n",
              " [193] \"strrep\"                             \"strptime\"                          \n",
              " [195] \"strftime\"                           \"str2lang\"                          \n",
              " [197] \"str2expression\"                     \"storage.mode<-\"                    \n",
              " [199] \"storage.mode\"                       \"stopifnot\"                         \n",
              " [201] \"stop\"                               \"stdout\"                            \n",
              " [203] \"stdin\"                              \"stderr\"                            \n",
              " [205] \"startsWith\"                         \"standardGeneric\"                   \n",
              " [207] \"srcref\"                             \"srcfilecopy\"                       \n",
              " [209] \"srcfilealias\"                       \"srcfile\"                           \n",
              " [211] \"sQuote\"                             \"sqrt\"                              \n",
              " [213] \"sprintf\"                            \"split<-.default\"                   \n",
              " [215] \"split<-.data.frame\"                 \"split<-\"                           \n",
              " [217] \"split.POSIXct\"                      \"split.default\"                     \n",
              " [219] \"split.Date\"                         \"split.data.frame\"                  \n",
              " [221] \"split\"                              \"source\"                            \n",
              " [223] \"sort.POSIXlt\"                       \"sort.list\"                         \n",
              " [225] \"sort.int\"                           \"sort.default\"                      \n",
              " [227] \"sort\"                               \"solve.qr\"                          \n",
              " [229] \"solve.default\"                      \"solve\"                             \n",
              " [231] \"socketTimeout\"                      \"socketSelect\"                      \n",
              " [233] \"socketConnection\"                   \"socketAccept\"                      \n",
              " [235] \"slice.index\"                        \"sinpi\"                             \n",
              " [237] \"sink.number\"                        \"sink\"                              \n",
              " [239] \"sinh\"                               \"single\"                            \n",
              " [241] \"sin\"                                \"simplify2array\"                    \n",
              " [243] \"simpleWarning\"                      \"simpleMessage\"                     \n",
              " [245] \"simpleError\"                        \"simpleCondition\"                   \n",
              " [247] \"signif\"                             \"signalCondition\"                   \n",
              " [249] \"sign\"                               \"shQuote\"                           \n",
              " [251] \"showConnections\"                    \"setwd\"                             \n",
              " [253] \"setTimeLimit\"                       \"setSessionTimeLimit\"               \n",
              " [255] \"setNamespaceInfo\"                   \"setHook\"                           \n",
              " [257] \"setequal\"                           \"setdiff\"                           \n",
              " [259] \"set.seed\"                           \"serverSocket\"                      \n",
              " [261] \"serialize\"                          \"sequence.default\"                  \n",
              " [263] \"sequence\"                           \"seq.POSIXt\"                        \n",
              " [265] \"seq.int\"                            \"seq.default\"                       \n",
              " [267] \"seq.Date\"                           \"seq_len\"                           \n",
              " [269] \"seq_along\"                          \"seq\"                               \n",
              " [271] \"seek.connection\"                    \"seek\"                              \n",
              " [273] \"searchpaths\"                        \"search\"                            \n",
              " [275] \"scan\"                               \"scale.default\"                     \n",
              " [277] \"scale\"                              \"saveRDS\"                           \n",
              " [279] \"save.image\"                         \"save\"                              \n",
              " [281] \"sapply\"                             \"sample.int\"                        \n",
              " [283] \"sample\"                             \"rowSums\"                           \n",
              " [285] \"rowsum.default\"                     \"rowsum.data.frame\"                 \n",
              " [287] \"rowsum\"                             \"rownames<-\"                        \n",
              " [289] \"rownames\"                           \"rowMeans\"                          \n",
              " [291] \"row.names<-.default\"                \"row.names<-.data.frame\"            \n",
              " [293] \"row.names<-\"                        \"row.names.default\"                 \n",
              " [295] \"row.names.data.frame\"               \"row.names\"                         \n",
              " [297] \"row\"                                \"round.POSIXt\"                      \n",
              " [299] \"round.Date\"                         \"round\"                             \n",
              " [301] \"RNGversion\"                         \"RNGkind\"                           \n",
              " [303] \"rm\"                                 \"rle\"                               \n",
              " [305] \"rev.default\"                        \"rev\"                               \n",
              " [307] \"returnValue\"                        \"return\"                            \n",
              " [309] \"retracemem\"                         \"restartFormals\"                    \n",
              " [311] \"restartDescription\"                 \"requireNamespace\"                  \n",
              " [313] \"require\"                            \"replicate\"                         \n",
              " [315] \"replace\"                            \"repeat\"                            \n",
              " [317] \"rep.POSIXlt\"                        \"rep.POSIXct\"                       \n",
              " [319] \"rep.numeric_version\"                \"rep.int\"                           \n",
              " [321] \"rep.factor\"                         \"rep.Date\"                          \n",
              " [323] \"rep_len\"                            \"rep\"                               \n",
              " [325] \"removeTaskCallback\"                 \"remove\"                            \n",
              " [327] \"regmatches<-\"                       \"regmatches\"                        \n",
              " [329] \"registerS3methods\"                  \"registerS3method\"                  \n",
              " [331] \"regexpr\"                            \"regexec\"                           \n",
              " [333] \"reg.finalizer\"                      \"Reduce\"                            \n",
              " [335] \"Recall\"                             \"readRenviron\"                      \n",
              " [337] \"readRDS\"                            \"readLines\"                         \n",
              " [339] \"readline\"                           \"readChar\"                          \n",
              " [341] \"readBin\"                            \"read.dcf\"                          \n",
              " [343] \"Re\"                                 \"rcond\"                             \n",
              " [345] \"rbind.data.frame\"                   \"rbind\"                             \n",
              " [347] \"rawToChar\"                          \"rawToBits\"                         \n",
              " [349] \"rawShift\"                           \"rawConnectionValue\"                \n",
              " [351] \"rawConnection\"                      \"raw\"                               \n",
              " [353] \"rapply\"                             \"rank\"                              \n",
              " [355] \"range.default\"                      \"range\"                             \n",
              " [357] \"R.version.string\"                   \"R.Version\"                         \n",
              " [359] \"R.version\"                          \"R.home\"                            \n",
              " [361] \"R_system_version\"                   \"quote\"                             \n",
              " [363] \"quit\"                               \"quarters.POSIXt\"                   \n",
              " [365] \"quarters.Date\"                      \"quarters\"                          \n",
              " [367] \"qr.X\"                               \"qr.solve\"                          \n",
              " [369] \"qr.resid\"                           \"qr.R\"                              \n",
              " [371] \"qr.qy\"                              \"qr.qty\"                            \n",
              " [373] \"qr.Q\"                               \"qr.fitted\"                         \n",
              " [375] \"qr.default\"                         \"qr.coef\"                           \n",
              " [377] \"qr\"                                 \"q\"                                 \n",
              " [379] \"pushBackLength\"                     \"pushBack\"                          \n",
              " [381] \"psigamma\"                           \"provideDimnames\"                   \n",
              " [383] \"proportions\"                        \"prop.table\"                        \n",
              " [385] \"prod\"                               \"proc.time\"                         \n",
              " [387] \"prmatrix\"                           \"print.warnings\"                    \n",
              " [389] \"print.table\"                        \"print.summaryDefault\"              \n",
              " [391] \"print.summary.warnings\"             \"print.summary.table\"               \n",
              " [393] \"print.srcref\"                       \"print.srcfile\"                     \n",
              " [395] \"print.simple.list\"                  \"print.rle\"                         \n",
              " [397] \"print.restart\"                      \"print.proc_time\"                   \n",
              " [399] \"print.POSIXlt\"                      \"print.POSIXct\"                     \n",
              " [401] \"print.packageInfo\"                  \"print.octmode\"                     \n",
              " [403] \"print.numeric_version\"              \"print.noquote\"                     \n",
              " [405] \"print.NativeRoutineList\"            \"print.listof\"                      \n",
              " [407] \"print.libraryIQR\"                   \"print.hexmode\"                     \n",
              " [409] \"print.function\"                     \"print.factor\"                      \n",
              " [411] \"print.eigen\"                        \"print.DLLRegisteredRoutines\"       \n",
              " [413] \"print.DLLInfoList\"                  \"print.DLLInfo\"                     \n",
              " [415] \"print.Dlist\"                        \"print.difftime\"                    \n",
              " [417] \"print.default\"                      \"print.Date\"                        \n",
              " [419] \"print.data.frame\"                   \"print.connection\"                  \n",
              " [421] \"print.condition\"                    \"print.by\"                          \n",
              " [423] \"print.AsIs\"                         \"print\"                             \n",
              " [425] \"prettyNum\"                          \"pretty.default\"                    \n",
              " [427] \"pretty\"                             \"Position\"                          \n",
              " [429] \"pos.to.env\"                         \"polyroot\"                          \n",
              " [431] \"pmin.int\"                           \"pmin\"                              \n",
              " [433] \"pmax.int\"                           \"pmax\"                              \n",
              " [435] \"pmatch\"                             \"plot\"                              \n",
              " [437] \"pipe\"                               \"pi\"                                \n",
              " [439] \"pcre_config\"                        \"path.package\"                      \n",
              " [441] \"path.expand\"                        \"paste0\"                            \n",
              " [443] \"paste\"                              \"parseNamespaceFile\"                \n",
              " [445] \"parse\"                              \"parent.frame\"                      \n",
              " [447] \"parent.env<-\"                       \"parent.env\"                        \n",
              " [449] \"pairlist\"                           \"packBits\"                          \n",
              " [451] \"packageStartupMessage\"              \"packageNotFoundError\"              \n",
              " [453] \"packageHasNamespace\"                \"packageEvent\"                      \n",
              " [455] \"package_version\"                    \"outer\"                             \n",
              " [457] \"ordered\"                            \"order\"                             \n",
              " [459] \"options\"                            \"Ops.POSIXt\"                        \n",
              " [461] \"Ops.ordered\"                        \"Ops.numeric_version\"               \n",
              " [463] \"Ops.factor\"                         \"Ops.difftime\"                      \n",
              " [465] \"Ops.Date\"                           \"Ops.data.frame\"                    \n",
              " [467] \"open.srcfilecopy\"                   \"open.srcfilealias\"                 \n",
              " [469] \"open.srcfile\"                       \"open.connection\"                   \n",
              " [471] \"open\"                               \"on.exit\"                           \n",
              " [473] \"OlsonNames\"                         \"oldClass<-\"                        \n",
              " [475] \"oldClass\"                           \"objects\"                           \n",
              " [477] \"nzchar\"                             \"numeric_version\"                   \n",
              " [479] \"numeric\"                            \"nullfile\"                          \n",
              " [481] \"NROW\"                               \"nrow\"                              \n",
              " [483] \"normalizePath\"                      \"norm\"                              \n",
              " [485] \"noquote\"                            \"nlevels\"                           \n",
              " [487] \"ngettext\"                           \"NextMethod\"                        \n",
              " [489] \"next\"                               \"new.env\"                           \n",
              " [491] \"Negate\"                             \"NCOL\"                              \n",
              " [493] \"ncol\"                               \"nchar\"                             \n",
              " [495] \"nargs\"                              \"namespaceImportMethods\"            \n",
              " [497] \"namespaceImportFrom\"                \"namespaceImportClasses\"            \n",
              " [499] \"namespaceImport\"                    \"namespaceExport\"                   \n",
              " [501] \"names<-.POSIXlt\"                    \"names<-\"                           \n",
              " [503] \"names.POSIXlt\"                      \"names\"                             \n",
              " [505] \"mostattributes<-\"                   \"months.POSIXt\"                     \n",
              " [507] \"months.Date\"                        \"months\"                            \n",
              " [509] \"month.name\"                         \"month.abb\"                         \n",
              " [511] \"mode<-\"                             \"mode\"                              \n",
              " [513] \"Mod\"                                \"missing\"                           \n",
              " [515] \"min\"                                \"mget\"                              \n",
              " [517] \"message\"                            \"merge.default\"                     \n",
              " [519] \"merge.data.frame\"                   \"merge\"                             \n",
              " [521] \"memory.profile\"                     \"memDecompress\"                     \n",
              " [523] \"memCompress\"                        \"mem.maxVSize\"                      \n",
              " [525] \"mem.maxNSize\"                       \"mean.POSIXlt\"                      \n",
              " [527] \"mean.POSIXct\"                       \"mean.difftime\"                     \n",
              " [529] \"mean.default\"                       \"mean.Date\"                         \n",
              " [531] \"mean\"                               \"max.col\"                           \n",
              " [533] \"max\"                                \"matrix\"                            \n",
              " [535] \"Math.POSIXt\"                        \"Math.factor\"                       \n",
              " [537] \"Math.difftime\"                      \"Math.Date\"                         \n",
              " [539] \"Math.data.frame\"                    \"match.fun\"                         \n",
              " [541] \"match.call\"                         \"match.arg\"                         \n",
              " [543] \"match\"                              \"mat.or.vec\"                        \n",
              " [545] \"marginSums\"                         \"margin.table\"                      \n",
              " [547] \"mapply\"                             \"Map\"                               \n",
              " [549] \"makeActiveBinding\"                  \"make.unique\"                       \n",
              " [551] \"make.names\"                         \"ls\"                                \n",
              " [553] \"lower.tri\"                          \"logical\"                           \n",
              " [555] \"logb\"                               \"log2\"                              \n",
              " [557] \"log1p\"                              \"log10\"                             \n",
              " [559] \"log\"                                \"lockEnvironment\"                   \n",
              " [561] \"lockBinding\"                        \"local\"                             \n",
              " [563] \"loadNamespace\"                      \"loadingNamespaceInfo\"              \n",
              " [565] \"loadedNamespaces\"                   \"load\"                              \n",
              " [567] \"list2env\"                           \"list2DF\"                           \n",
              " [569] \"list.files\"                         \"list.dirs\"                         \n",
              " [571] \"list\"                               \"license\"                           \n",
              " [573] \"licence\"                            \"library.dynam.unload\"              \n",
              " [575] \"library.dynam\"                      \"library\"                           \n",
              " [577] \"libcurlVersion\"                     \"lgamma\"                            \n",
              " [579] \"lfactorial\"                         \"levels<-.factor\"                   \n",
              " [581] \"levels<-\"                           \"levels.default\"                    \n",
              " [583] \"levels\"                             \"LETTERS\"                           \n",
              " [585] \"letters\"                            \"lengths\"                           \n",
              " [587] \"length<-.POSIXlt\"                   \"length<-.POSIXct\"                  \n",
              " [589] \"length<-.factor\"                    \"length<-.difftime\"                 \n",
              " [591] \"length<-.Date\"                      \"length<-\"                          \n",
              " [593] \"length.POSIXlt\"                     \"length\"                            \n",
              " [595] \"lchoose\"                            \"lbeta\"                             \n",
              " [597] \"lazyLoadDBfetch\"                    \"lazyLoadDBexec\"                    \n",
              " [599] \"lazyLoad\"                           \"lapply\"                            \n",
              " [601] \"labels.default\"                     \"labels\"                            \n",
              " [603] \"La.svd\"                             \"La_version\"                        \n",
              " [605] \"La_library\"                         \"l10n_info\"                         \n",
              " [607] \"kronecker\"                          \"kappa.qr\"                          \n",
              " [609] \"kappa.lm\"                           \"kappa.default\"                     \n",
              " [611] \"kappa\"                              \"julian.POSIXt\"                     \n",
              " [613] \"julian.Date\"                        \"julian\"                            \n",
              " [615] \"jitter\"                             \"isTRUE\"                            \n",
              " [617] \"isSymmetric.matrix\"                 \"isSymmetric\"                       \n",
              " [619] \"isSeekable\"                         \"isS4\"                              \n",
              " [621] \"isRestart\"                          \"isOpen\"                            \n",
              " [623] \"ISOdatetime\"                        \"ISOdate\"                           \n",
              " [625] \"isNamespaceLoaded\"                  \"isNamespace\"                       \n",
              " [627] \"isIncomplete\"                       \"isFALSE\"                           \n",
              " [629] \"isdebugged\"                         \"isBaseNamespace\"                   \n",
              " [631] \"isatty\"                             \"is.vector\"                         \n",
              " [633] \"is.unsorted\"                        \"is.table\"                          \n",
              " [635] \"is.symbol\"                          \"is.single\"                         \n",
              " [637] \"is.recursive\"                       \"is.raw\"                            \n",
              " [639] \"is.R\"                               \"is.qr\"                             \n",
              " [641] \"is.primitive\"                       \"is.pairlist\"                       \n",
              " [643] \"is.package_version\"                 \"is.ordered\"                        \n",
              " [645] \"is.object\"                          \"is.numeric.POSIXt\"                 \n",
              " [647] \"is.numeric.difftime\"                \"is.numeric.Date\"                   \n",
              " [649] \"is.numeric_version\"                 \"is.numeric\"                        \n",
              " [651] \"is.null\"                            \"is.nan\"                            \n",
              " [653] \"is.name\"                            \"is.na<-.numeric_version\"           \n",
              " [655] \"is.na<-.factor\"                     \"is.na<-.default\"                   \n",
              " [657] \"is.na<-\"                            \"is.na.POSIXlt\"                     \n",
              " [659] \"is.na.numeric_version\"              \"is.na.data.frame\"                  \n",
              " [661] \"is.na\"                              \"is.matrix\"                         \n",
              " [663] \"is.logical\"                         \"is.loaded\"                         \n",
              " [665] \"is.list\"                            \"is.language\"                       \n",
              " [667] \"is.integer\"                         \"is.infinite\"                       \n",
              " [669] \"is.function\"                        \"is.finite\"                         \n",
              " [671] \"is.factor\"                          \"is.expression\"                     \n",
              " [673] \"is.environment\"                     \"is.element\"                        \n",
              " [675] \"is.double\"                          \"is.data.frame\"                     \n",
              " [677] \"is.complex\"                         \"is.character\"                      \n",
              " [679] \"is.call\"                            \"is.atomic\"                         \n",
              " [681] \"is.array\"                           \"invokeRestartInteractively\"        \n",
              " [683] \"invokeRestart\"                      \"invisible\"                         \n",
              " [685] \"inverse.rle\"                        \"intToUtf8\"                         \n",
              " [687] \"intToBits\"                          \"intersect\"                         \n",
              " [689] \"interactive\"                        \"interaction\"                       \n",
              " [691] \"integer\"                            \"inherits\"                          \n",
              " [693] \"infoRDS\"                            \"importIntoEnv\"                     \n",
              " [695] \"Im\"                                 \"ifelse\"                            \n",
              " [697] \"if\"                                 \"identity\"                          \n",
              " [699] \"identical\"                          \"icuSetCollate\"                     \n",
              " [701] \"icuGetCollate\"                      \"iconvlist\"                         \n",
              " [703] \"iconv\"                              \"I\"                                 \n",
              " [705] \"gzfile\"                             \"gzcon\"                             \n",
              " [707] \"gsub\"                               \"grouping\"                          \n",
              " [709] \"grepRaw\"                            \"grepl\"                             \n",
              " [711] \"grep\"                               \"gregexpr\"                          \n",
              " [713] \"globalenv\"                          \"globalCallingHandlers\"             \n",
              " [715] \"gl\"                                 \"getwd\"                             \n",
              " [717] \"gettextf\"                           \"gettext\"                           \n",
              " [719] \"getTaskCallbackNames\"               \"getSrcLines\"                       \n",
              " [721] \"getRversion\"                        \"getOption\"                         \n",
              " [723] \"getNativeSymbolInfo\"                \"getNamespaceVersion\"               \n",
              " [725] \"getNamespaceUsers\"                  \"getNamespaceName\"                  \n",
              " [727] \"getNamespaceInfo\"                   \"getNamespaceImports\"               \n",
              " [729] \"getNamespaceExports\"                \"getNamespace\"                      \n",
              " [731] \"getLoadedDLLs\"                      \"getHook\"                           \n",
              " [733] \"getExportedValue\"                   \"geterrmessage\"                     \n",
              " [735] \"getElement\"                         \"getDLLRegisteredRoutines.DLLInfo\"  \n",
              " [737] \"getDLLRegisteredRoutines.character\" \"getDLLRegisteredRoutines\"          \n",
              " [739] \"getConnection\"                      \"getCallingDLLe\"                    \n",
              " [741] \"getCallingDLL\"                      \"getAllConnections\"                 \n",
              " [743] \"get0\"                               \"get\"                               \n",
              " [745] \"gctorture2\"                         \"gctorture\"                         \n",
              " [747] \"gcinfo\"                             \"gc.time\"                           \n",
              " [749] \"gc\"                                 \"gamma\"                             \n",
              " [751] \"function\"                           \"forwardsolve\"                      \n",
              " [753] \"formatDL\"                           \"formatC\"                           \n",
              " [755] \"format.summaryDefault\"              \"format.pval\"                       \n",
              " [757] \"format.POSIXlt\"                     \"format.POSIXct\"                    \n",
              " [759] \"format.packageInfo\"                 \"format.octmode\"                    \n",
              " [761] \"format.numeric_version\"             \"format.libraryIQR\"                 \n",
              " [763] \"format.info\"                        \"format.hexmode\"                    \n",
              " [765] \"format.factor\"                      \"format.difftime\"                   \n",
              " [767] \"format.default\"                     \"format.Date\"                       \n",
              " [769] \"format.data.frame\"                  \"format.AsIs\"                       \n",
              " [771] \"format\"                             \"formals<-\"                         \n",
              " [773] \"formals\"                            \"forceAndCall\"                      \n",
              " [775] \"force\"                              \"for\"                               \n",
              " [777] \"flush.connection\"                   \"flush\"                             \n",
              " [779] \"floor\"                              \"findRestart\"                       \n",
              " [781] \"findPackageEnv\"                     \"findInterval\"                      \n",
              " [783] \"find.package\"                       \"Find\"                              \n",
              " [785] \"Filter\"                             \"file.symlink\"                      \n",
              " [787] \"file.size\"                          \"file.show\"                         \n",
              " [789] \"file.rename\"                        \"file.remove\"                       \n",
              " [791] \"file.path\"                          \"file.mtime\"                        \n",
              " [793] \"file.mode\"                          \"file.link\"                         \n",
              " [795] \"file.info\"                          \"file.exists\"                       \n",
              " [797] \"file.create\"                        \"file.copy\"                         \n",
              " [799] \"file.choose\"                        \"file.append\"                       \n",
              " [801] \"file.access\"                        \"file\"                              \n",
              " [803] \"fifo\"                               \"factorial\"                         \n",
              " [805] \"factor\"                             \"F\"                                 \n",
              " [807] \"extSoftVersion\"                     \"expression\"                        \n",
              " [809] \"expm1\"                              \"expand.grid\"                       \n",
              " [811] \"exp\"                                \"exists\"                            \n",
              " [813] \"evalq\"                              \"eval.parent\"                       \n",
              " [815] \"eval\"                               \"errorCondition\"                    \n",
              " [817] \"environmentName\"                    \"environmentIsLocked\"               \n",
              " [819] \"environment<-\"                      \"environment\"                       \n",
              " [821] \"env.profile\"                        \"enquote\"                           \n",
              " [823] \"endsWith\"                           \"Encoding<-\"                        \n",
              " [825] \"Encoding\"                           \"encodeString\"                      \n",
              " [827] \"enc2utf8\"                           \"enc2native\"                        \n",
              " [829] \"emptyenv\"                           \"eigen\"                             \n",
              " [831] \"eapply\"                             \"dynGet\"                            \n",
              " [833] \"dyn.unload\"                         \"dyn.load\"                          \n",
              " [835] \"duplicated.warnings\"                \"duplicated.POSIXlt\"                \n",
              " [837] \"duplicated.numeric_version\"         \"duplicated.matrix\"                 \n",
              " [839] \"duplicated.default\"                 \"duplicated.data.frame\"             \n",
              " [841] \"duplicated.array\"                   \"duplicated\"                        \n",
              " [843] \"dump\"                               \"droplevels.factor\"                 \n",
              " [845] \"droplevels.data.frame\"              \"droplevels\"                        \n",
              " [847] \"drop\"                               \"dQuote\"                            \n",
              " [849] \"dput\"                               \"double\"                            \n",
              " [851] \"dontCheck\"                          \"do.call\"                           \n",
              " [853] \"dirname\"                            \"dir.exists\"                        \n",
              " [855] \"dir.create\"                         \"dir\"                               \n",
              " [857] \"dimnames<-.data.frame\"              \"dimnames<-\"                        \n",
              " [859] \"dimnames.data.frame\"                \"dimnames\"                          \n",
              " [861] \"dim<-\"                              \"dim.data.frame\"                    \n",
              " [863] \"dim\"                                \"digamma\"                           \n",
              " [865] \"difftime\"                           \"diff.POSIXt\"                       \n",
              " [867] \"diff.difftime\"                      \"diff.default\"                      \n",
              " [869] \"diff.Date\"                          \"diff\"                              \n",
              " [871] \"diag<-\"                             \"diag\"                              \n",
              " [873] \"dget\"                               \"determinant.matrix\"                \n",
              " [875] \"determinant\"                        \"detach\"                            \n",
              " [877] \"det\"                                \"deparse1\"                          \n",
              " [879] \"deparse\"                            \"delayedAssign\"                     \n",
              " [881] \"default.stringsAsFactors\"           \"debugonce\"                         \n",
              " [883] \"debuggingState\"                     \"debug\"                             \n",
              " [885] \"date\"                               \"data.matrix\"                       \n",
              " [887] \"data.frame\"                         \"data.class\"                        \n",
              " [889] \"cut.POSIXt\"                         \"cut.default\"                       \n",
              " [891] \"cut.Date\"                           \"cut\"                               \n",
              " [893] \"curlGetHeaders\"                     \"cumsum\"                            \n",
              " [895] \"cumprod\"                            \"cummin\"                            \n",
              " [897] \"cummax\"                             \"Cstack_info\"                       \n",
              " [899] \"crossprod\"                          \"cospi\"                             \n",
              " [901] \"cosh\"                               \"cos\"                               \n",
              " [903] \"contributors\"                       \"Conj\"                              \n",
              " [905] \"conflicts\"                          \"conflictRules\"                     \n",
              " [907] \"conditionMessage.condition\"         \"conditionMessage\"                  \n",
              " [909] \"conditionCall.condition\"            \"conditionCall\"                     \n",
              " [911] \"computeRestarts\"                    \"complex\"                           \n",
              " [913] \"comment<-\"                          \"comment\"                           \n",
              " [915] \"commandArgs\"                        \"colSums\"                           \n",
              " [917] \"colnames<-\"                         \"colnames\"                          \n",
              " [919] \"colMeans\"                           \"col\"                               \n",
              " [921] \"closeAllConnections\"                \"close.srcfilealias\"                \n",
              " [923] \"close.srcfile\"                      \"close.connection\"                  \n",
              " [925] \"close\"                              \"clearPushBack\"                     \n",
              " [927] \"class<-\"                            \"class\"                             \n",
              " [929] \"choose\"                             \"chol2inv\"                          \n",
              " [931] \"chol.default\"                       \"chol\"                              \n",
              " [933] \"chkDots\"                            \"check_tzones\"                      \n",
              " [935] \"chartr\"                             \"charToRaw\"                         \n",
              " [937] \"charmatch\"                          \"character\"                         \n",
              " [939] \"char.expand\"                        \"ceiling\"                           \n",
              " [941] \"cbind.data.frame\"                   \"cbind\"                             \n",
              " [943] \"cat\"                                \"casefold\"                          \n",
              " [945] \"capabilities\"                       \"callCC\"                            \n",
              " [947] \"call\"                               \"c.warnings\"                        \n",
              " [949] \"c.POSIXlt\"                          \"c.POSIXct\"                         \n",
              " [951] \"c.numeric_version\"                  \"c.noquote\"                         \n",
              " [953] \"c.difftime\"                         \"c.Date\"                            \n",
              " [955] \"c\"                                  \"bzfile\"                            \n",
              " [957] \"by.default\"                         \"by.data.frame\"                     \n",
              " [959] \"by\"                                 \"builtins\"                          \n",
              " [961] \"browserText\"                        \"browserSetDebug\"                   \n",
              " [963] \"browserCondition\"                   \"browser\"                           \n",
              " [965] \"break\"                              \"bquote\"                            \n",
              " [967] \"body<-\"                             \"body\"                              \n",
              " [969] \"bitwXor\"                            \"bitwShiftR\"                        \n",
              " [971] \"bitwShiftL\"                         \"bitwOr\"                            \n",
              " [973] \"bitwNot\"                            \"bitwAnd\"                           \n",
              " [975] \"bindtextdomain\"                     \"bindingIsLocked\"                   \n",
              " [977] \"bindingIsActive\"                    \"beta\"                              \n",
              " [979] \"besselY\"                            \"besselK\"                           \n",
              " [981] \"besselJ\"                            \"besselI\"                           \n",
              " [983] \"basename\"                           \"baseenv\"                           \n",
              " [985] \"backsolve\"                          \"autoloader\"                        \n",
              " [987] \"autoload\"                           \"attributes<-\"                      \n",
              " [989] \"attributes\"                         \"attr<-\"                            \n",
              " [991] \"attr.all.equal\"                     \"attr\"                              \n",
              " [993] \"attachNamespace\"                    \"attach\"                            \n",
              " [995] \"atanh\"                              \"atan2\"                             \n",
              " [997] \"atan\"                               \"assign\"                            \n",
              " [999] \"asS4\"                               \"asS3\"                              \n",
              "[1001] \"asplit\"                             \"asNamespace\"                       \n",
              "[1003] \"asinh\"                              \"asin\"                              \n",
              "[1005] \"as.vector.factor\"                   \"as.vector\"                         \n",
              "[1007] \"as.table.default\"                   \"as.table\"                          \n",
              "[1009] \"as.symbol\"                          \"as.single.default\"                 \n",
              "[1011] \"as.single\"                          \"as.raw\"                            \n",
              "[1013] \"as.qr\"                              \"as.POSIXlt.POSIXct\"                \n",
              "[1015] \"as.POSIXlt.numeric\"                 \"as.POSIXlt.factor\"                 \n",
              "[1017] \"as.POSIXlt.default\"                 \"as.POSIXlt.Date\"                   \n",
              "[1019] \"as.POSIXlt.character\"               \"as.POSIXlt\"                        \n",
              "[1021] \"as.POSIXct.POSIXlt\"                 \"as.POSIXct.numeric\"                \n",
              "[1023] \"as.POSIXct.default\"                 \"as.POSIXct.Date\"                   \n",
              "[1025] \"as.POSIXct\"                         \"as.pairlist\"                       \n",
              "[1027] \"as.package_version\"                 \"as.ordered\"                        \n",
              "[1029] \"as.octmode\"                         \"as.numeric_version\"                \n",
              "[1031] \"as.numeric\"                         \"as.null.default\"                   \n",
              "[1033] \"as.null\"                            \"as.name\"                           \n",
              "[1035] \"as.matrix.POSIXlt\"                  \"as.matrix.noquote\"                 \n",
              "[1037] \"as.matrix.default\"                  \"as.matrix.data.frame\"              \n",
              "[1039] \"as.matrix\"                          \"as.logical.factor\"                 \n",
              "[1041] \"as.logical\"                         \"as.list.POSIXlt\"                   \n",
              "[1043] \"as.list.POSIXct\"                    \"as.list.numeric_version\"           \n",
              "[1045] \"as.list.function\"                   \"as.list.factor\"                    \n",
              "[1047] \"as.list.environment\"                \"as.list.difftime\"                  \n",
              "[1049] \"as.list.default\"                    \"as.list.Date\"                      \n",
              "[1051] \"as.list.data.frame\"                 \"as.list\"                           \n",
              "[1053] \"as.integer\"                         \"as.hexmode\"                        \n",
              "[1055] \"as.function.default\"                \"as.function\"                       \n",
              "[1057] \"as.factor\"                          \"as.expression.default\"             \n",
              "[1059] \"as.expression\"                      \"as.environment\"                    \n",
              "[1061] \"as.double.POSIXlt\"                  \"as.double.difftime\"                \n",
              "[1063] \"as.double\"                          \"as.difftime\"                       \n",
              "[1065] \"as.Date.POSIXlt\"                    \"as.Date.POSIXct\"                   \n",
              "[1067] \"as.Date.numeric\"                    \"as.Date.factor\"                    \n",
              "[1069] \"as.Date.default\"                    \"as.Date.character\"                 \n",
              "[1071] \"as.Date\"                            \"as.data.frame.vector\"              \n",
              "[1073] \"as.data.frame.ts\"                   \"as.data.frame.table\"               \n",
              "[1075] \"as.data.frame.raw\"                  \"as.data.frame.POSIXlt\"             \n",
              "[1077] \"as.data.frame.POSIXct\"              \"as.data.frame.ordered\"             \n",
              "[1079] \"as.data.frame.numeric_version\"      \"as.data.frame.numeric\"             \n",
              "[1081] \"as.data.frame.noquote\"              \"as.data.frame.model.matrix\"        \n",
              "[1083] \"as.data.frame.matrix\"               \"as.data.frame.logical\"             \n",
              "[1085] \"as.data.frame.list\"                 \"as.data.frame.integer\"             \n",
              "[1087] \"as.data.frame.factor\"               \"as.data.frame.difftime\"            \n",
              "[1089] \"as.data.frame.default\"              \"as.data.frame.Date\"                \n",
              "[1091] \"as.data.frame.data.frame\"           \"as.data.frame.complex\"             \n",
              "[1093] \"as.data.frame.character\"            \"as.data.frame.AsIs\"                \n",
              "[1095] \"as.data.frame.array\"                \"as.data.frame\"                     \n",
              "[1097] \"as.complex\"                         \"as.character.srcref\"               \n",
              "[1099] \"as.character.POSIXt\"                \"as.character.octmode\"              \n",
              "[1101] \"as.character.numeric_version\"       \"as.character.hexmode\"              \n",
              "[1103] \"as.character.factor\"                \"as.character.error\"                \n",
              "[1105] \"as.character.default\"               \"as.character.Date\"                 \n",
              "[1107] \"as.character.condition\"             \"as.character\"                      \n",
              "[1109] \"as.call\"                            \"as.array.default\"                  \n",
              "[1111] \"as.array\"                           \"arrayInd\"                          \n",
              "[1113] \"array\"                              \"args\"                              \n",
              "[1115] \"Arg\"                                \"apply\"                             \n",
              "[1117] \"append\"                             \"aperm.table\"                       \n",
              "[1119] \"aperm.default\"                      \"aperm\"                             \n",
              "[1121] \"anyNA.POSIXlt\"                      \"anyNA.numeric_version\"             \n",
              "[1123] \"anyNA.data.frame\"                   \"anyNA\"                             \n",
              "[1125] \"anyDuplicated.matrix\"               \"anyDuplicated.default\"             \n",
              "[1127] \"anyDuplicated.data.frame\"           \"anyDuplicated.array\"               \n",
              "[1129] \"anyDuplicated\"                      \"any\"                               \n",
              "[1131] \"allowInterrupts\"                    \"all.vars\"                          \n",
              "[1133] \"all.names\"                          \"all.equal.raw\"                     \n",
              "[1135] \"all.equal.POSIXt\"                   \"all.equal.numeric\"                 \n",
              "[1137] \"all.equal.list\"                     \"all.equal.language\"                \n",
              "[1139] \"all.equal.formula\"                  \"all.equal.factor\"                  \n",
              "[1141] \"all.equal.envRefClass\"              \"all.equal.environment\"             \n",
              "[1143] \"all.equal.default\"                  \"all.equal.character\"               \n",
              "[1145] \"all.equal\"                          \"all\"                               \n",
              "[1147] \"alist\"                              \"agrepl\"                            \n",
              "[1149] \"agrep\"                              \"addTaskCallback\"                   \n",
              "[1151] \"addNA\"                              \"activeBindingFunction\"             \n",
              "[1153] \"acosh\"                              \"acos\"                              \n",
              "[1155] \"abs\"                                \"abbreviate\"                        \n",
              "[1157] \"$<-.data.frame\"                     \"$<-\"                               \n",
              "[1159] \"$.package_version\"                  \"$.DLLInfo\"                         \n",
              "[1161] \"$\"                                  \"~\"                                 \n",
              "[1163] \"||\"                                 \"|.octmode\"                         \n",
              "[1165] \"|.hexmode\"                          \"|\"                                 \n",
              "[1167] \">=\"                                 \">\"                                 \n",
              "[1169] \"==\"                                 \"=\"                                 \n",
              "[1171] \"<=\"                                 \"<<-\"                               \n",
              "[1173] \"<-\"                                 \"<\"                                 \n",
              "[1175] \"+.POSIXt\"                           \"+.Date\"                            \n",
              "[1177] \"+\"                                  \"^\"                                 \n",
              "[1179] \"%x%\"                                \"%o%\"                               \n",
              "[1181] \"%in%\"                               \"%%\"                                \n",
              "[1183] \"%/%\"                                \"%*%\"                               \n",
              "[1185] \"&&\"                                 \"&.octmode\"                         \n",
              "[1187] \"&.hexmode\"                          \"&\"                                 \n",
              "[1189] \"/.difftime\"                         \"/\"                                 \n",
              "[1191] \"*.difftime\"                         \"*\"                                 \n",
              "[1193] \"@<-\"                                \"@\"                                 \n",
              "[1195] \"{\"                                  \"[<-.POSIXlt\"                       \n",
              "[1197] \"[<-.POSIXct\"                        \"[<-.numeric_version\"               \n",
              "[1199] \"[<-.factor\"                         \"[<-.Date\"                          \n",
              "[1201] \"[<-.data.frame\"                     \"[<-\"                               \n",
              "[1203] \"[[<-.POSIXlt\"                       \"[[<-.numeric_version\"              \n",
              "[1205] \"[[<-.factor\"                        \"[[<-.data.frame\"                   \n",
              "[1207] \"[[<-\"                               \"[[.POSIXlt\"                        \n",
              "[1209] \"[[.POSIXct\"                         \"[[.numeric_version\"                \n",
              "[1211] \"[[.factor\"                          \"[[.Date\"                           \n",
              "[1213] \"[[.data.frame\"                      \"[[\"                                \n",
              "[1215] \"[.warnings\"                         \"[.table\"                           \n",
              "[1217] \"[.simple.list\"                      \"[.POSIXlt\"                         \n",
              "[1219] \"[.POSIXct\"                          \"[.octmode\"                         \n",
              "[1221] \"[.numeric_version\"                  \"[.noquote\"                         \n",
              "[1223] \"[.listof\"                           \"[.hexmode\"                         \n",
              "[1225] \"[.factor\"                           \"[.DLLInfoList\"                     \n",
              "[1227] \"[.Dlist\"                            \"[.difftime\"                        \n",
              "[1229] \"[.Date\"                             \"[.data.frame\"                      \n",
              "[1231] \"[.AsIs\"                             \"[\"                                 \n",
              "[1233] \"(\"                                  \".valid.factor\"                     \n",
              "[1235] \".userHooksEnv\"                      \".tryResumeInterrupt\"               \n",
              "[1237] \".traceback\"                         \".TAOCP1997init\"                    \n",
              "[1239] \".subset2\"                           \".subset\"                           \n",
              "[1241] \".standard_regexps\"                  \".signalSimpleWarning\"              \n",
              "[1243] \".set_row_names\"                     \".Script\"                           \n",
              "[1245] \".S3PrimitiveGenerics\"               \".S3method\"                         \n",
              "[1247] \".S3_methods_table\"                  \".rowSums\"                          \n",
              "[1249] \".rowNamesDF<-\"                      \".rowMeans\"                         \n",
              "[1251] \".row_names_info\"                    \".row\"                              \n",
              "[1253] \".rmpkg\"                             \".primUntrace\"                      \n",
              "[1255] \".primTrace\"                         \".Primitive\"                        \n",
              "[1257] \".POSIXlt\"                           \".POSIXct\"                          \n",
              "[1259] \".popath\"                            \".Platform\"                         \n",
              "[1261] \".packageStartupMessage\"             \".packages\"                         \n",
              "[1263] \".OptRequireMethods\"                 \".Options\"                          \n",
              "[1265] \".NotYetUsed\"                        \".NotYetImplemented\"                \n",
              "[1267] \".noGenerics\"                        \".methodsNamespace\"                 \n",
              "[1269] \".mergeImportMethods\"                \".mergeExportMethods\"               \n",
              "[1271] \".maskedMsg\"                         \".mapply\"                           \n",
              "[1273] \".makeMessage\"                       \".make_numeric_version\"             \n",
              "[1275] \".Machine\"                           \".Library.site\"                     \n",
              "[1277] \".Library\"                           \".libPaths\"                         \n",
              "[1279] \".leap.seconds\"                      \".Last.value\"                       \n",
              "[1281] \".kronecker\"                         \".knownS3Generics\"                  \n",
              "[1283] \".kappa_tri\"                         \".isOpen\"                           \n",
              "[1285] \".isMethodsDispatchOn\"               \".Internal\"                         \n",
              "[1287] \".handleSimpleError\"                 \".gtn\"                              \n",
              "[1289] \".gt\"                                \".GlobalEnv\"                        \n",
              "[1291] \".getRequiredPackages2\"              \".getRequiredPackages\"              \n",
              "[1293] \".getNamespaceInfo\"                  \".getNamespace\"                     \n",
              "[1295] \".GenericArgsEnv\"                    \".Fortran\"                          \n",
              "[1297] \".format.zeros\"                      \".First.sys\"                        \n",
              "[1299] \".F_dtrco\"                           \".F_dqrxb\"                          \n",
              "[1301] \".F_dqrrsd\"                          \".F_dqrqy\"                          \n",
              "[1303] \".F_dqrqty\"                          \".F_dqrdc2\"                         \n",
              "[1305] \".F_dqrcf\"                           \".F_dchdc\"                          \n",
              "[1307] \".External2\"                         \".External.graphics\"                \n",
              "[1309] \".External\"                          \".expand_R_libs_env_var\"            \n",
              "[1311] \".encode_numeric_version\"            \".dynLibs\"                          \n",
              "[1313] \".doWrap\"                            \".doTrace\"                          \n",
              "[1315] \".doSortWrap\"                        \".difftime\"                         \n",
              "[1317] \".Devices\"                           \".Device\"                           \n",
              "[1319] \".detach\"                            \".Deprecated\"                       \n",
              "[1321] \".deparseOpts\"                       \".Defunct\"                          \n",
              "[1323] \".decode_numeric_version\"            \".Date\"                             \n",
              "[1325] \".colSums\"                           \".colMeans\"                         \n",
              "[1327] \".col\"                               \".class2\"                           \n",
              "[1329] \".Call.graphics\"                     \".Call\"                             \n",
              "[1331] \".cache_class\"                       \".C_R_removeTaskCallback\"           \n",
              "[1333] \".C_R_getTaskCallbackNames\"          \".C_R_addTaskCallback\"              \n",
              "[1335] \".C\"                                 \".bincode\"                          \n",
              "[1337] \".BaseNamespaceEnv\"                  \".AutoloadEnv\"                      \n",
              "[1339] \".ArgsEnv\"                           \".amatch_costs\"                     \n",
              "[1341] \".amatch_bounds\"                     \"..getNamespace\"                    \n",
              "[1343] \"..deparseOpts\"                      \"...length\"                         \n",
              "[1345] \"...elt\"                             \".__S3MethodsTable__.\"              \n",
              "[1347] \".__H__.rbind\"                       \".__H__.cbind\"                      \n",
              "[1349] \"!=\"                                 \"!.octmode\"                         \n",
              "[1351] \"!.hexmode\"                          \"!\"                                 \n",
              "[1353] \":::\"                                \"::\"                                \n",
              "[1355] \":\"                                  \"-.POSIXt\"                          \n",
              "[1357] \"-.Date\"                             \"-\"                                 "
            ],
            "text/latex": "\\begin{enumerate*}\n\\item 'zapsmall'\n\\item 'xzfile'\n\\item 'xtfrm.POSIXlt'\n\\item 'xtfrm.POSIXct'\n\\item 'xtfrm.numeric\\_version'\n\\item 'xtfrm.factor'\n\\item 'xtfrm.difftime'\n\\item 'xtfrm.default'\n\\item 'xtfrm.Date'\n\\item 'xtfrm.AsIs'\n\\item 'xtfrm'\n\\item 'xpdrows.data.frame'\n\\item 'xor'\n\\item 'writeLines'\n\\item 'writeChar'\n\\item 'writeBin'\n\\item 'write.dcf'\n\\item 'write'\n\\item 'withVisible'\n\\item 'withRestarts'\n\\item 'within.list'\n\\item 'within.data.frame'\n\\item 'within'\n\\item 'withCallingHandlers'\n\\item 'withAutoprint'\n\\item 'with.default'\n\\item 'with'\n\\item 'while'\n\\item 'which.min'\n\\item 'which.max'\n\\item 'which'\n\\item 'weekdays.POSIXt'\n\\item 'weekdays.Date'\n\\item 'weekdays'\n\\item 'warnings'\n\\item 'warningCondition'\n\\item 'warning'\n\\item 'version'\n\\item 'Vectorize'\n\\item 'vector'\n\\item 'vapply'\n\\item 'validUTF8'\n\\item 'validEnc'\n\\item 'utf8ToInt'\n\\item 'UseMethod'\n\\item 'url'\n\\item 'upper.tri'\n\\item 'unz'\n\\item 'untracemem'\n\\item 'untrace'\n\\item 'unsplit'\n\\item 'unserialize'\n\\item 'unname'\n\\item 'unlockBinding'\n\\item 'unloadNamespace'\n\\item 'unlist'\n\\item 'unlink'\n\\item 'unix.time'\n\\item 'units<-.difftime'\n\\item 'units<-'\n\\item 'units.difftime'\n\\item 'units'\n\\item 'unique.warnings'\n\\item 'unique.POSIXlt'\n\\item 'unique.numeric\\_version'\n\\item 'unique.matrix'\n\\item 'unique.default'\n\\item 'unique.data.frame'\n\\item 'unique.array'\n\\item 'unique'\n\\item 'union'\n\\item 'undebug'\n\\item 'unclass'\n\\item 'typeof'\n\\item 'tryInvokeRestart'\n\\item 'tryCatch'\n\\item 'try'\n\\item 'truncate.connection'\n\\item 'truncate'\n\\item 'trunc.POSIXt'\n\\item 'trunc.Date'\n\\item 'trunc'\n\\item 'trimws'\n\\item 'trigamma'\n\\item 'transform.default'\n\\item 'transform.data.frame'\n\\item 'transform'\n\\item 'tracingState'\n\\item 'tracemem'\n\\item 'traceback'\n\\item 'trace'\n\\item 'toupper'\n\\item 'toString.default'\n\\item 'toString'\n\\item 'topenv'\n\\item 'tolower'\n\\item 'textConnectionValue'\n\\item 'textConnection'\n\\item 'tempfile'\n\\item 'tempdir'\n\\item 'tcrossprod'\n\\item 'taskCallbackManager'\n\\item 'tapply'\n\\item 'tanpi'\n\\item 'tanh'\n\\item 'tan'\n\\item 'tabulate'\n\\item 'table'\n\\item 't.default'\n\\item 't.data.frame'\n\\item 'T'\n\\item 't'\n\\item 'system2'\n\\item 'system.time'\n\\item 'system.file'\n\\item 'system'\n\\item 'Sys.which'\n\\item 'Sys.unsetenv'\n\\item 'Sys.umask'\n\\item 'Sys.timezone'\n\\item 'Sys.time'\n\\item 'sys.status'\n\\item 'sys.source'\n\\item 'Sys.sleep'\n\\item 'Sys.setlocale'\n\\item 'Sys.setFileTime'\n\\item 'Sys.setenv'\n\\item 'sys.save.image'\n\\item 'Sys.readlink'\n\\item 'sys.parents'\n\\item 'sys.parent'\n\\item 'sys.on.exit'\n\\item 'sys.nframe'\n\\item 'Sys.localeconv'\n\\item 'sys.load.image'\n\\item 'Sys.info'\n\\item 'Sys.glob'\n\\item 'Sys.getpid'\n\\item 'Sys.getlocale'\n\\item 'Sys.getenv'\n\\item 'sys.function'\n\\item 'sys.frames'\n\\item 'sys.frame'\n\\item 'Sys.Date'\n\\item 'Sys.chmod'\n\\item 'sys.calls'\n\\item 'sys.call'\n\\item 'switch'\n\\item 'sweep'\n\\item 'svd'\n\\item 'suspendInterrupts'\n\\item 'suppressWarnings'\n\\item 'suppressPackageStartupMessages'\n\\item 'suppressMessages'\n\\item 'summary.warnings'\n\\item 'summary.table'\n\\item 'summary.srcref'\n\\item 'summary.srcfile'\n\\item 'summary.proc\\_time'\n\\item 'Summary.POSIXlt'\n\\item 'summary.POSIXlt'\n\\item 'Summary.POSIXct'\n\\item 'summary.POSIXct'\n\\item 'Summary.ordered'\n\\item 'Summary.numeric\\_version'\n\\item 'summary.matrix'\n\\item 'Summary.factor'\n\\item 'summary.factor'\n\\item 'Summary.difftime'\n\\item 'summary.default'\n\\item 'Summary.Date'\n\\item 'summary.Date'\n\\item 'Summary.data.frame'\n\\item 'summary.data.frame'\n\\item 'summary.connection'\n\\item 'summary'\n\\item 'sum'\n\\item 'substring<-'\n\\item 'substring'\n\\item 'substr<-'\n\\item 'substr'\n\\item 'substitute'\n\\item 'subset.matrix'\n\\item 'subset.default'\n\\item 'subset.data.frame'\n\\item 'subset'\n\\item 'sub'\n\\item 'strwrap'\n\\item 'structure'\n\\item 'strtrim'\n\\item 'strtoi'\n\\item 'strsplit'\n\\item 'strrep'\n\\item 'strptime'\n\\item 'strftime'\n\\item 'str2lang'\n\\item 'str2expression'\n\\item 'storage.mode<-'\n\\item 'storage.mode'\n\\item 'stopifnot'\n\\item ⋯\n\\item '\\$.package\\_version'\n\\item '\\$.DLLInfo'\n\\item '\\$'\n\\item '\\textasciitilde{}'\n\\item '\\textbar{}\\textbar{}'\n\\item '\\textbar{}.octmode'\n\\item '\\textbar{}.hexmode'\n\\item '\\textbar{}'\n\\item '>='\n\\item '>'\n\\item '=='\n\\item '='\n\\item '<='\n\\item '<<-'\n\\item '<-'\n\\item '<'\n\\item '+.POSIXt'\n\\item '+.Date'\n\\item '+'\n\\item '\\textasciicircum{}'\n\\item '\\%x\\%'\n\\item '\\%o\\%'\n\\item '\\%in\\%'\n\\item '\\%\\%'\n\\item '\\%/\\%'\n\\item '\\%*\\%'\n\\item '\\&\\&'\n\\item '\\&.octmode'\n\\item '\\&.hexmode'\n\\item '\\&'\n\\item '/.difftime'\n\\item '/'\n\\item '*.difftime'\n\\item '*'\n\\item '@<-'\n\\item '@'\n\\item '\\{'\n\\item '{[}<-.POSIXlt'\n\\item '{[}<-.POSIXct'\n\\item '{[}<-.numeric\\_version'\n\\item '{[}<-.factor'\n\\item '{[}<-.Date'\n\\item '{[}<-.data.frame'\n\\item '{[}<-'\n\\item '{[}{[}<-.POSIXlt'\n\\item '{[}{[}<-.numeric\\_version'\n\\item '{[}{[}<-.factor'\n\\item '{[}{[}<-.data.frame'\n\\item '{[}{[}<-'\n\\item '{[}{[}.POSIXlt'\n\\item '{[}{[}.POSIXct'\n\\item '{[}{[}.numeric\\_version'\n\\item '{[}{[}.factor'\n\\item '{[}{[}.Date'\n\\item '{[}{[}.data.frame'\n\\item '{[}{[}'\n\\item '{[}.warnings'\n\\item '{[}.table'\n\\item '{[}.simple.list'\n\\item '{[}.POSIXlt'\n\\item '{[}.POSIXct'\n\\item '{[}.octmode'\n\\item '{[}.numeric\\_version'\n\\item '{[}.noquote'\n\\item '{[}.listof'\n\\item '{[}.hexmode'\n\\item '{[}.factor'\n\\item '{[}.DLLInfoList'\n\\item '{[}.Dlist'\n\\item '{[}.difftime'\n\\item '{[}.Date'\n\\item '{[}.data.frame'\n\\item '{[}.AsIs'\n\\item '{[}'\n\\item '('\n\\item '.valid.factor'\n\\item '.userHooksEnv'\n\\item '.tryResumeInterrupt'\n\\item '.traceback'\n\\item '.TAOCP1997init'\n\\item '.subset2'\n\\item '.subset'\n\\item '.standard\\_regexps'\n\\item '.signalSimpleWarning'\n\\item '.set\\_row\\_names'\n\\item '.Script'\n\\item '.S3PrimitiveGenerics'\n\\item '.S3method'\n\\item '.S3\\_methods\\_table'\n\\item '.rowSums'\n\\item '.rowNamesDF<-'\n\\item '.rowMeans'\n\\item '.row\\_names\\_info'\n\\item '.row'\n\\item '.rmpkg'\n\\item '.primUntrace'\n\\item '.primTrace'\n\\item '.Primitive'\n\\item '.POSIXlt'\n\\item '.POSIXct'\n\\item '.popath'\n\\item '.Platform'\n\\item '.packageStartupMessage'\n\\item '.packages'\n\\item '.OptRequireMethods'\n\\item '.Options'\n\\item '.NotYetUsed'\n\\item '.NotYetImplemented'\n\\item '.noGenerics'\n\\item '.methodsNamespace'\n\\item '.mergeImportMethods'\n\\item '.mergeExportMethods'\n\\item '.maskedMsg'\n\\item '.mapply'\n\\item '.makeMessage'\n\\item '.make\\_numeric\\_version'\n\\item '.Machine'\n\\item '.Library.site'\n\\item '.Library'\n\\item '.libPaths'\n\\item '.leap.seconds'\n\\item '.Last.value'\n\\item '.kronecker'\n\\item '.knownS3Generics'\n\\item '.kappa\\_tri'\n\\item '.isOpen'\n\\item '.isMethodsDispatchOn'\n\\item '.Internal'\n\\item '.handleSimpleError'\n\\item '.gtn'\n\\item '.gt'\n\\item '.GlobalEnv'\n\\item '.getRequiredPackages2'\n\\item '.getRequiredPackages'\n\\item '.getNamespaceInfo'\n\\item '.getNamespace'\n\\item '.GenericArgsEnv'\n\\item '.Fortran'\n\\item '.format.zeros'\n\\item '.First.sys'\n\\item '.F\\_dtrco'\n\\item '.F\\_dqrxb'\n\\item '.F\\_dqrrsd'\n\\item '.F\\_dqrqy'\n\\item '.F\\_dqrqty'\n\\item '.F\\_dqrdc2'\n\\item '.F\\_dqrcf'\n\\item '.F\\_dchdc'\n\\item '.External2'\n\\item '.External.graphics'\n\\item '.External'\n\\item '.expand\\_R\\_libs\\_env\\_var'\n\\item '.encode\\_numeric\\_version'\n\\item '.dynLibs'\n\\item '.doWrap'\n\\item '.doTrace'\n\\item '.doSortWrap'\n\\item '.difftime'\n\\item '.Devices'\n\\item '.Device'\n\\item '.detach'\n\\item '.Deprecated'\n\\item '.deparseOpts'\n\\item '.Defunct'\n\\item '.decode\\_numeric\\_version'\n\\item '.Date'\n\\item '.colSums'\n\\item '.colMeans'\n\\item '.col'\n\\item '.class2'\n\\item '.Call.graphics'\n\\item '.Call'\n\\item '.cache\\_class'\n\\item '.C\\_R\\_removeTaskCallback'\n\\item '.C\\_R\\_getTaskCallbackNames'\n\\item '.C\\_R\\_addTaskCallback'\n\\item '.C'\n\\item '.bincode'\n\\item '.BaseNamespaceEnv'\n\\item '.AutoloadEnv'\n\\item '.ArgsEnv'\n\\item '.amatch\\_costs'\n\\item '.amatch\\_bounds'\n\\item '..getNamespace'\n\\item '..deparseOpts'\n\\item '...length'\n\\item '...elt'\n\\item '.\\_\\_S3MethodsTable\\_\\_.'\n\\item '.\\_\\_H\\_\\_.rbind'\n\\item '.\\_\\_H\\_\\_.cbind'\n\\item '!='\n\\item '!.octmode'\n\\item '!.hexmode'\n\\item '!'\n\\item ':::'\n\\item '::'\n\\item ':'\n\\item '-.POSIXt'\n\\item '-.Date'\n\\item '-'\n\\end{enumerate*}\n",
            "text/markdown": "1. 'zapsmall'\n2. 'xzfile'\n3. 'xtfrm.POSIXlt'\n4. 'xtfrm.POSIXct'\n5. 'xtfrm.numeric_version'\n6. 'xtfrm.factor'\n7. 'xtfrm.difftime'\n8. 'xtfrm.default'\n9. 'xtfrm.Date'\n10. 'xtfrm.AsIs'\n11. 'xtfrm'\n12. 'xpdrows.data.frame'\n13. 'xor'\n14. 'writeLines'\n15. 'writeChar'\n16. 'writeBin'\n17. 'write.dcf'\n18. 'write'\n19. 'withVisible'\n20. 'withRestarts'\n21. 'within.list'\n22. 'within.data.frame'\n23. 'within'\n24. 'withCallingHandlers'\n25. 'withAutoprint'\n26. 'with.default'\n27. 'with'\n28. 'while'\n29. 'which.min'\n30. 'which.max'\n31. 'which'\n32. 'weekdays.POSIXt'\n33. 'weekdays.Date'\n34. 'weekdays'\n35. 'warnings'\n36. 'warningCondition'\n37. 'warning'\n38. 'version'\n39. 'Vectorize'\n40. 'vector'\n41. 'vapply'\n42. 'validUTF8'\n43. 'validEnc'\n44. 'utf8ToInt'\n45. 'UseMethod'\n46. 'url'\n47. 'upper.tri'\n48. 'unz'\n49. 'untracemem'\n50. 'untrace'\n51. 'unsplit'\n52. 'unserialize'\n53. 'unname'\n54. 'unlockBinding'\n55. 'unloadNamespace'\n56. 'unlist'\n57. 'unlink'\n58. 'unix.time'\n59. 'units&lt;-.difftime'\n60. 'units&lt;-'\n61. 'units.difftime'\n62. 'units'\n63. 'unique.warnings'\n64. 'unique.POSIXlt'\n65. 'unique.numeric_version'\n66. 'unique.matrix'\n67. 'unique.default'\n68. 'unique.data.frame'\n69. 'unique.array'\n70. 'unique'\n71. 'union'\n72. 'undebug'\n73. 'unclass'\n74. 'typeof'\n75. 'tryInvokeRestart'\n76. 'tryCatch'\n77. 'try'\n78. 'truncate.connection'\n79. 'truncate'\n80. 'trunc.POSIXt'\n81. 'trunc.Date'\n82. 'trunc'\n83. 'trimws'\n84. 'trigamma'\n85. 'transform.default'\n86. 'transform.data.frame'\n87. 'transform'\n88. 'tracingState'\n89. 'tracemem'\n90. 'traceback'\n91. 'trace'\n92. 'toupper'\n93. 'toString.default'\n94. 'toString'\n95. 'topenv'\n96. 'tolower'\n97. 'textConnectionValue'\n98. 'textConnection'\n99. 'tempfile'\n100. 'tempdir'\n101. 'tcrossprod'\n102. 'taskCallbackManager'\n103. 'tapply'\n104. 'tanpi'\n105. 'tanh'\n106. 'tan'\n107. 'tabulate'\n108. 'table'\n109. 't.default'\n110. 't.data.frame'\n111. 'T'\n112. 't'\n113. 'system2'\n114. 'system.time'\n115. 'system.file'\n116. 'system'\n117. 'Sys.which'\n118. 'Sys.unsetenv'\n119. 'Sys.umask'\n120. 'Sys.timezone'\n121. 'Sys.time'\n122. 'sys.status'\n123. 'sys.source'\n124. 'Sys.sleep'\n125. 'Sys.setlocale'\n126. 'Sys.setFileTime'\n127. 'Sys.setenv'\n128. 'sys.save.image'\n129. 'Sys.readlink'\n130. 'sys.parents'\n131. 'sys.parent'\n132. 'sys.on.exit'\n133. 'sys.nframe'\n134. 'Sys.localeconv'\n135. 'sys.load.image'\n136. 'Sys.info'\n137. 'Sys.glob'\n138. 'Sys.getpid'\n139. 'Sys.getlocale'\n140. 'Sys.getenv'\n141. 'sys.function'\n142. 'sys.frames'\n143. 'sys.frame'\n144. 'Sys.Date'\n145. 'Sys.chmod'\n146. 'sys.calls'\n147. 'sys.call'\n148. 'switch'\n149. 'sweep'\n150. 'svd'\n151. 'suspendInterrupts'\n152. 'suppressWarnings'\n153. 'suppressPackageStartupMessages'\n154. 'suppressMessages'\n155. 'summary.warnings'\n156. 'summary.table'\n157. 'summary.srcref'\n158. 'summary.srcfile'\n159. 'summary.proc_time'\n160. 'Summary.POSIXlt'\n161. 'summary.POSIXlt'\n162. 'Summary.POSIXct'\n163. 'summary.POSIXct'\n164. 'Summary.ordered'\n165. 'Summary.numeric_version'\n166. 'summary.matrix'\n167. 'Summary.factor'\n168. 'summary.factor'\n169. 'Summary.difftime'\n170. 'summary.default'\n171. 'Summary.Date'\n172. 'summary.Date'\n173. 'Summary.data.frame'\n174. 'summary.data.frame'\n175. 'summary.connection'\n176. 'summary'\n177. 'sum'\n178. 'substring&lt;-'\n179. 'substring'\n180. 'substr&lt;-'\n181. 'substr'\n182. 'substitute'\n183. 'subset.matrix'\n184. 'subset.default'\n185. 'subset.data.frame'\n186. 'subset'\n187. 'sub'\n188. 'strwrap'\n189. 'structure'\n190. 'strtrim'\n191. 'strtoi'\n192. 'strsplit'\n193. 'strrep'\n194. 'strptime'\n195. 'strftime'\n196. 'str2lang'\n197. 'str2expression'\n198. 'storage.mode&lt;-'\n199. 'storage.mode'\n200. 'stopifnot'\n201. ⋯\n202. '$.package_version'\n203. '$.DLLInfo'\n204. '$'\n205. '~'\n206. '||'\n207. '|.octmode'\n208. '|.hexmode'\n209. '|'\n210. '&gt;='\n211. '&gt;'\n212. '=='\n213. '='\n214. '&lt;='\n215. '&lt;&lt;-'\n216. '&lt;-'\n217. '&lt;'\n218. '+.POSIXt'\n219. '+.Date'\n220. '+'\n221. '^'\n222. '%x%'\n223. '%o%'\n224. '%in%'\n225. '%%'\n226. '%/%'\n227. '%*%'\n228. '&amp;&amp;'\n229. '&amp;.octmode'\n230. '&amp;.hexmode'\n231. '&amp;'\n232. '/.difftime'\n233. '/'\n234. '*.difftime'\n235. '*'\n236. '@&lt;-'\n237. '@'\n238. '{'\n239. '[&lt;-.POSIXlt'\n240. '[&lt;-.POSIXct'\n241. '[&lt;-.numeric_version'\n242. '[&lt;-.factor'\n243. '[&lt;-.Date'\n244. '[&lt;-.data.frame'\n245. '[&lt;-'\n246. '[[&lt;-.POSIXlt'\n247. '[[&lt;-.numeric_version'\n248. '[[&lt;-.factor'\n249. '[[&lt;-.data.frame'\n250. '[[&lt;-'\n251. '[[.POSIXlt'\n252. '[[.POSIXct'\n253. '[[.numeric_version'\n254. '[[.factor'\n255. '[[.Date'\n256. '[[.data.frame'\n257. '[['\n258. '[.warnings'\n259. '[.table'\n260. '[.simple.list'\n261. '[.POSIXlt'\n262. '[.POSIXct'\n263. '[.octmode'\n264. '[.numeric_version'\n265. '[.noquote'\n266. '[.listof'\n267. '[.hexmode'\n268. '[.factor'\n269. '[.DLLInfoList'\n270. '[.Dlist'\n271. '[.difftime'\n272. '[.Date'\n273. '[.data.frame'\n274. '[.AsIs'\n275. '['\n276. '('\n277. '.valid.factor'\n278. '.userHooksEnv'\n279. '.tryResumeInterrupt'\n280. '.traceback'\n281. '.TAOCP1997init'\n282. '.subset2'\n283. '.subset'\n284. '.standard_regexps'\n285. '.signalSimpleWarning'\n286. '.set_row_names'\n287. '.Script'\n288. '.S3PrimitiveGenerics'\n289. '.S3method'\n290. '.S3_methods_table'\n291. '.rowSums'\n292. '.rowNamesDF&lt;-'\n293. '.rowMeans'\n294. '.row_names_info'\n295. '.row'\n296. '.rmpkg'\n297. '.primUntrace'\n298. '.primTrace'\n299. '.Primitive'\n300. '.POSIXlt'\n301. '.POSIXct'\n302. '.popath'\n303. '.Platform'\n304. '.packageStartupMessage'\n305. '.packages'\n306. '.OptRequireMethods'\n307. '.Options'\n308. '.NotYetUsed'\n309. '.NotYetImplemented'\n310. '.noGenerics'\n311. '.methodsNamespace'\n312. '.mergeImportMethods'\n313. '.mergeExportMethods'\n314. '.maskedMsg'\n315. '.mapply'\n316. '.makeMessage'\n317. '.make_numeric_version'\n318. '.Machine'\n319. '.Library.site'\n320. '.Library'\n321. '.libPaths'\n322. '.leap.seconds'\n323. '.Last.value'\n324. '.kronecker'\n325. '.knownS3Generics'\n326. '.kappa_tri'\n327. '.isOpen'\n328. '.isMethodsDispatchOn'\n329. '.Internal'\n330. '.handleSimpleError'\n331. '.gtn'\n332. '.gt'\n333. '.GlobalEnv'\n334. '.getRequiredPackages2'\n335. '.getRequiredPackages'\n336. '.getNamespaceInfo'\n337. '.getNamespace'\n338. '.GenericArgsEnv'\n339. '.Fortran'\n340. '.format.zeros'\n341. '.First.sys'\n342. '.F_dtrco'\n343. '.F_dqrxb'\n344. '.F_dqrrsd'\n345. '.F_dqrqy'\n346. '.F_dqrqty'\n347. '.F_dqrdc2'\n348. '.F_dqrcf'\n349. '.F_dchdc'\n350. '.External2'\n351. '.External.graphics'\n352. '.External'\n353. '.expand_R_libs_env_var'\n354. '.encode_numeric_version'\n355. '.dynLibs'\n356. '.doWrap'\n357. '.doTrace'\n358. '.doSortWrap'\n359. '.difftime'\n360. '.Devices'\n361. '.Device'\n362. '.detach'\n363. '.Deprecated'\n364. '.deparseOpts'\n365. '.Defunct'\n366. '.decode_numeric_version'\n367. '.Date'\n368. '.colSums'\n369. '.colMeans'\n370. '.col'\n371. '.class2'\n372. '.Call.graphics'\n373. '.Call'\n374. '.cache_class'\n375. '.C_R_removeTaskCallback'\n376. '.C_R_getTaskCallbackNames'\n377. '.C_R_addTaskCallback'\n378. '.C'\n379. '.bincode'\n380. '.BaseNamespaceEnv'\n381. '.AutoloadEnv'\n382. '.ArgsEnv'\n383. '.amatch_costs'\n384. '.amatch_bounds'\n385. '..getNamespace'\n386. '..deparseOpts'\n387. '...length'\n388. '...elt'\n389. '.__S3MethodsTable__.'\n390. '.__H__.rbind'\n391. '.__H__.cbind'\n392. '!='\n393. '!.octmode'\n394. '!.hexmode'\n395. '!'\n396. ':::'\n397. '::'\n398. ':'\n399. '-.POSIXt'\n400. '-.Date'\n401. '-'\n\n\n",
            "text/html": [
              "<style>\n",
              ".list-inline {list-style: none; margin:0; padding: 0}\n",
              ".list-inline>li {display: inline-block}\n",
              ".list-inline>li:not(:last-child)::after {content: \"\\00b7\"; padding: 0 .5ex}\n",
              "</style>\n",
              "<ol class=list-inline><li>'zapsmall'</li><li>'xzfile'</li><li>'xtfrm.POSIXlt'</li><li>'xtfrm.POSIXct'</li><li>'xtfrm.numeric_version'</li><li>'xtfrm.factor'</li><li>'xtfrm.difftime'</li><li>'xtfrm.default'</li><li>'xtfrm.Date'</li><li>'xtfrm.AsIs'</li><li>'xtfrm'</li><li>'xpdrows.data.frame'</li><li>'xor'</li><li>'writeLines'</li><li>'writeChar'</li><li>'writeBin'</li><li>'write.dcf'</li><li>'write'</li><li>'withVisible'</li><li>'withRestarts'</li><li>'within.list'</li><li>'within.data.frame'</li><li>'within'</li><li>'withCallingHandlers'</li><li>'withAutoprint'</li><li>'with.default'</li><li>'with'</li><li>'while'</li><li>'which.min'</li><li>'which.max'</li><li>'which'</li><li>'weekdays.POSIXt'</li><li>'weekdays.Date'</li><li>'weekdays'</li><li>'warnings'</li><li>'warningCondition'</li><li>'warning'</li><li>'version'</li><li>'Vectorize'</li><li>'vector'</li><li>'vapply'</li><li>'validUTF8'</li><li>'validEnc'</li><li>'utf8ToInt'</li><li>'UseMethod'</li><li>'url'</li><li>'upper.tri'</li><li>'unz'</li><li>'untracemem'</li><li>'untrace'</li><li>'unsplit'</li><li>'unserialize'</li><li>'unname'</li><li>'unlockBinding'</li><li>'unloadNamespace'</li><li>'unlist'</li><li>'unlink'</li><li>'unix.time'</li><li>'units&lt;-.difftime'</li><li>'units&lt;-'</li><li>'units.difftime'</li><li>'units'</li><li>'unique.warnings'</li><li>'unique.POSIXlt'</li><li>'unique.numeric_version'</li><li>'unique.matrix'</li><li>'unique.default'</li><li>'unique.data.frame'</li><li>'unique.array'</li><li>'unique'</li><li>'union'</li><li>'undebug'</li><li>'unclass'</li><li>'typeof'</li><li>'tryInvokeRestart'</li><li>'tryCatch'</li><li>'try'</li><li>'truncate.connection'</li><li>'truncate'</li><li>'trunc.POSIXt'</li><li>'trunc.Date'</li><li>'trunc'</li><li>'trimws'</li><li>'trigamma'</li><li>'transform.default'</li><li>'transform.data.frame'</li><li>'transform'</li><li>'tracingState'</li><li>'tracemem'</li><li>'traceback'</li><li>'trace'</li><li>'toupper'</li><li>'toString.default'</li><li>'toString'</li><li>'topenv'</li><li>'tolower'</li><li>'textConnectionValue'</li><li>'textConnection'</li><li>'tempfile'</li><li>'tempdir'</li><li>'tcrossprod'</li><li>'taskCallbackManager'</li><li>'tapply'</li><li>'tanpi'</li><li>'tanh'</li><li>'tan'</li><li>'tabulate'</li><li>'table'</li><li>'t.default'</li><li>'t.data.frame'</li><li>'T'</li><li>'t'</li><li>'system2'</li><li>'system.time'</li><li>'system.file'</li><li>'system'</li><li>'Sys.which'</li><li>'Sys.unsetenv'</li><li>'Sys.umask'</li><li>'Sys.timezone'</li><li>'Sys.time'</li><li>'sys.status'</li><li>'sys.source'</li><li>'Sys.sleep'</li><li>'Sys.setlocale'</li><li>'Sys.setFileTime'</li><li>'Sys.setenv'</li><li>'sys.save.image'</li><li>'Sys.readlink'</li><li>'sys.parents'</li><li>'sys.parent'</li><li>'sys.on.exit'</li><li>'sys.nframe'</li><li>'Sys.localeconv'</li><li>'sys.load.image'</li><li>'Sys.info'</li><li>'Sys.glob'</li><li>'Sys.getpid'</li><li>'Sys.getlocale'</li><li>'Sys.getenv'</li><li>'sys.function'</li><li>'sys.frames'</li><li>'sys.frame'</li><li>'Sys.Date'</li><li>'Sys.chmod'</li><li>'sys.calls'</li><li>'sys.call'</li><li>'switch'</li><li>'sweep'</li><li>'svd'</li><li>'suspendInterrupts'</li><li>'suppressWarnings'</li><li>'suppressPackageStartupMessages'</li><li>'suppressMessages'</li><li>'summary.warnings'</li><li>'summary.table'</li><li>'summary.srcref'</li><li>'summary.srcfile'</li><li>'summary.proc_time'</li><li>'Summary.POSIXlt'</li><li>'summary.POSIXlt'</li><li>'Summary.POSIXct'</li><li>'summary.POSIXct'</li><li>'Summary.ordered'</li><li>'Summary.numeric_version'</li><li>'summary.matrix'</li><li>'Summary.factor'</li><li>'summary.factor'</li><li>'Summary.difftime'</li><li>'summary.default'</li><li>'Summary.Date'</li><li>'summary.Date'</li><li>'Summary.data.frame'</li><li>'summary.data.frame'</li><li>'summary.connection'</li><li>'summary'</li><li>'sum'</li><li>'substring&lt;-'</li><li>'substring'</li><li>'substr&lt;-'</li><li>'substr'</li><li>'substitute'</li><li>'subset.matrix'</li><li>'subset.default'</li><li>'subset.data.frame'</li><li>'subset'</li><li>'sub'</li><li>'strwrap'</li><li>'structure'</li><li>'strtrim'</li><li>'strtoi'</li><li>'strsplit'</li><li>'strrep'</li><li>'strptime'</li><li>'strftime'</li><li>'str2lang'</li><li>'str2expression'</li><li>'storage.mode&lt;-'</li><li>'storage.mode'</li><li>'stopifnot'</li><li>⋯</li><li>'$.package_version'</li><li>'$.DLLInfo'</li><li>'$'</li><li>'~'</li><li>'||'</li><li>'|.octmode'</li><li>'|.hexmode'</li><li>'|'</li><li>'&gt;='</li><li>'&gt;'</li><li>'=='</li><li>'='</li><li>'&lt;='</li><li>'&lt;&lt;-'</li><li>'&lt;-'</li><li>'&lt;'</li><li>'+.POSIXt'</li><li>'+.Date'</li><li>'+'</li><li>'^'</li><li>'%x%'</li><li>'%o%'</li><li>'%in%'</li><li>'%%'</li><li>'%/%'</li><li>'%*%'</li><li>'&amp;&amp;'</li><li>'&amp;.octmode'</li><li>'&amp;.hexmode'</li><li>'&amp;'</li><li>'/.difftime'</li><li>'/'</li><li>'*.difftime'</li><li>'*'</li><li>'@&lt;-'</li><li>'@'</li><li>'{'</li><li>'[&lt;-.POSIXlt'</li><li>'[&lt;-.POSIXct'</li><li>'[&lt;-.numeric_version'</li><li>'[&lt;-.factor'</li><li>'[&lt;-.Date'</li><li>'[&lt;-.data.frame'</li><li>'[&lt;-'</li><li>'[[&lt;-.POSIXlt'</li><li>'[[&lt;-.numeric_version'</li><li>'[[&lt;-.factor'</li><li>'[[&lt;-.data.frame'</li><li>'[[&lt;-'</li><li>'[[.POSIXlt'</li><li>'[[.POSIXct'</li><li>'[[.numeric_version'</li><li>'[[.factor'</li><li>'[[.Date'</li><li>'[[.data.frame'</li><li>'[['</li><li>'[.warnings'</li><li>'[.table'</li><li>'[.simple.list'</li><li>'[.POSIXlt'</li><li>'[.POSIXct'</li><li>'[.octmode'</li><li>'[.numeric_version'</li><li>'[.noquote'</li><li>'[.listof'</li><li>'[.hexmode'</li><li>'[.factor'</li><li>'[.DLLInfoList'</li><li>'[.Dlist'</li><li>'[.difftime'</li><li>'[.Date'</li><li>'[.data.frame'</li><li>'[.AsIs'</li><li>'['</li><li>'('</li><li>'.valid.factor'</li><li>'.userHooksEnv'</li><li>'.tryResumeInterrupt'</li><li>'.traceback'</li><li>'.TAOCP1997init'</li><li>'.subset2'</li><li>'.subset'</li><li>'.standard_regexps'</li><li>'.signalSimpleWarning'</li><li>'.set_row_names'</li><li>'.Script'</li><li>'.S3PrimitiveGenerics'</li><li>'.S3method'</li><li>'.S3_methods_table'</li><li>'.rowSums'</li><li>'.rowNamesDF&lt;-'</li><li>'.rowMeans'</li><li>'.row_names_info'</li><li>'.row'</li><li>'.rmpkg'</li><li>'.primUntrace'</li><li>'.primTrace'</li><li>'.Primitive'</li><li>'.POSIXlt'</li><li>'.POSIXct'</li><li>'.popath'</li><li>'.Platform'</li><li>'.packageStartupMessage'</li><li>'.packages'</li><li>'.OptRequireMethods'</li><li>'.Options'</li><li>'.NotYetUsed'</li><li>'.NotYetImplemented'</li><li>'.noGenerics'</li><li>'.methodsNamespace'</li><li>'.mergeImportMethods'</li><li>'.mergeExportMethods'</li><li>'.maskedMsg'</li><li>'.mapply'</li><li>'.makeMessage'</li><li>'.make_numeric_version'</li><li>'.Machine'</li><li>'.Library.site'</li><li>'.Library'</li><li>'.libPaths'</li><li>'.leap.seconds'</li><li>'.Last.value'</li><li>'.kronecker'</li><li>'.knownS3Generics'</li><li>'.kappa_tri'</li><li>'.isOpen'</li><li>'.isMethodsDispatchOn'</li><li>'.Internal'</li><li>'.handleSimpleError'</li><li>'.gtn'</li><li>'.gt'</li><li>'.GlobalEnv'</li><li>'.getRequiredPackages2'</li><li>'.getRequiredPackages'</li><li>'.getNamespaceInfo'</li><li>'.getNamespace'</li><li>'.GenericArgsEnv'</li><li>'.Fortran'</li><li>'.format.zeros'</li><li>'.First.sys'</li><li>'.F_dtrco'</li><li>'.F_dqrxb'</li><li>'.F_dqrrsd'</li><li>'.F_dqrqy'</li><li>'.F_dqrqty'</li><li>'.F_dqrdc2'</li><li>'.F_dqrcf'</li><li>'.F_dchdc'</li><li>'.External2'</li><li>'.External.graphics'</li><li>'.External'</li><li>'.expand_R_libs_env_var'</li><li>'.encode_numeric_version'</li><li>'.dynLibs'</li><li>'.doWrap'</li><li>'.doTrace'</li><li>'.doSortWrap'</li><li>'.difftime'</li><li>'.Devices'</li><li>'.Device'</li><li>'.detach'</li><li>'.Deprecated'</li><li>'.deparseOpts'</li><li>'.Defunct'</li><li>'.decode_numeric_version'</li><li>'.Date'</li><li>'.colSums'</li><li>'.colMeans'</li><li>'.col'</li><li>'.class2'</li><li>'.Call.graphics'</li><li>'.Call'</li><li>'.cache_class'</li><li>'.C_R_removeTaskCallback'</li><li>'.C_R_getTaskCallbackNames'</li><li>'.C_R_addTaskCallback'</li><li>'.C'</li><li>'.bincode'</li><li>'.BaseNamespaceEnv'</li><li>'.AutoloadEnv'</li><li>'.ArgsEnv'</li><li>'.amatch_costs'</li><li>'.amatch_bounds'</li><li>'..getNamespace'</li><li>'..deparseOpts'</li><li>'...length'</li><li>'...elt'</li><li>'.__S3MethodsTable__.'</li><li>'.__H__.rbind'</li><li>'.__H__.cbind'</li><li>'!='</li><li>'!.octmode'</li><li>'!.hexmode'</li><li>'!'</li><li>':::'</li><li>'::'</li><li>':'</li><li>'-.POSIXt'</li><li>'-.Date'</li><li>'-'</li></ol>\n"
            ]
          },
          "metadata": {
            "tags": []
          }
        }
      ]
    },
    {
      "cell_type": "code",
      "metadata": {
        "id": "TeuC3dTbEVLL"
      },
      "source": [
        "curdir<-getwd()"
      ],
      "execution_count": 4,
      "outputs": []
    },
    {
      "cell_type": "code",
      "metadata": {
        "colab": {
          "base_uri": "https://localhost:8080/",
          "height": 34
        },
        "id": "vgxXtD9BEddN",
        "outputId": "fd67d7ac-e17d-47e9-bf63-249ba3faf4c8"
      },
      "source": [
        "curdir"
      ],
      "execution_count": 5,
      "outputs": [
        {
          "output_type": "display_data",
          "data": {
            "text/plain": [
              "[1] \"/content\""
            ],
            "text/latex": "'/content'",
            "text/markdown": "'/content'",
            "text/html": [
              "'/content'"
            ]
          },
          "metadata": {
            "tags": []
          }
        }
      ]
    },
    {
      "cell_type": "code",
      "metadata": {
        "colab": {
          "base_uri": "https://localhost:8080/",
          "height": 34
        },
        "id": "Mt-hv-QnEh3g",
        "outputId": "7be77efc-8b90-4642-b13b-49b961f775fb"
      },
      "source": [
        "ls()"
      ],
      "execution_count": 9,
      "outputs": [
        {
          "output_type": "display_data",
          "data": {
            "text/plain": [
              "[1] \"curdir\""
            ],
            "text/latex": "'curdir'",
            "text/markdown": "'curdir'",
            "text/html": [
              "'curdir'"
            ]
          },
          "metadata": {
            "tags": []
          }
        }
      ]
    },
    {
      "cell_type": "code",
      "metadata": {
        "colab": {
          "base_uri": "https://localhost:8080/",
          "height": 34
        },
        "id": "qpi0lEpkEodq",
        "outputId": "814d46da-479f-4af8-b5ee-cc6b5569ad11"
      },
      "source": [
        "list.files()"
      ],
      "execution_count": 10,
      "outputs": [
        {
          "output_type": "display_data",
          "data": {
            "text/plain": [
              "[1] \"sample_data\""
            ],
            "text/latex": "'sample\\_data'",
            "text/markdown": "'sample_data'",
            "text/html": [
              "'sample_data'"
            ]
          },
          "metadata": {
            "tags": []
          }
        }
      ]
    },
    {
      "cell_type": "code",
      "metadata": {
        "colab": {
          "base_uri": "https://localhost:8080/",
          "height": 17
        },
        "id": "fbGGz_6BEyrJ",
        "outputId": "67e66006-f401-4450-ae0a-4705b0b07d2f"
      },
      "source": [
        "list.dirs('myworkplace')"
      ],
      "execution_count": 11,
      "outputs": [
        {
          "output_type": "display_data",
          "data": {
            "text/plain": [
              "character(0)"
            ],
            "text/latex": "",
            "text/markdown": "",
            "text/html": [
              ""
            ]
          },
          "metadata": {
            "tags": []
          }
        }
      ]
    },
    {
      "cell_type": "code",
      "metadata": {
        "colab": {
          "base_uri": "https://localhost:8080/",
          "height": 34
        },
        "id": "jS1wcOTjE8OG",
        "outputId": "77ed33b1-fd91-49d7-eb82-f92ab653582b"
      },
      "source": [
        "ls()"
      ],
      "execution_count": 12,
      "outputs": [
        {
          "output_type": "display_data",
          "data": {
            "text/plain": [
              "[1] \"curdir\""
            ],
            "text/latex": "'curdir'",
            "text/markdown": "'curdir'",
            "text/html": [
              "'curdir'"
            ]
          },
          "metadata": {
            "tags": []
          }
        }
      ]
    },
    {
      "cell_type": "code",
      "metadata": {
        "colab": {
          "base_uri": "https://localhost:8080/",
          "height": 34
        },
        "id": "X2QVUY7QE9bs",
        "outputId": "7c41c46c-758d-4473-bcb8-41336d8480de"
      },
      "source": [
        "list.files()"
      ],
      "execution_count": 14,
      "outputs": [
        {
          "output_type": "display_data",
          "data": {
            "text/plain": [
              "[1] \"sample_data\""
            ],
            "text/latex": "'sample\\_data'",
            "text/markdown": "'sample_data'",
            "text/html": [
              "'sample_data'"
            ]
          },
          "metadata": {
            "tags": []
          }
        }
      ]
    },
    {
      "cell_type": "code",
      "metadata": {
        "colab": {
          "base_uri": "https://localhost:8080/",
          "height": 34
        },
        "id": "4BrWcfpwE_Ir",
        "outputId": "ac613ba5-2722-4e39-ff7c-e43ddcf2b3fc"
      },
      "source": [
        "list.dirs('sample_data')"
      ],
      "execution_count": 15,
      "outputs": [
        {
          "output_type": "display_data",
          "data": {
            "text/plain": [
              "[1] \"sample_data\""
            ],
            "text/latex": "'sample\\_data'",
            "text/markdown": "'sample_data'",
            "text/html": [
              "'sample_data'"
            ]
          },
          "metadata": {
            "tags": []
          }
        }
      ]
    },
    {
      "cell_type": "code",
      "metadata": {
        "id": "-KGkTOAAFDVL"
      },
      "source": [
        "old_dir<-getwd()"
      ],
      "execution_count": 18,
      "outputs": []
    },
    {
      "cell_type": "code",
      "metadata": {
        "id": "uhjqN9A9FHEe"
      },
      "source": [
        "dir.create('myworkplace')"
      ],
      "execution_count": 19,
      "outputs": []
    },
    {
      "cell_type": "code",
      "metadata": {
        "colab": {
          "base_uri": "https://localhost:8080/",
          "height": 34
        },
        "id": "iNlvxSjqFPuZ",
        "outputId": "80c4c590-114b-4764-9df7-ca463d7a59dd"
      },
      "source": [
        "list.dirs()"
      ],
      "execution_count": 21,
      "outputs": [
        {
          "output_type": "display_data",
          "data": {
            "text/plain": [
              "[1] \".\"                         \"./.config\"                \n",
              "[3] \"./.config/configurations\"  \"./.config/logs\"           \n",
              "[5] \"./.config/logs/2021.03.01\" \"./myworkplace\"            \n",
              "[7] \"./sample_data\"            "
            ],
            "text/latex": "\\begin{enumerate*}\n\\item '.'\n\\item './.config'\n\\item './.config/configurations'\n\\item './.config/logs'\n\\item './.config/logs/2021.03.01'\n\\item './myworkplace'\n\\item './sample\\_data'\n\\end{enumerate*}\n",
            "text/markdown": "1. '.'\n2. './.config'\n3. './.config/configurations'\n4. './.config/logs'\n5. './.config/logs/2021.03.01'\n6. './myworkplace'\n7. './sample_data'\n\n\n",
            "text/html": [
              "<style>\n",
              ".list-inline {list-style: none; margin:0; padding: 0}\n",
              ".list-inline>li {display: inline-block}\n",
              ".list-inline>li:not(:last-child)::after {content: \"\\00b7\"; padding: 0 .5ex}\n",
              "</style>\n",
              "<ol class=list-inline><li>'.'</li><li>'./.config'</li><li>'./.config/configurations'</li><li>'./.config/logs'</li><li>'./.config/logs/2021.03.01'</li><li>'./myworkplace'</li><li>'./sample_data'</li></ol>\n"
            ]
          },
          "metadata": {
            "tags": []
          }
        }
      ]
    },
    {
      "cell_type": "code",
      "metadata": {
        "colab": {
          "base_uri": "https://localhost:8080/",
          "height": 34
        },
        "id": "6-J7vRXNFSjh",
        "outputId": "899132f1-f29b-4d0f-cf01-0e67ae335519"
      },
      "source": [
        "getwd()"
      ],
      "execution_count": 22,
      "outputs": [
        {
          "output_type": "display_data",
          "data": {
            "text/plain": [
              "[1] \"/content\""
            ],
            "text/latex": "'/content'",
            "text/markdown": "'/content'",
            "text/html": [
              "'/content'"
            ]
          },
          "metadata": {
            "tags": []
          }
        }
      ]
    },
    {
      "cell_type": "code",
      "metadata": {
        "id": "VwDZMYvdFxbv"
      },
      "source": [
        "dir.create('./myworkplace/exp1')"
      ],
      "execution_count": 28,
      "outputs": []
    },
    {
      "cell_type": "code",
      "metadata": {
        "id": "EVaJvMNvF1yY"
      },
      "source": [
        "dir.create('./myworkplace/exp2')"
      ],
      "execution_count": 29,
      "outputs": []
    },
    {
      "cell_type": "code",
      "metadata": {
        "id": "Z4WhpJQSGfzc"
      },
      "source": [
        "setwd('myworkplace')"
      ],
      "execution_count": 30,
      "outputs": []
    },
    {
      "cell_type": "code",
      "metadata": {
        "colab": {
          "base_uri": "https://localhost:8080/",
          "height": 34
        },
        "id": "-VUujCKQGuSe",
        "outputId": "f313e97e-38ef-4ced-ff61-cd3df145abfb"
      },
      "source": [
        "list.dirs()"
      ],
      "execution_count": 35,
      "outputs": [
        {
          "output_type": "display_data",
          "data": {
            "text/plain": [
              "[1] \".\"      \"./exp1\" \"./exp2\""
            ],
            "text/latex": "\\begin{enumerate*}\n\\item '.'\n\\item './exp1'\n\\item './exp2'\n\\end{enumerate*}\n",
            "text/markdown": "1. '.'\n2. './exp1'\n3. './exp2'\n\n\n",
            "text/html": [
              "<style>\n",
              ".list-inline {list-style: none; margin:0; padding: 0}\n",
              ".list-inline>li {display: inline-block}\n",
              ".list-inline>li:not(:last-child)::after {content: \"\\00b7\"; padding: 0 .5ex}\n",
              "</style>\n",
              "<ol class=list-inline><li>'.'</li><li>'./exp1'</li><li>'./exp2'</li></ol>\n"
            ]
          },
          "metadata": {
            "tags": []
          }
        }
      ]
    },
    {
      "cell_type": "code",
      "metadata": {
        "id": "rYAJx0XjGwXt"
      },
      "source": [
        "setwd('exp1')"
      ],
      "execution_count": 36,
      "outputs": []
    },
    {
      "cell_type": "code",
      "metadata": {
        "colab": {
          "base_uri": "https://localhost:8080/",
          "height": 34
        },
        "id": "S2qiu3JuG9In",
        "outputId": "95f725e0-4f9d-420d-e07e-956f72d0f78c"
      },
      "source": [
        "file.create('my_file.txt')"
      ],
      "execution_count": 37,
      "outputs": [
        {
          "output_type": "display_data",
          "data": {
            "text/plain": [
              "[1] TRUE"
            ],
            "text/latex": "TRUE",
            "text/markdown": "TRUE",
            "text/html": [
              "TRUE"
            ]
          },
          "metadata": {
            "tags": []
          }
        }
      ]
    },
    {
      "cell_type": "code",
      "metadata": {
        "colab": {
          "base_uri": "https://localhost:8080/",
          "height": 123
        },
        "id": "DQt9pSi2HS_x",
        "outputId": "f05989c8-3c8d-4b7f-f05d-82143d79f39e"
      },
      "source": [
        "file.info('my_file.txt')"
      ],
      "execution_count": 38,
      "outputs": [
        {
          "output_type": "display_data",
          "data": {
            "text/plain": [
              "            size isdir mode mtime               ctime              \n",
              "my_file.txt 0    FALSE 644  2021-03-05 20:38:47 2021-03-05 20:38:47\n",
              "            atime               uid gid uname grname\n",
              "my_file.txt 2021-03-05 20:38:47 0   0   root  root  "
            ],
            "text/latex": "A data.frame: 1 × 10\n\\begin{tabular}{r|llllllllll}\n  & size & isdir & mode & mtime & ctime & atime & uid & gid & uname & grname\\\\\n  & <dbl> & <lgl> & <octmode> & <dttm> & <dttm> & <dttm> & <int> & <int> & <chr> & <chr>\\\\\n\\hline\n\tmy\\_file.txt & 0 & FALSE & 644 & 2021-03-05 20:38:47 & 2021-03-05 20:38:47 & 2021-03-05 20:38:47 & 0 & 0 & root & root\\\\\n\\end{tabular}\n",
            "text/markdown": "\nA data.frame: 1 × 10\n\n| <!--/--> | size &lt;dbl&gt; | isdir &lt;lgl&gt; | mode &lt;octmode&gt; | mtime &lt;dttm&gt; | ctime &lt;dttm&gt; | atime &lt;dttm&gt; | uid &lt;int&gt; | gid &lt;int&gt; | uname &lt;chr&gt; | grname &lt;chr&gt; |\n|---|---|---|---|---|---|---|---|---|---|---|\n| my_file.txt | 0 | FALSE | 644 | 2021-03-05 20:38:47 | 2021-03-05 20:38:47 | 2021-03-05 20:38:47 | 0 | 0 | root | root |\n\n",
            "text/html": [
              "<table class=\"dataframe\">\n",
              "<caption>A data.frame: 1 × 10</caption>\n",
              "<thead>\n",
              "\t<tr><th></th><th scope=col>size</th><th scope=col>isdir</th><th scope=col>mode</th><th scope=col>mtime</th><th scope=col>ctime</th><th scope=col>atime</th><th scope=col>uid</th><th scope=col>gid</th><th scope=col>uname</th><th scope=col>grname</th></tr>\n",
              "\t<tr><th></th><th scope=col>&lt;dbl&gt;</th><th scope=col>&lt;lgl&gt;</th><th scope=col>&lt;octmode&gt;</th><th scope=col>&lt;dttm&gt;</th><th scope=col>&lt;dttm&gt;</th><th scope=col>&lt;dttm&gt;</th><th scope=col>&lt;int&gt;</th><th scope=col>&lt;int&gt;</th><th scope=col>&lt;chr&gt;</th><th scope=col>&lt;chr&gt;</th></tr>\n",
              "</thead>\n",
              "<tbody>\n",
              "\t<tr><th scope=row>my_file.txt</th><td>0</td><td>FALSE</td><td>644</td><td>2021-03-05 20:38:47</td><td>2021-03-05 20:38:47</td><td>2021-03-05 20:38:47</td><td>0</td><td>0</td><td>root</td><td>root</td></tr>\n",
              "</tbody>\n",
              "</table>\n"
            ]
          },
          "metadata": {
            "tags": []
          }
        }
      ]
    },
    {
      "cell_type": "code",
      "metadata": {
        "colab": {
          "base_uri": "https://localhost:8080/",
          "height": 34
        },
        "id": "0VLKx1z2HaLE",
        "outputId": "1851cdaf-3158-4a88-da60-326086fcf189"
      },
      "source": [
        "file.copy('my_file.txt','my_file1.txt')"
      ],
      "execution_count": 39,
      "outputs": [
        {
          "output_type": "display_data",
          "data": {
            "text/plain": [
              "[1] TRUE"
            ],
            "text/latex": "TRUE",
            "text/markdown": "TRUE",
            "text/html": [
              "TRUE"
            ]
          },
          "metadata": {
            "tags": []
          }
        }
      ]
    },
    {
      "cell_type": "code",
      "metadata": {
        "colab": {
          "base_uri": "https://localhost:8080/",
          "height": 123
        },
        "id": "sn92gpFdHpzL",
        "outputId": "c63f92e9-2abd-4aab-c327-ecdd4b351737"
      },
      "source": [
        "file.info('my_file1.txt')"
      ],
      "execution_count": 40,
      "outputs": [
        {
          "output_type": "display_data",
          "data": {
            "text/plain": [
              "             size isdir mode mtime               ctime              \n",
              "my_file1.txt 0    FALSE 644  2021-03-05 20:40:20 2021-03-05 20:40:20\n",
              "             atime               uid gid uname grname\n",
              "my_file1.txt 2021-03-05 20:40:20 0   0   root  root  "
            ],
            "text/latex": "A data.frame: 1 × 10\n\\begin{tabular}{r|llllllllll}\n  & size & isdir & mode & mtime & ctime & atime & uid & gid & uname & grname\\\\\n  & <dbl> & <lgl> & <octmode> & <dttm> & <dttm> & <dttm> & <int> & <int> & <chr> & <chr>\\\\\n\\hline\n\tmy\\_file1.txt & 0 & FALSE & 644 & 2021-03-05 20:40:20 & 2021-03-05 20:40:20 & 2021-03-05 20:40:20 & 0 & 0 & root & root\\\\\n\\end{tabular}\n",
            "text/markdown": "\nA data.frame: 1 × 10\n\n| <!--/--> | size &lt;dbl&gt; | isdir &lt;lgl&gt; | mode &lt;octmode&gt; | mtime &lt;dttm&gt; | ctime &lt;dttm&gt; | atime &lt;dttm&gt; | uid &lt;int&gt; | gid &lt;int&gt; | uname &lt;chr&gt; | grname &lt;chr&gt; |\n|---|---|---|---|---|---|---|---|---|---|---|\n| my_file1.txt | 0 | FALSE | 644 | 2021-03-05 20:40:20 | 2021-03-05 20:40:20 | 2021-03-05 20:40:20 | 0 | 0 | root | root |\n\n",
            "text/html": [
              "<table class=\"dataframe\">\n",
              "<caption>A data.frame: 1 × 10</caption>\n",
              "<thead>\n",
              "\t<tr><th></th><th scope=col>size</th><th scope=col>isdir</th><th scope=col>mode</th><th scope=col>mtime</th><th scope=col>ctime</th><th scope=col>atime</th><th scope=col>uid</th><th scope=col>gid</th><th scope=col>uname</th><th scope=col>grname</th></tr>\n",
              "\t<tr><th></th><th scope=col>&lt;dbl&gt;</th><th scope=col>&lt;lgl&gt;</th><th scope=col>&lt;octmode&gt;</th><th scope=col>&lt;dttm&gt;</th><th scope=col>&lt;dttm&gt;</th><th scope=col>&lt;dttm&gt;</th><th scope=col>&lt;int&gt;</th><th scope=col>&lt;int&gt;</th><th scope=col>&lt;chr&gt;</th><th scope=col>&lt;chr&gt;</th></tr>\n",
              "</thead>\n",
              "<tbody>\n",
              "\t<tr><th scope=row>my_file1.txt</th><td>0</td><td>FALSE</td><td>644</td><td>2021-03-05 20:40:20</td><td>2021-03-05 20:40:20</td><td>2021-03-05 20:40:20</td><td>0</td><td>0</td><td>root</td><td>root</td></tr>\n",
              "</tbody>\n",
              "</table>\n"
            ]
          },
          "metadata": {
            "tags": []
          }
        }
      ]
    },
    {
      "cell_type": "code",
      "metadata": {
        "colab": {
          "base_uri": "https://localhost:8080/",
          "height": 34
        },
        "id": "IQ5Ukh2cHtkQ",
        "outputId": "91cc57fe-e994-4bd4-d3f8-5b4713ec50d6"
      },
      "source": [
        "dir()"
      ],
      "execution_count": 44,
      "outputs": [
        {
          "output_type": "display_data",
          "data": {
            "text/plain": [
              "[1] \"my_file.txt\"  \"my_file1.txt\""
            ],
            "text/latex": "\\begin{enumerate*}\n\\item 'my\\_file.txt'\n\\item 'my\\_file1.txt'\n\\end{enumerate*}\n",
            "text/markdown": "1. 'my_file.txt'\n2. 'my_file1.txt'\n\n\n",
            "text/html": [
              "<style>\n",
              ".list-inline {list-style: none; margin:0; padding: 0}\n",
              ".list-inline>li {display: inline-block}\n",
              ".list-inline>li:not(:last-child)::after {content: \"\\00b7\"; padding: 0 .5ex}\n",
              "</style>\n",
              "<ol class=list-inline><li>'my_file.txt'</li><li>'my_file1.txt'</li></ol>\n"
            ]
          },
          "metadata": {
            "tags": []
          }
        }
      ]
    },
    {
      "cell_type": "code",
      "metadata": {
        "id": "JFQHjAwFH-Ma"
      },
      "source": [
        "setwd('/content')"
      ],
      "execution_count": 46,
      "outputs": []
    },
    {
      "cell_type": "code",
      "metadata": {
        "colab": {
          "base_uri": "https://localhost:8080/",
          "height": 34
        },
        "id": "31UXa5lzIZ89",
        "outputId": "d720c7eb-66bd-45b7-ccad-925da2e055b3"
      },
      "source": [
        "list.dirs()"
      ],
      "execution_count": 47,
      "outputs": [
        {
          "output_type": "display_data",
          "data": {
            "text/plain": [
              "[1] \".\"                         \"./.config\"                \n",
              "[3] \"./.config/configurations\"  \"./.config/logs\"           \n",
              "[5] \"./.config/logs/2021.03.01\" \"./myworkplace\"            \n",
              "[7] \"./myworkplace/exp1\"        \"./myworkplace/exp2\"       \n",
              "[9] \"./sample_data\"            "
            ],
            "text/latex": "\\begin{enumerate*}\n\\item '.'\n\\item './.config'\n\\item './.config/configurations'\n\\item './.config/logs'\n\\item './.config/logs/2021.03.01'\n\\item './myworkplace'\n\\item './myworkplace/exp1'\n\\item './myworkplace/exp2'\n\\item './sample\\_data'\n\\end{enumerate*}\n",
            "text/markdown": "1. '.'\n2. './.config'\n3. './.config/configurations'\n4. './.config/logs'\n5. './.config/logs/2021.03.01'\n6. './myworkplace'\n7. './myworkplace/exp1'\n8. './myworkplace/exp2'\n9. './sample_data'\n\n\n",
            "text/html": [
              "<style>\n",
              ".list-inline {list-style: none; margin:0; padding: 0}\n",
              ".list-inline>li {display: inline-block}\n",
              ".list-inline>li:not(:last-child)::after {content: \"\\00b7\"; padding: 0 .5ex}\n",
              "</style>\n",
              "<ol class=list-inline><li>'.'</li><li>'./.config'</li><li>'./.config/configurations'</li><li>'./.config/logs'</li><li>'./.config/logs/2021.03.01'</li><li>'./myworkplace'</li><li>'./myworkplace/exp1'</li><li>'./myworkplace/exp2'</li><li>'./sample_data'</li></ol>\n"
            ]
          },
          "metadata": {
            "tags": []
          }
        }
      ]
    },
    {
      "cell_type": "code",
      "metadata": {
        "id": "tNK7ph47IclY"
      },
      "source": [
        "setwd('/content/myworkplace/exp1')"
      ],
      "execution_count": 49,
      "outputs": []
    },
    {
      "cell_type": "code",
      "metadata": {
        "colab": {
          "base_uri": "https://localhost:8080/",
          "height": 34
        },
        "id": "R9q-8sMDIowV",
        "outputId": "21ab7a1d-ba44-4e6c-d425-0d94a64cafe4"
      },
      "source": [
        "list.files()"
      ],
      "execution_count": 51,
      "outputs": [
        {
          "output_type": "display_data",
          "data": {
            "text/plain": [
              "[1] \"my_file.txt\"  \"my_file1.txt\""
            ],
            "text/latex": "\\begin{enumerate*}\n\\item 'my\\_file.txt'\n\\item 'my\\_file1.txt'\n\\end{enumerate*}\n",
            "text/markdown": "1. 'my_file.txt'\n2. 'my_file1.txt'\n\n\n",
            "text/html": [
              "<style>\n",
              ".list-inline {list-style: none; margin:0; padding: 0}\n",
              ".list-inline>li {display: inline-block}\n",
              ".list-inline>li:not(:last-child)::after {content: \"\\00b7\"; padding: 0 .5ex}\n",
              "</style>\n",
              "<ol class=list-inline><li>'my_file.txt'</li><li>'my_file1.txt'</li></ol>\n"
            ]
          },
          "metadata": {
            "tags": []
          }
        }
      ]
    },
    {
      "cell_type": "code",
      "metadata": {
        "colab": {
          "base_uri": "https://localhost:8080/"
        },
        "id": "dLMmQwJbIsCK",
        "outputId": "435c12e2-deed-49ad-ff59-8dcc1073ac91"
      },
      "source": [
        "print(file.access('my_file.txt'))"
      ],
      "execution_count": 66,
      "outputs": [
        {
          "output_type": "stream",
          "text": [
            "my_file.txt \n",
            "          0 \n"
          ],
          "name": "stdout"
        }
      ]
    },
    {
      "cell_type": "code",
      "metadata": {
        "colab": {
          "base_uri": "https://localhost:8080/"
        },
        "id": "uA5CNmwTJFqg",
        "outputId": "834eb384-7957-47e9-b349-8ad261206d34"
      },
      "source": [
        "print(file.access('my_file1.txt'))"
      ],
      "execution_count": 60,
      "outputs": [
        {
          "output_type": "stream",
          "text": [
            "my_file1.txt \n",
            "           0 \n"
          ],
          "name": "stdout"
        }
      ]
    },
    {
      "cell_type": "code",
      "metadata": {
        "id": "jmVYCkL3Jpfu"
      },
      "source": [
        ""
      ],
      "execution_count": null,
      "outputs": []
    }
  ]
}