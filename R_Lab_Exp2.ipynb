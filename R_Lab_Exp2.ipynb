{
  "nbformat": 4,
  "nbformat_minor": 0,
  "metadata": {
    "colab": {
      "name": "R_Lab_Exp2.ipynb",
      "provenance": []
    },
    "kernelspec": {
      "name": "python3",
      "display_name": "Python 3"
    },
    "accelerator": "GPU"
  },
  "cells": [
    {
      "cell_type": "code",
      "metadata": {
        "id": "eszEXGXzzCTD"
      },
      "source": [
        "%load_ext rpy2.ipython"
      ],
      "execution_count": 7,
      "outputs": []
    },
    {
      "cell_type": "code",
      "metadata": {
        "colab": {
          "base_uri": "https://localhost:8080/",
          "height": 305
        },
        "id": "T_KNR31GzD-i",
        "outputId": "88b16749-17b1-4182-996f-c050885a2277"
      },
      "source": [
        "%R R.Version()"
      ],
      "execution_count": 8,
      "outputs": [
        {
          "output_type": "execute_result",
          "data": {
            "text/html": [
              "\n",
              "        <span>ListVector with 14 elements.</span>\n",
              "        <table>\n",
              "        <tbody>\n",
              "        \n",
              "          <tr>\n",
              "            <th>\n",
              "            platform\n",
              "            </th>\n",
              "            <td>\n",
              "            \n",
              "        <span>StrVector with 1 elements.</span>\n",
              "        <table>\n",
              "        <tbody>\n",
              "          <tr>\n",
              "          \n",
              "            <td>\n",
              "            'x86_64-pc-linux-gnu'\n",
              "            </td>\n",
              "          \n",
              "          </tr>\n",
              "        </tbody>\n",
              "        </table>\n",
              "        \n",
              "            </td>\n",
              "          </tr>\n",
              "        \n",
              "          <tr>\n",
              "            <th>\n",
              "            arch\n",
              "            </th>\n",
              "            <td>\n",
              "            \n",
              "        <span>StrVector with 1 elements.</span>\n",
              "        <table>\n",
              "        <tbody>\n",
              "          <tr>\n",
              "          \n",
              "            <td>\n",
              "            'x86_64'\n",
              "            </td>\n",
              "          \n",
              "          </tr>\n",
              "        </tbody>\n",
              "        </table>\n",
              "        \n",
              "            </td>\n",
              "          </tr>\n",
              "        \n",
              "          <tr>\n",
              "            <th>\n",
              "            os\n",
              "            </th>\n",
              "            <td>\n",
              "            \n",
              "        <span>StrVector with 1 elements.</span>\n",
              "        <table>\n",
              "        <tbody>\n",
              "          <tr>\n",
              "          \n",
              "            <td>\n",
              "            'linux-gnu'\n",
              "            </td>\n",
              "          \n",
              "          </tr>\n",
              "        </tbody>\n",
              "        </table>\n",
              "        \n",
              "            </td>\n",
              "          </tr>\n",
              "        \n",
              "          <tr>\n",
              "            <th>\n",
              "            ...\n",
              "            </th>\n",
              "            <td>\n",
              "            ...\n",
              "            </td>\n",
              "          </tr>\n",
              "        \n",
              "          <tr>\n",
              "            <th>\n",
              "            language\n",
              "            </th>\n",
              "            <td>\n",
              "            \n",
              "        <span>StrVector with 1 elements.</span>\n",
              "        <table>\n",
              "        <tbody>\n",
              "          <tr>\n",
              "          \n",
              "            <td>\n",
              "            'R'\n",
              "            </td>\n",
              "          \n",
              "          </tr>\n",
              "        </tbody>\n",
              "        </table>\n",
              "        \n",
              "            </td>\n",
              "          </tr>\n",
              "        \n",
              "          <tr>\n",
              "            <th>\n",
              "            version.string\n",
              "            </th>\n",
              "            <td>\n",
              "            \n",
              "        <span>StrVector with 1 elements.</span>\n",
              "        <table>\n",
              "        <tbody>\n",
              "          <tr>\n",
              "          \n",
              "            <td>\n",
              "            'R version 4.0.4 (2021-02-15)'\n",
              "            </td>\n",
              "          \n",
              "          </tr>\n",
              "        </tbody>\n",
              "        </table>\n",
              "        \n",
              "            </td>\n",
              "          </tr>\n",
              "        \n",
              "          <tr>\n",
              "            <th>\n",
              "            nickname\n",
              "            </th>\n",
              "            <td>\n",
              "            \n",
              "        <span>StrVector with 1 elements.</span>\n",
              "        <table>\n",
              "        <tbody>\n",
              "          <tr>\n",
              "          \n",
              "            <td>\n",
              "            'Lost Library Book'\n",
              "            </td>\n",
              "          \n",
              "          </tr>\n",
              "        </tbody>\n",
              "        </table>\n",
              "        \n",
              "            </td>\n",
              "          </tr>\n",
              "        \n",
              "        </tbody>\n",
              "        </table>\n",
              "        "
            ],
            "text/plain": [
              "<rpy2.robjects.vectors.ListVector object at 0x7f646ac84370> [RTYPES.VECSXP]\n",
              "R classes: ('list',)\n",
              "[StrSexpVe..., StrSexpVe..., StrSexpVe..., StrSexpVe..., ..., StrSexpVe..., StrSexpVe..., StrSexpVe..., StrSexpVe...]\n",
              "  platform: <class 'rpy2.robjects.vectors.StrVector'>\n",
              "  <rpy2.robjects.vectors.StrVector object at 0x7f64606d8140> [RTYPES.STRSXP]\n",
              "R classes: ('character',)\n",
              "['x86_64-pc-linux-gnu']\n",
              "  arch: <class 'rpy2.robjects.vectors.StrVector'>\n",
              "  <rpy2.robjects.vectors.StrVector object at 0x7f646070f410> [RTYPES.STRSXP]\n",
              "R classes: ('character',)\n",
              "['x86_64']\n",
              "  os: <class 'rpy2.robjects.vectors.StrVector'>\n",
              "  <rpy2.robjects.vectors.StrVector object at 0x7f6460719c30> [RTYPES.STRSXP]\n",
              "R classes: ('character',)\n",
              "['linux-gnu']\n",
              "  system: <class 'rpy2.robjects.vectors.StrVector'>\n",
              "  <rpy2.robjects.vectors.StrVector object at 0x7f6460719b90> [RTYPES.STRSXP]\n",
              "R classes: ('character',)\n",
              "['x86_64, linux-gnu']\n",
              "...\n",
              "  major: <class 'rpy2.robjects.vectors.StrVector'>\n",
              "  <rpy2.robjects.vectors.StrVector object at 0x7f6460719050> [RTYPES.STRSXP]\n",
              "R classes: ('character',)\n",
              "['80002']\n",
              "  minor: <class 'rpy2.robjects.vectors.StrVector'>\n",
              "  <rpy2.robjects.vectors.StrVector object at 0x7f6460746820> [RTYPES.STRSXP]\n",
              "R classes: ('character',)\n",
              "['R']\n",
              "  year: <class 'rpy2.robjects.vectors.StrVector'>\n",
              "  <rpy2.robjects.vectors.StrVector object at 0x7f64607468c0> [RTYPES.STRSXP]\n",
              "R classes: ('character',)\n",
              "['R version 4.0.4 (2021-02-15)']\n",
              "  month: <class 'rpy2.robjects.vectors.StrVector'>\n",
              "  <rpy2.robjects.vectors.StrVector object at 0x7f64607467d0> [RTYPES.STRSXP]\n",
              "R classes: ('character',)\n",
              "['Lost Library Book']"
            ]
          },
          "metadata": {
            "tags": []
          },
          "execution_count": 8
        }
      ]
    },
    {
      "cell_type": "code",
      "metadata": {
        "colab": {
          "base_uri": "https://localhost:8080/"
        },
        "id": "qWZ353gpzIRk",
        "outputId": "593afc7e-2725-416c-87fd-ec44f7029ec0"
      },
      "source": [
        "%R install.packages(\"vctrs\")"
      ],
      "execution_count": 9,
      "outputs": [
        {
          "output_type": "stream",
          "text": [
            "R[write to console]: Installing package into ‘/usr/local/lib/R/site-library’\n",
            "(as ‘lib’ is unspecified)\n",
            "\n",
            "R[write to console]: trying URL 'https://cran.rstudio.com/src/contrib/vctrs_0.3.6.tar.gz'\n",
            "\n",
            "R[write to console]: Content type 'application/x-gzip'\n",
            "R[write to console]:  length 778016 bytes (759 KB)\n",
            "\n",
            "R[write to console]: =\n",
            "R[write to console]: =\n",
            "R[write to console]: =\n",
            "R[write to console]: =\n",
            "R[write to console]: =\n",
            "R[write to console]: =\n",
            "R[write to console]: =\n",
            "R[write to console]: =\n",
            "R[write to console]: =\n",
            "R[write to console]: =\n",
            "R[write to console]: =\n",
            "R[write to console]: =\n",
            "R[write to console]: =\n",
            "R[write to console]: =\n",
            "R[write to console]: =\n",
            "R[write to console]: =\n",
            "R[write to console]: =\n",
            "R[write to console]: =\n",
            "R[write to console]: =\n",
            "R[write to console]: =\n",
            "R[write to console]: =\n",
            "R[write to console]: =\n",
            "R[write to console]: =\n",
            "R[write to console]: =\n",
            "R[write to console]: =\n",
            "R[write to console]: =\n",
            "R[write to console]: =\n",
            "R[write to console]: =\n",
            "R[write to console]: =\n",
            "R[write to console]: =\n",
            "R[write to console]: =\n",
            "R[write to console]: =\n",
            "R[write to console]: =\n",
            "R[write to console]: =\n",
            "R[write to console]: =\n",
            "R[write to console]: =\n",
            "R[write to console]: =\n",
            "R[write to console]: =\n",
            "R[write to console]: =\n",
            "R[write to console]: =\n",
            "R[write to console]: =\n",
            "R[write to console]: =\n",
            "R[write to console]: =\n",
            "R[write to console]: =\n",
            "R[write to console]: =\n",
            "R[write to console]: =\n",
            "R[write to console]: =\n",
            "R[write to console]: =\n",
            "R[write to console]: =\n",
            "R[write to console]: =\n",
            "R[write to console]: \n",
            "\n",
            "R[write to console]: downloaded 759 KB\n",
            "\n",
            "\n",
            "R[write to console]: \n",
            "\n",
            "R[write to console]: \n",
            "R[write to console]: The downloaded source packages are in\n",
            "\t‘/tmp/Rtmp9TffYP/downloaded_packages’\n",
            "R[write to console]: \n",
            "R[write to console]: \n",
            "\n"
          ],
          "name": "stderr"
        }
      ]
    },
    {
      "cell_type": "code",
      "metadata": {
        "colab": {
          "base_uri": "https://localhost:8080/"
        },
        "id": "H1vPLP9Y1PoD",
        "outputId": "d5119a7f-5c43-4790-a1f6-72be147d467e"
      },
      "source": [
        "%R a<-rnorm(20)"
      ],
      "execution_count": 10,
      "outputs": [
        {
          "output_type": "execute_result",
          "data": {
            "text/plain": [
              "array([-0.4984016 ,  0.83366693, -0.19827633,  0.65775652, -1.62107658,\n",
              "        0.39453297,  0.50709587,  0.62109276, -2.55916908,  0.70113119,\n",
              "       -0.34950894,  0.21286597,  1.03690083,  0.54642211, -0.34826612,\n",
              "        0.75632286, -0.07613707,  0.49897951, -0.14780656,  0.7123868 ])"
            ]
          },
          "metadata": {
            "tags": []
          },
          "execution_count": 10
        }
      ]
    },
    {
      "cell_type": "code",
      "metadata": {
        "colab": {
          "base_uri": "https://localhost:8080/",
          "height": 55
        },
        "id": "hhnqv2B33XRg",
        "outputId": "b7f1a595-dedc-4b08-8801-6b5a9d392511"
      },
      "source": [
        "%R b <- rep(NA, 20)\r\n",
        "%R b\r\n",
        "%R class(b)"
      ],
      "execution_count": 11,
      "outputs": [
        {
          "output_type": "execute_result",
          "data": {
            "text/html": [
              "\n",
              "        <span>StrVector with 1 elements.</span>\n",
              "        <table>\n",
              "        <tbody>\n",
              "          <tr>\n",
              "          \n",
              "            <td>\n",
              "            'logical'\n",
              "            </td>\n",
              "          \n",
              "          </tr>\n",
              "        </tbody>\n",
              "        </table>\n",
              "        "
            ],
            "text/plain": [
              "<rpy2.robjects.vectors.StrVector object at 0x7f64606e9af0> [RTYPES.STRSXP]\n",
              "R classes: ('character',)\n",
              "['logical']"
            ]
          },
          "metadata": {
            "tags": []
          },
          "execution_count": 11
        }
      ]
    },
    {
      "cell_type": "code",
      "metadata": {
        "colab": {
          "base_uri": "https://localhost:8080/"
        },
        "id": "IFhPFRS15CN_",
        "outputId": "4c0d0701-1283-48bf-9927-40dd8f9ef2ea"
      },
      "source": [
        "%R x <- c(a,b)"
      ],
      "execution_count": 12,
      "outputs": [
        {
          "output_type": "execute_result",
          "data": {
            "text/plain": [
              "array([-0.4984016 ,  0.83366693, -0.19827633,  0.65775652, -1.62107658,\n",
              "        0.39453297,  0.50709587,  0.62109276, -2.55916908,  0.70113119,\n",
              "       -0.34950894,  0.21286597,  1.03690083,  0.54642211, -0.34826612,\n",
              "        0.75632286, -0.07613707,  0.49897951, -0.14780656,  0.7123868 ,\n",
              "               nan,         nan,         nan,         nan,         nan,\n",
              "               nan,         nan,         nan,         nan,         nan,\n",
              "               nan,         nan,         nan,         nan,         nan,\n",
              "               nan,         nan,         nan,         nan,         nan])"
            ]
          },
          "metadata": {
            "tags": []
          },
          "execution_count": 12
        }
      ]
    },
    {
      "cell_type": "code",
      "metadata": {
        "colab": {
          "base_uri": "https://localhost:8080/"
        },
        "id": "G9n8VHrC5i48",
        "outputId": "b83db0e7-68bc-40b3-c300-b07a5554b312"
      },
      "source": [
        "%R x <- sample(x, 20 , replace= FALSE)\r\n",
        "%R x"
      ],
      "execution_count": 13,
      "outputs": [
        {
          "output_type": "execute_result",
          "data": {
            "text/plain": [
              "array([        nan,         nan, -0.4984016 ,  0.62109276, -0.19827633,\n",
              "        0.39453297,         nan,         nan, -2.55916908,  0.7123868 ,\n",
              "               nan,         nan,         nan,         nan,         nan,\n",
              "        0.54642211,         nan,         nan,  1.03690083,  0.83366693])"
            ]
          },
          "metadata": {
            "tags": []
          },
          "execution_count": 13
        }
      ]
    },
    {
      "cell_type": "code",
      "metadata": {
        "colab": {
          "base_uri": "https://localhost:8080/"
        },
        "id": "ccbC8TFE5sDa",
        "outputId": "436ea289-62bc-4428-ab24-38248d467fb7"
      },
      "source": [
        "%R y<-x[10:15]\r\n",
        "%R y"
      ],
      "execution_count": 20,
      "outputs": [
        {
          "output_type": "execute_result",
          "data": {
            "text/plain": [
              "array([0.7123868,       nan,       nan,       nan,       nan,       nan])"
            ]
          },
          "metadata": {
            "tags": []
          },
          "execution_count": 20
        }
      ]
    },
    {
      "cell_type": "code",
      "metadata": {
        "colab": {
          "base_uri": "https://localhost:8080/"
        },
        "id": "iAULxMVT5vXE",
        "outputId": "9ae897fe-5e41-4e85-f193-7cb3880c54f8"
      },
      "source": [
        "%R sum(is.na(x))"
      ],
      "execution_count": 21,
      "outputs": [
        {
          "output_type": "execute_result",
          "data": {
            "text/plain": [
              "array([11], dtype=int32)"
            ]
          },
          "metadata": {
            "tags": []
          },
          "execution_count": 21
        }
      ]
    },
    {
      "cell_type": "code",
      "metadata": {
        "colab": {
          "base_uri": "https://localhost:8080/"
        },
        "id": "pYOCc4rg6aBL",
        "outputId": "8d0f6f97-0f43-47ac-ded6-d50795ce7b50"
      },
      "source": [
        "%R sum(is.na(y))"
      ],
      "execution_count": 22,
      "outputs": [
        {
          "output_type": "execute_result",
          "data": {
            "text/plain": [
              "array([5], dtype=int32)"
            ]
          },
          "metadata": {
            "tags": []
          },
          "execution_count": 22
        }
      ]
    }
  ]
}