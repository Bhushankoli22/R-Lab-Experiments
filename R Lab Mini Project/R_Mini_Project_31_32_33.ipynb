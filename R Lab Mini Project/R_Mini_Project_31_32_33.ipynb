{
  "nbformat": 4,
  "nbformat_minor": 0,
  "metadata": {
    "colab": {
      "name": "R_Mini_Project_31_32_33.ipynb",
      "provenance": [],
      "collapsed_sections": [],
      "toc_visible": true
    },
    "kernelspec": {
      "name": "ir",
      "display_name": "R"
    },
    "language_info": {
      "name": "R"
    }
  },
  "cells": [
    {
      "cell_type": "code",
      "metadata": {
        "colab": {
          "base_uri": "https://localhost:8080/",
          "height": 1000
        },
        "id": "ICU8N6RauEa7",
        "outputId": "09a49a6e-4e1c-4527-c302-6b3430f24773"
      },
      "source": [
        "#1. Reading dataset values in data variable.\n",
        "id <- \"1iGks3HPVlJG19ecUr010fe2hya1O0PBh\" # google file ID\n",
        "data <- read.csv(sprintf(\"https://docs.google.com/uc?id=%s&export=download\", id), na.strings=c(\"\",\"NA\"))"
      ],
      "execution_count": 38,
      "outputs": [
        {
          "output_type": "display_data",
          "data": {
            "text/plain": [
              "    age sex cp trtbps chol fbs restecg thalachh exng oldpeak slp caa thall\n",
              "1   63  1   3  145    233  1   0       150      0    2.3     0   0   1    \n",
              "2   37  1   2  130    250  0   1       187      0    3.5     0   0   2    \n",
              "3   41  0   1  130    204  0   0       172      0    1.4     2   0   2    \n",
              "4   56  1   1  120    236  0   1       178      0    0.8     2   0   2    \n",
              "5   57  0   0  120    354  0   1       163      1    0.6     2   0   2    \n",
              "6   57  1   0  140    192  0   1       148      0    0.4     1   0   1    \n",
              "7   56  0   1  140    294  0   0       153      0    1.3     1   0   2    \n",
              "8   44  1   1  120    263  0   1       173      0    0.0     2   0   3    \n",
              "9   52  1   2  172    199  1   1       162      0    0.5     2   0   3    \n",
              "10  57  1   2  150    168  0   1       174      0    1.6     2   0   2    \n",
              "11  54  1   0  140    239  0   1       160      0    1.2     2   0   2    \n",
              "12  48  0   2  130    275  0   1       139      0    0.2     2   0   2    \n",
              "13  49  1   1  130    266  0   1       171      0    0.6     2   0   2    \n",
              "14  64  1   3  110    211  0   0       144      1    1.8     1   0   2    \n",
              "15  58  0   3  150    283  1   0       162      0    1.0     2   0   2    \n",
              "16  50  0   2  120    219  0   1       158      0    1.6     1   0   2    \n",
              "17  58  0   2  120    340  0   1       172      0    0.0     2   0   2    \n",
              "18  66  0   3  150    226  0   1       114      0    2.6     0   0   2    \n",
              "19  43  1   0  150    247  0   1       171      0    1.5     2   0   2    \n",
              "20  69  0   3  140    239  0   1       151      0    1.8     2   2   2    \n",
              "21  59  1   0  135    234  0   1       161      0    0.5     1   0   3    \n",
              "22  44  1   2  130    233  0   1       179      1    0.4     2   0   2    \n",
              "23  42  1   0  140    226  0   1       178      0    0.0     2   0   2    \n",
              "24  61  1   2  150    243  1   1       137      1    1.0     1   0   2    \n",
              "25  40  1   3  140    199  0   1       178      1    1.4     2   0   3    \n",
              "26  71  0   1  160    302  0   1       162      0    0.4     2   2   2    \n",
              "27  59  1   2  150    212  1   1       157      0    1.6     2   0   2    \n",
              "28  51  1   2  110    175  0   1       123      0    0.6     2   0   2    \n",
              "29  65  0   2  140    417  1   0       157      0    0.8     2   1   2    \n",
              "30  53  1   2  130    197  1   0       152      0    1.2     0   0   2    \n",
              "⋮   ⋮   ⋮   ⋮  ⋮      ⋮    ⋮   ⋮       ⋮        ⋮    ⋮       ⋮   ⋮   ⋮    \n",
              "274 58  1   0  100    234  0   1       156      0    0.1     2   1   3    \n",
              "275 47  1   0  110    275  0   0       118      1    1.0     1   1   2    \n",
              "276 52  1   0  125    212  0   1       168      0    1.0     2   2   3    \n",
              "277 58  1   0  146    218  0   1       105      0    2.0     1   1   3    \n",
              "278 57  1   1  124    261  0   1       141      0    0.3     2   0   3    \n",
              "279 58  0   1  136    319  1   0       152      0    0.0     2   2   2    \n",
              "280 61  1   0  138    166  0   0       125      1    3.6     1   1   2    \n",
              "281 42  1   0  136    315  0   1       125      1    1.8     1   0   1    \n",
              "282 52  1   0  128    204  1   1       156      1    1.0     1   0   0    \n",
              "283 59  1   2  126    218  1   1       134      0    2.2     1   1   1    \n",
              "284 40  1   0  152    223  0   1       181      0    0.0     2   0   3    \n",
              "285 61  1   0  140    207  0   0       138      1    1.9     2   1   3    \n",
              "286 46  1   0  140    311  0   1       120      1    1.8     1   2   3    \n",
              "287 59  1   3  134    204  0   1       162      0    0.8     2   2   2    \n",
              "288 57  1   1  154    232  0   0       164      0    0.0     2   1   2    \n",
              "289 57  1   0  110    335  0   1       143      1    3.0     1   1   3    \n",
              "290 55  0   0  128    205  0   2       130      1    2.0     1   1   3    \n",
              "291 61  1   0  148    203  0   1       161      0    0.0     2   1   3    \n",
              "292 58  1   0  114    318  0   2       140      0    4.4     0   3   1    \n",
              "293 58  0   0  170    225  1   0       146      1    2.8     1   2   1    \n",
              "294 67  1   2  152    212  0   0       150      0    0.8     1   0   3    \n",
              "295 44  1   0  120    169  0   1       144      1    2.8     0   0   1    \n",
              "296 63  1   0  140    187  0   0       144      1    4.0     2   2   3    \n",
              "297 63  0   0  124    197  0   1       136      1    0.0     1   0   2    \n",
              "298 59  1   0  164    176  1   0        90      0    1.0     1   2   1    \n",
              "299 57  0   0  140    241  0   1       123      1    0.2     1   0   3    \n",
              "300 45  1   3  110    264  0   1       132      0    1.2     1   0   3    \n",
              "301 68  1   0  144    193  1   1       141      0    3.4     1   2   3    \n",
              "302 57  1   0  130    131  0   1       115      1    1.2     1   1   3    \n",
              "303 57  0   1  130    236  0   0       174      0    0.0     1   1   2    \n",
              "    output\n",
              "1   1     \n",
              "2   1     \n",
              "3   1     \n",
              "4   1     \n",
              "5   1     \n",
              "6   1     \n",
              "7   1     \n",
              "8   1     \n",
              "9   1     \n",
              "10  1     \n",
              "11  1     \n",
              "12  1     \n",
              "13  1     \n",
              "14  1     \n",
              "15  1     \n",
              "16  1     \n",
              "17  1     \n",
              "18  1     \n",
              "19  1     \n",
              "20  1     \n",
              "21  1     \n",
              "22  1     \n",
              "23  1     \n",
              "24  1     \n",
              "25  1     \n",
              "26  1     \n",
              "27  1     \n",
              "28  1     \n",
              "29  1     \n",
              "30  1     \n",
              "⋮   ⋮     \n",
              "274 0     \n",
              "275 0     \n",
              "276 0     \n",
              "277 0     \n",
              "278 0     \n",
              "279 0     \n",
              "280 0     \n",
              "281 0     \n",
              "282 0     \n",
              "283 0     \n",
              "284 0     \n",
              "285 0     \n",
              "286 0     \n",
              "287 0     \n",
              "288 0     \n",
              "289 0     \n",
              "290 0     \n",
              "291 0     \n",
              "292 0     \n",
              "293 0     \n",
              "294 0     \n",
              "295 0     \n",
              "296 0     \n",
              "297 0     \n",
              "298 0     \n",
              "299 0     \n",
              "300 0     \n",
              "301 0     \n",
              "302 0     \n",
              "303 0     "
            ],
            "text/latex": "A data.frame: 303 × 14\n\\begin{tabular}{llllllllllllll}\n age & sex & cp & trtbps & chol & fbs & restecg & thalachh & exng & oldpeak & slp & caa & thall & output\\\\\n <int> & <int> & <int> & <int> & <int> & <int> & <int> & <int> & <int> & <dbl> & <int> & <int> & <int> & <int>\\\\\n\\hline\n\t 63 & 1 & 3 & 145 & 233 & 1 & 0 & 150 & 0 & 2.3 & 0 & 0 & 1 & 1\\\\\n\t 37 & 1 & 2 & 130 & 250 & 0 & 1 & 187 & 0 & 3.5 & 0 & 0 & 2 & 1\\\\\n\t 41 & 0 & 1 & 130 & 204 & 0 & 0 & 172 & 0 & 1.4 & 2 & 0 & 2 & 1\\\\\n\t 56 & 1 & 1 & 120 & 236 & 0 & 1 & 178 & 0 & 0.8 & 2 & 0 & 2 & 1\\\\\n\t 57 & 0 & 0 & 120 & 354 & 0 & 1 & 163 & 1 & 0.6 & 2 & 0 & 2 & 1\\\\\n\t 57 & 1 & 0 & 140 & 192 & 0 & 1 & 148 & 0 & 0.4 & 1 & 0 & 1 & 1\\\\\n\t 56 & 0 & 1 & 140 & 294 & 0 & 0 & 153 & 0 & 1.3 & 1 & 0 & 2 & 1\\\\\n\t 44 & 1 & 1 & 120 & 263 & 0 & 1 & 173 & 0 & 0.0 & 2 & 0 & 3 & 1\\\\\n\t 52 & 1 & 2 & 172 & 199 & 1 & 1 & 162 & 0 & 0.5 & 2 & 0 & 3 & 1\\\\\n\t 57 & 1 & 2 & 150 & 168 & 0 & 1 & 174 & 0 & 1.6 & 2 & 0 & 2 & 1\\\\\n\t 54 & 1 & 0 & 140 & 239 & 0 & 1 & 160 & 0 & 1.2 & 2 & 0 & 2 & 1\\\\\n\t 48 & 0 & 2 & 130 & 275 & 0 & 1 & 139 & 0 & 0.2 & 2 & 0 & 2 & 1\\\\\n\t 49 & 1 & 1 & 130 & 266 & 0 & 1 & 171 & 0 & 0.6 & 2 & 0 & 2 & 1\\\\\n\t 64 & 1 & 3 & 110 & 211 & 0 & 0 & 144 & 1 & 1.8 & 1 & 0 & 2 & 1\\\\\n\t 58 & 0 & 3 & 150 & 283 & 1 & 0 & 162 & 0 & 1.0 & 2 & 0 & 2 & 1\\\\\n\t 50 & 0 & 2 & 120 & 219 & 0 & 1 & 158 & 0 & 1.6 & 1 & 0 & 2 & 1\\\\\n\t 58 & 0 & 2 & 120 & 340 & 0 & 1 & 172 & 0 & 0.0 & 2 & 0 & 2 & 1\\\\\n\t 66 & 0 & 3 & 150 & 226 & 0 & 1 & 114 & 0 & 2.6 & 0 & 0 & 2 & 1\\\\\n\t 43 & 1 & 0 & 150 & 247 & 0 & 1 & 171 & 0 & 1.5 & 2 & 0 & 2 & 1\\\\\n\t 69 & 0 & 3 & 140 & 239 & 0 & 1 & 151 & 0 & 1.8 & 2 & 2 & 2 & 1\\\\\n\t 59 & 1 & 0 & 135 & 234 & 0 & 1 & 161 & 0 & 0.5 & 1 & 0 & 3 & 1\\\\\n\t 44 & 1 & 2 & 130 & 233 & 0 & 1 & 179 & 1 & 0.4 & 2 & 0 & 2 & 1\\\\\n\t 42 & 1 & 0 & 140 & 226 & 0 & 1 & 178 & 0 & 0.0 & 2 & 0 & 2 & 1\\\\\n\t 61 & 1 & 2 & 150 & 243 & 1 & 1 & 137 & 1 & 1.0 & 1 & 0 & 2 & 1\\\\\n\t 40 & 1 & 3 & 140 & 199 & 0 & 1 & 178 & 1 & 1.4 & 2 & 0 & 3 & 1\\\\\n\t 71 & 0 & 1 & 160 & 302 & 0 & 1 & 162 & 0 & 0.4 & 2 & 2 & 2 & 1\\\\\n\t 59 & 1 & 2 & 150 & 212 & 1 & 1 & 157 & 0 & 1.6 & 2 & 0 & 2 & 1\\\\\n\t 51 & 1 & 2 & 110 & 175 & 0 & 1 & 123 & 0 & 0.6 & 2 & 0 & 2 & 1\\\\\n\t 65 & 0 & 2 & 140 & 417 & 1 & 0 & 157 & 0 & 0.8 & 2 & 1 & 2 & 1\\\\\n\t 53 & 1 & 2 & 130 & 197 & 1 & 0 & 152 & 0 & 1.2 & 0 & 0 & 2 & 1\\\\\n\t ⋮ & ⋮ & ⋮ & ⋮ & ⋮ & ⋮ & ⋮ & ⋮ & ⋮ & ⋮ & ⋮ & ⋮ & ⋮ & ⋮\\\\\n\t 58 & 1 & 0 & 100 & 234 & 0 & 1 & 156 & 0 & 0.1 & 2 & 1 & 3 & 0\\\\\n\t 47 & 1 & 0 & 110 & 275 & 0 & 0 & 118 & 1 & 1.0 & 1 & 1 & 2 & 0\\\\\n\t 52 & 1 & 0 & 125 & 212 & 0 & 1 & 168 & 0 & 1.0 & 2 & 2 & 3 & 0\\\\\n\t 58 & 1 & 0 & 146 & 218 & 0 & 1 & 105 & 0 & 2.0 & 1 & 1 & 3 & 0\\\\\n\t 57 & 1 & 1 & 124 & 261 & 0 & 1 & 141 & 0 & 0.3 & 2 & 0 & 3 & 0\\\\\n\t 58 & 0 & 1 & 136 & 319 & 1 & 0 & 152 & 0 & 0.0 & 2 & 2 & 2 & 0\\\\\n\t 61 & 1 & 0 & 138 & 166 & 0 & 0 & 125 & 1 & 3.6 & 1 & 1 & 2 & 0\\\\\n\t 42 & 1 & 0 & 136 & 315 & 0 & 1 & 125 & 1 & 1.8 & 1 & 0 & 1 & 0\\\\\n\t 52 & 1 & 0 & 128 & 204 & 1 & 1 & 156 & 1 & 1.0 & 1 & 0 & 0 & 0\\\\\n\t 59 & 1 & 2 & 126 & 218 & 1 & 1 & 134 & 0 & 2.2 & 1 & 1 & 1 & 0\\\\\n\t 40 & 1 & 0 & 152 & 223 & 0 & 1 & 181 & 0 & 0.0 & 2 & 0 & 3 & 0\\\\\n\t 61 & 1 & 0 & 140 & 207 & 0 & 0 & 138 & 1 & 1.9 & 2 & 1 & 3 & 0\\\\\n\t 46 & 1 & 0 & 140 & 311 & 0 & 1 & 120 & 1 & 1.8 & 1 & 2 & 3 & 0\\\\\n\t 59 & 1 & 3 & 134 & 204 & 0 & 1 & 162 & 0 & 0.8 & 2 & 2 & 2 & 0\\\\\n\t 57 & 1 & 1 & 154 & 232 & 0 & 0 & 164 & 0 & 0.0 & 2 & 1 & 2 & 0\\\\\n\t 57 & 1 & 0 & 110 & 335 & 0 & 1 & 143 & 1 & 3.0 & 1 & 1 & 3 & 0\\\\\n\t 55 & 0 & 0 & 128 & 205 & 0 & 2 & 130 & 1 & 2.0 & 1 & 1 & 3 & 0\\\\\n\t 61 & 1 & 0 & 148 & 203 & 0 & 1 & 161 & 0 & 0.0 & 2 & 1 & 3 & 0\\\\\n\t 58 & 1 & 0 & 114 & 318 & 0 & 2 & 140 & 0 & 4.4 & 0 & 3 & 1 & 0\\\\\n\t 58 & 0 & 0 & 170 & 225 & 1 & 0 & 146 & 1 & 2.8 & 1 & 2 & 1 & 0\\\\\n\t 67 & 1 & 2 & 152 & 212 & 0 & 0 & 150 & 0 & 0.8 & 1 & 0 & 3 & 0\\\\\n\t 44 & 1 & 0 & 120 & 169 & 0 & 1 & 144 & 1 & 2.8 & 0 & 0 & 1 & 0\\\\\n\t 63 & 1 & 0 & 140 & 187 & 0 & 0 & 144 & 1 & 4.0 & 2 & 2 & 3 & 0\\\\\n\t 63 & 0 & 0 & 124 & 197 & 0 & 1 & 136 & 1 & 0.0 & 1 & 0 & 2 & 0\\\\\n\t 59 & 1 & 0 & 164 & 176 & 1 & 0 &  90 & 0 & 1.0 & 1 & 2 & 1 & 0\\\\\n\t 57 & 0 & 0 & 140 & 241 & 0 & 1 & 123 & 1 & 0.2 & 1 & 0 & 3 & 0\\\\\n\t 45 & 1 & 3 & 110 & 264 & 0 & 1 & 132 & 0 & 1.2 & 1 & 0 & 3 & 0\\\\\n\t 68 & 1 & 0 & 144 & 193 & 1 & 1 & 141 & 0 & 3.4 & 1 & 2 & 3 & 0\\\\\n\t 57 & 1 & 0 & 130 & 131 & 0 & 1 & 115 & 1 & 1.2 & 1 & 1 & 3 & 0\\\\\n\t 57 & 0 & 1 & 130 & 236 & 0 & 0 & 174 & 0 & 0.0 & 1 & 1 & 2 & 0\\\\\n\\end{tabular}\n",
            "text/markdown": "\nA data.frame: 303 × 14\n\n| age &lt;int&gt; | sex &lt;int&gt; | cp &lt;int&gt; | trtbps &lt;int&gt; | chol &lt;int&gt; | fbs &lt;int&gt; | restecg &lt;int&gt; | thalachh &lt;int&gt; | exng &lt;int&gt; | oldpeak &lt;dbl&gt; | slp &lt;int&gt; | caa &lt;int&gt; | thall &lt;int&gt; | output &lt;int&gt; |\n|---|---|---|---|---|---|---|---|---|---|---|---|---|---|\n| 63 | 1 | 3 | 145 | 233 | 1 | 0 | 150 | 0 | 2.3 | 0 | 0 | 1 | 1 |\n| 37 | 1 | 2 | 130 | 250 | 0 | 1 | 187 | 0 | 3.5 | 0 | 0 | 2 | 1 |\n| 41 | 0 | 1 | 130 | 204 | 0 | 0 | 172 | 0 | 1.4 | 2 | 0 | 2 | 1 |\n| 56 | 1 | 1 | 120 | 236 | 0 | 1 | 178 | 0 | 0.8 | 2 | 0 | 2 | 1 |\n| 57 | 0 | 0 | 120 | 354 | 0 | 1 | 163 | 1 | 0.6 | 2 | 0 | 2 | 1 |\n| 57 | 1 | 0 | 140 | 192 | 0 | 1 | 148 | 0 | 0.4 | 1 | 0 | 1 | 1 |\n| 56 | 0 | 1 | 140 | 294 | 0 | 0 | 153 | 0 | 1.3 | 1 | 0 | 2 | 1 |\n| 44 | 1 | 1 | 120 | 263 | 0 | 1 | 173 | 0 | 0.0 | 2 | 0 | 3 | 1 |\n| 52 | 1 | 2 | 172 | 199 | 1 | 1 | 162 | 0 | 0.5 | 2 | 0 | 3 | 1 |\n| 57 | 1 | 2 | 150 | 168 | 0 | 1 | 174 | 0 | 1.6 | 2 | 0 | 2 | 1 |\n| 54 | 1 | 0 | 140 | 239 | 0 | 1 | 160 | 0 | 1.2 | 2 | 0 | 2 | 1 |\n| 48 | 0 | 2 | 130 | 275 | 0 | 1 | 139 | 0 | 0.2 | 2 | 0 | 2 | 1 |\n| 49 | 1 | 1 | 130 | 266 | 0 | 1 | 171 | 0 | 0.6 | 2 | 0 | 2 | 1 |\n| 64 | 1 | 3 | 110 | 211 | 0 | 0 | 144 | 1 | 1.8 | 1 | 0 | 2 | 1 |\n| 58 | 0 | 3 | 150 | 283 | 1 | 0 | 162 | 0 | 1.0 | 2 | 0 | 2 | 1 |\n| 50 | 0 | 2 | 120 | 219 | 0 | 1 | 158 | 0 | 1.6 | 1 | 0 | 2 | 1 |\n| 58 | 0 | 2 | 120 | 340 | 0 | 1 | 172 | 0 | 0.0 | 2 | 0 | 2 | 1 |\n| 66 | 0 | 3 | 150 | 226 | 0 | 1 | 114 | 0 | 2.6 | 0 | 0 | 2 | 1 |\n| 43 | 1 | 0 | 150 | 247 | 0 | 1 | 171 | 0 | 1.5 | 2 | 0 | 2 | 1 |\n| 69 | 0 | 3 | 140 | 239 | 0 | 1 | 151 | 0 | 1.8 | 2 | 2 | 2 | 1 |\n| 59 | 1 | 0 | 135 | 234 | 0 | 1 | 161 | 0 | 0.5 | 1 | 0 | 3 | 1 |\n| 44 | 1 | 2 | 130 | 233 | 0 | 1 | 179 | 1 | 0.4 | 2 | 0 | 2 | 1 |\n| 42 | 1 | 0 | 140 | 226 | 0 | 1 | 178 | 0 | 0.0 | 2 | 0 | 2 | 1 |\n| 61 | 1 | 2 | 150 | 243 | 1 | 1 | 137 | 1 | 1.0 | 1 | 0 | 2 | 1 |\n| 40 | 1 | 3 | 140 | 199 | 0 | 1 | 178 | 1 | 1.4 | 2 | 0 | 3 | 1 |\n| 71 | 0 | 1 | 160 | 302 | 0 | 1 | 162 | 0 | 0.4 | 2 | 2 | 2 | 1 |\n| 59 | 1 | 2 | 150 | 212 | 1 | 1 | 157 | 0 | 1.6 | 2 | 0 | 2 | 1 |\n| 51 | 1 | 2 | 110 | 175 | 0 | 1 | 123 | 0 | 0.6 | 2 | 0 | 2 | 1 |\n| 65 | 0 | 2 | 140 | 417 | 1 | 0 | 157 | 0 | 0.8 | 2 | 1 | 2 | 1 |\n| 53 | 1 | 2 | 130 | 197 | 1 | 0 | 152 | 0 | 1.2 | 0 | 0 | 2 | 1 |\n| ⋮ | ⋮ | ⋮ | ⋮ | ⋮ | ⋮ | ⋮ | ⋮ | ⋮ | ⋮ | ⋮ | ⋮ | ⋮ | ⋮ |\n| 58 | 1 | 0 | 100 | 234 | 0 | 1 | 156 | 0 | 0.1 | 2 | 1 | 3 | 0 |\n| 47 | 1 | 0 | 110 | 275 | 0 | 0 | 118 | 1 | 1.0 | 1 | 1 | 2 | 0 |\n| 52 | 1 | 0 | 125 | 212 | 0 | 1 | 168 | 0 | 1.0 | 2 | 2 | 3 | 0 |\n| 58 | 1 | 0 | 146 | 218 | 0 | 1 | 105 | 0 | 2.0 | 1 | 1 | 3 | 0 |\n| 57 | 1 | 1 | 124 | 261 | 0 | 1 | 141 | 0 | 0.3 | 2 | 0 | 3 | 0 |\n| 58 | 0 | 1 | 136 | 319 | 1 | 0 | 152 | 0 | 0.0 | 2 | 2 | 2 | 0 |\n| 61 | 1 | 0 | 138 | 166 | 0 | 0 | 125 | 1 | 3.6 | 1 | 1 | 2 | 0 |\n| 42 | 1 | 0 | 136 | 315 | 0 | 1 | 125 | 1 | 1.8 | 1 | 0 | 1 | 0 |\n| 52 | 1 | 0 | 128 | 204 | 1 | 1 | 156 | 1 | 1.0 | 1 | 0 | 0 | 0 |\n| 59 | 1 | 2 | 126 | 218 | 1 | 1 | 134 | 0 | 2.2 | 1 | 1 | 1 | 0 |\n| 40 | 1 | 0 | 152 | 223 | 0 | 1 | 181 | 0 | 0.0 | 2 | 0 | 3 | 0 |\n| 61 | 1 | 0 | 140 | 207 | 0 | 0 | 138 | 1 | 1.9 | 2 | 1 | 3 | 0 |\n| 46 | 1 | 0 | 140 | 311 | 0 | 1 | 120 | 1 | 1.8 | 1 | 2 | 3 | 0 |\n| 59 | 1 | 3 | 134 | 204 | 0 | 1 | 162 | 0 | 0.8 | 2 | 2 | 2 | 0 |\n| 57 | 1 | 1 | 154 | 232 | 0 | 0 | 164 | 0 | 0.0 | 2 | 1 | 2 | 0 |\n| 57 | 1 | 0 | 110 | 335 | 0 | 1 | 143 | 1 | 3.0 | 1 | 1 | 3 | 0 |\n| 55 | 0 | 0 | 128 | 205 | 0 | 2 | 130 | 1 | 2.0 | 1 | 1 | 3 | 0 |\n| 61 | 1 | 0 | 148 | 203 | 0 | 1 | 161 | 0 | 0.0 | 2 | 1 | 3 | 0 |\n| 58 | 1 | 0 | 114 | 318 | 0 | 2 | 140 | 0 | 4.4 | 0 | 3 | 1 | 0 |\n| 58 | 0 | 0 | 170 | 225 | 1 | 0 | 146 | 1 | 2.8 | 1 | 2 | 1 | 0 |\n| 67 | 1 | 2 | 152 | 212 | 0 | 0 | 150 | 0 | 0.8 | 1 | 0 | 3 | 0 |\n| 44 | 1 | 0 | 120 | 169 | 0 | 1 | 144 | 1 | 2.8 | 0 | 0 | 1 | 0 |\n| 63 | 1 | 0 | 140 | 187 | 0 | 0 | 144 | 1 | 4.0 | 2 | 2 | 3 | 0 |\n| 63 | 0 | 0 | 124 | 197 | 0 | 1 | 136 | 1 | 0.0 | 1 | 0 | 2 | 0 |\n| 59 | 1 | 0 | 164 | 176 | 1 | 0 |  90 | 0 | 1.0 | 1 | 2 | 1 | 0 |\n| 57 | 0 | 0 | 140 | 241 | 0 | 1 | 123 | 1 | 0.2 | 1 | 0 | 3 | 0 |\n| 45 | 1 | 3 | 110 | 264 | 0 | 1 | 132 | 0 | 1.2 | 1 | 0 | 3 | 0 |\n| 68 | 1 | 0 | 144 | 193 | 1 | 1 | 141 | 0 | 3.4 | 1 | 2 | 3 | 0 |\n| 57 | 1 | 0 | 130 | 131 | 0 | 1 | 115 | 1 | 1.2 | 1 | 1 | 3 | 0 |\n| 57 | 0 | 1 | 130 | 236 | 0 | 0 | 174 | 0 | 0.0 | 1 | 1 | 2 | 0 |\n\n",
            "text/html": [
              "<table class=\"dataframe\">\n",
              "<caption>A data.frame: 303 × 14</caption>\n",
              "<thead>\n",
              "\t<tr><th scope=col>age</th><th scope=col>sex</th><th scope=col>cp</th><th scope=col>trtbps</th><th scope=col>chol</th><th scope=col>fbs</th><th scope=col>restecg</th><th scope=col>thalachh</th><th scope=col>exng</th><th scope=col>oldpeak</th><th scope=col>slp</th><th scope=col>caa</th><th scope=col>thall</th><th scope=col>output</th></tr>\n",
              "\t<tr><th scope=col>&lt;int&gt;</th><th scope=col>&lt;int&gt;</th><th scope=col>&lt;int&gt;</th><th scope=col>&lt;int&gt;</th><th scope=col>&lt;int&gt;</th><th scope=col>&lt;int&gt;</th><th scope=col>&lt;int&gt;</th><th scope=col>&lt;int&gt;</th><th scope=col>&lt;int&gt;</th><th scope=col>&lt;dbl&gt;</th><th scope=col>&lt;int&gt;</th><th scope=col>&lt;int&gt;</th><th scope=col>&lt;int&gt;</th><th scope=col>&lt;int&gt;</th></tr>\n",
              "</thead>\n",
              "<tbody>\n",
              "\t<tr><td>63</td><td>1</td><td>3</td><td>145</td><td>233</td><td>1</td><td>0</td><td>150</td><td>0</td><td>2.3</td><td>0</td><td>0</td><td>1</td><td>1</td></tr>\n",
              "\t<tr><td>37</td><td>1</td><td>2</td><td>130</td><td>250</td><td>0</td><td>1</td><td>187</td><td>0</td><td>3.5</td><td>0</td><td>0</td><td>2</td><td>1</td></tr>\n",
              "\t<tr><td>41</td><td>0</td><td>1</td><td>130</td><td>204</td><td>0</td><td>0</td><td>172</td><td>0</td><td>1.4</td><td>2</td><td>0</td><td>2</td><td>1</td></tr>\n",
              "\t<tr><td>56</td><td>1</td><td>1</td><td>120</td><td>236</td><td>0</td><td>1</td><td>178</td><td>0</td><td>0.8</td><td>2</td><td>0</td><td>2</td><td>1</td></tr>\n",
              "\t<tr><td>57</td><td>0</td><td>0</td><td>120</td><td>354</td><td>0</td><td>1</td><td>163</td><td>1</td><td>0.6</td><td>2</td><td>0</td><td>2</td><td>1</td></tr>\n",
              "\t<tr><td>57</td><td>1</td><td>0</td><td>140</td><td>192</td><td>0</td><td>1</td><td>148</td><td>0</td><td>0.4</td><td>1</td><td>0</td><td>1</td><td>1</td></tr>\n",
              "\t<tr><td>56</td><td>0</td><td>1</td><td>140</td><td>294</td><td>0</td><td>0</td><td>153</td><td>0</td><td>1.3</td><td>1</td><td>0</td><td>2</td><td>1</td></tr>\n",
              "\t<tr><td>44</td><td>1</td><td>1</td><td>120</td><td>263</td><td>0</td><td>1</td><td>173</td><td>0</td><td>0.0</td><td>2</td><td>0</td><td>3</td><td>1</td></tr>\n",
              "\t<tr><td>52</td><td>1</td><td>2</td><td>172</td><td>199</td><td>1</td><td>1</td><td>162</td><td>0</td><td>0.5</td><td>2</td><td>0</td><td>3</td><td>1</td></tr>\n",
              "\t<tr><td>57</td><td>1</td><td>2</td><td>150</td><td>168</td><td>0</td><td>1</td><td>174</td><td>0</td><td>1.6</td><td>2</td><td>0</td><td>2</td><td>1</td></tr>\n",
              "\t<tr><td>54</td><td>1</td><td>0</td><td>140</td><td>239</td><td>0</td><td>1</td><td>160</td><td>0</td><td>1.2</td><td>2</td><td>0</td><td>2</td><td>1</td></tr>\n",
              "\t<tr><td>48</td><td>0</td><td>2</td><td>130</td><td>275</td><td>0</td><td>1</td><td>139</td><td>0</td><td>0.2</td><td>2</td><td>0</td><td>2</td><td>1</td></tr>\n",
              "\t<tr><td>49</td><td>1</td><td>1</td><td>130</td><td>266</td><td>0</td><td>1</td><td>171</td><td>0</td><td>0.6</td><td>2</td><td>0</td><td>2</td><td>1</td></tr>\n",
              "\t<tr><td>64</td><td>1</td><td>3</td><td>110</td><td>211</td><td>0</td><td>0</td><td>144</td><td>1</td><td>1.8</td><td>1</td><td>0</td><td>2</td><td>1</td></tr>\n",
              "\t<tr><td>58</td><td>0</td><td>3</td><td>150</td><td>283</td><td>1</td><td>0</td><td>162</td><td>0</td><td>1.0</td><td>2</td><td>0</td><td>2</td><td>1</td></tr>\n",
              "\t<tr><td>50</td><td>0</td><td>2</td><td>120</td><td>219</td><td>0</td><td>1</td><td>158</td><td>0</td><td>1.6</td><td>1</td><td>0</td><td>2</td><td>1</td></tr>\n",
              "\t<tr><td>58</td><td>0</td><td>2</td><td>120</td><td>340</td><td>0</td><td>1</td><td>172</td><td>0</td><td>0.0</td><td>2</td><td>0</td><td>2</td><td>1</td></tr>\n",
              "\t<tr><td>66</td><td>0</td><td>3</td><td>150</td><td>226</td><td>0</td><td>1</td><td>114</td><td>0</td><td>2.6</td><td>0</td><td>0</td><td>2</td><td>1</td></tr>\n",
              "\t<tr><td>43</td><td>1</td><td>0</td><td>150</td><td>247</td><td>0</td><td>1</td><td>171</td><td>0</td><td>1.5</td><td>2</td><td>0</td><td>2</td><td>1</td></tr>\n",
              "\t<tr><td>69</td><td>0</td><td>3</td><td>140</td><td>239</td><td>0</td><td>1</td><td>151</td><td>0</td><td>1.8</td><td>2</td><td>2</td><td>2</td><td>1</td></tr>\n",
              "\t<tr><td>59</td><td>1</td><td>0</td><td>135</td><td>234</td><td>0</td><td>1</td><td>161</td><td>0</td><td>0.5</td><td>1</td><td>0</td><td>3</td><td>1</td></tr>\n",
              "\t<tr><td>44</td><td>1</td><td>2</td><td>130</td><td>233</td><td>0</td><td>1</td><td>179</td><td>1</td><td>0.4</td><td>2</td><td>0</td><td>2</td><td>1</td></tr>\n",
              "\t<tr><td>42</td><td>1</td><td>0</td><td>140</td><td>226</td><td>0</td><td>1</td><td>178</td><td>0</td><td>0.0</td><td>2</td><td>0</td><td>2</td><td>1</td></tr>\n",
              "\t<tr><td>61</td><td>1</td><td>2</td><td>150</td><td>243</td><td>1</td><td>1</td><td>137</td><td>1</td><td>1.0</td><td>1</td><td>0</td><td>2</td><td>1</td></tr>\n",
              "\t<tr><td>40</td><td>1</td><td>3</td><td>140</td><td>199</td><td>0</td><td>1</td><td>178</td><td>1</td><td>1.4</td><td>2</td><td>0</td><td>3</td><td>1</td></tr>\n",
              "\t<tr><td>71</td><td>0</td><td>1</td><td>160</td><td>302</td><td>0</td><td>1</td><td>162</td><td>0</td><td>0.4</td><td>2</td><td>2</td><td>2</td><td>1</td></tr>\n",
              "\t<tr><td>59</td><td>1</td><td>2</td><td>150</td><td>212</td><td>1</td><td>1</td><td>157</td><td>0</td><td>1.6</td><td>2</td><td>0</td><td>2</td><td>1</td></tr>\n",
              "\t<tr><td>51</td><td>1</td><td>2</td><td>110</td><td>175</td><td>0</td><td>1</td><td>123</td><td>0</td><td>0.6</td><td>2</td><td>0</td><td>2</td><td>1</td></tr>\n",
              "\t<tr><td>65</td><td>0</td><td>2</td><td>140</td><td>417</td><td>1</td><td>0</td><td>157</td><td>0</td><td>0.8</td><td>2</td><td>1</td><td>2</td><td>1</td></tr>\n",
              "\t<tr><td>53</td><td>1</td><td>2</td><td>130</td><td>197</td><td>1</td><td>0</td><td>152</td><td>0</td><td>1.2</td><td>0</td><td>0</td><td>2</td><td>1</td></tr>\n",
              "\t<tr><td>⋮</td><td>⋮</td><td>⋮</td><td>⋮</td><td>⋮</td><td>⋮</td><td>⋮</td><td>⋮</td><td>⋮</td><td>⋮</td><td>⋮</td><td>⋮</td><td>⋮</td><td>⋮</td></tr>\n",
              "\t<tr><td>58</td><td>1</td><td>0</td><td>100</td><td>234</td><td>0</td><td>1</td><td>156</td><td>0</td><td>0.1</td><td>2</td><td>1</td><td>3</td><td>0</td></tr>\n",
              "\t<tr><td>47</td><td>1</td><td>0</td><td>110</td><td>275</td><td>0</td><td>0</td><td>118</td><td>1</td><td>1.0</td><td>1</td><td>1</td><td>2</td><td>0</td></tr>\n",
              "\t<tr><td>52</td><td>1</td><td>0</td><td>125</td><td>212</td><td>0</td><td>1</td><td>168</td><td>0</td><td>1.0</td><td>2</td><td>2</td><td>3</td><td>0</td></tr>\n",
              "\t<tr><td>58</td><td>1</td><td>0</td><td>146</td><td>218</td><td>0</td><td>1</td><td>105</td><td>0</td><td>2.0</td><td>1</td><td>1</td><td>3</td><td>0</td></tr>\n",
              "\t<tr><td>57</td><td>1</td><td>1</td><td>124</td><td>261</td><td>0</td><td>1</td><td>141</td><td>0</td><td>0.3</td><td>2</td><td>0</td><td>3</td><td>0</td></tr>\n",
              "\t<tr><td>58</td><td>0</td><td>1</td><td>136</td><td>319</td><td>1</td><td>0</td><td>152</td><td>0</td><td>0.0</td><td>2</td><td>2</td><td>2</td><td>0</td></tr>\n",
              "\t<tr><td>61</td><td>1</td><td>0</td><td>138</td><td>166</td><td>0</td><td>0</td><td>125</td><td>1</td><td>3.6</td><td>1</td><td>1</td><td>2</td><td>0</td></tr>\n",
              "\t<tr><td>42</td><td>1</td><td>0</td><td>136</td><td>315</td><td>0</td><td>1</td><td>125</td><td>1</td><td>1.8</td><td>1</td><td>0</td><td>1</td><td>0</td></tr>\n",
              "\t<tr><td>52</td><td>1</td><td>0</td><td>128</td><td>204</td><td>1</td><td>1</td><td>156</td><td>1</td><td>1.0</td><td>1</td><td>0</td><td>0</td><td>0</td></tr>\n",
              "\t<tr><td>59</td><td>1</td><td>2</td><td>126</td><td>218</td><td>1</td><td>1</td><td>134</td><td>0</td><td>2.2</td><td>1</td><td>1</td><td>1</td><td>0</td></tr>\n",
              "\t<tr><td>40</td><td>1</td><td>0</td><td>152</td><td>223</td><td>0</td><td>1</td><td>181</td><td>0</td><td>0.0</td><td>2</td><td>0</td><td>3</td><td>0</td></tr>\n",
              "\t<tr><td>61</td><td>1</td><td>0</td><td>140</td><td>207</td><td>0</td><td>0</td><td>138</td><td>1</td><td>1.9</td><td>2</td><td>1</td><td>3</td><td>0</td></tr>\n",
              "\t<tr><td>46</td><td>1</td><td>0</td><td>140</td><td>311</td><td>0</td><td>1</td><td>120</td><td>1</td><td>1.8</td><td>1</td><td>2</td><td>3</td><td>0</td></tr>\n",
              "\t<tr><td>59</td><td>1</td><td>3</td><td>134</td><td>204</td><td>0</td><td>1</td><td>162</td><td>0</td><td>0.8</td><td>2</td><td>2</td><td>2</td><td>0</td></tr>\n",
              "\t<tr><td>57</td><td>1</td><td>1</td><td>154</td><td>232</td><td>0</td><td>0</td><td>164</td><td>0</td><td>0.0</td><td>2</td><td>1</td><td>2</td><td>0</td></tr>\n",
              "\t<tr><td>57</td><td>1</td><td>0</td><td>110</td><td>335</td><td>0</td><td>1</td><td>143</td><td>1</td><td>3.0</td><td>1</td><td>1</td><td>3</td><td>0</td></tr>\n",
              "\t<tr><td>55</td><td>0</td><td>0</td><td>128</td><td>205</td><td>0</td><td>2</td><td>130</td><td>1</td><td>2.0</td><td>1</td><td>1</td><td>3</td><td>0</td></tr>\n",
              "\t<tr><td>61</td><td>1</td><td>0</td><td>148</td><td>203</td><td>0</td><td>1</td><td>161</td><td>0</td><td>0.0</td><td>2</td><td>1</td><td>3</td><td>0</td></tr>\n",
              "\t<tr><td>58</td><td>1</td><td>0</td><td>114</td><td>318</td><td>0</td><td>2</td><td>140</td><td>0</td><td>4.4</td><td>0</td><td>3</td><td>1</td><td>0</td></tr>\n",
              "\t<tr><td>58</td><td>0</td><td>0</td><td>170</td><td>225</td><td>1</td><td>0</td><td>146</td><td>1</td><td>2.8</td><td>1</td><td>2</td><td>1</td><td>0</td></tr>\n",
              "\t<tr><td>67</td><td>1</td><td>2</td><td>152</td><td>212</td><td>0</td><td>0</td><td>150</td><td>0</td><td>0.8</td><td>1</td><td>0</td><td>3</td><td>0</td></tr>\n",
              "\t<tr><td>44</td><td>1</td><td>0</td><td>120</td><td>169</td><td>0</td><td>1</td><td>144</td><td>1</td><td>2.8</td><td>0</td><td>0</td><td>1</td><td>0</td></tr>\n",
              "\t<tr><td>63</td><td>1</td><td>0</td><td>140</td><td>187</td><td>0</td><td>0</td><td>144</td><td>1</td><td>4.0</td><td>2</td><td>2</td><td>3</td><td>0</td></tr>\n",
              "\t<tr><td>63</td><td>0</td><td>0</td><td>124</td><td>197</td><td>0</td><td>1</td><td>136</td><td>1</td><td>0.0</td><td>1</td><td>0</td><td>2</td><td>0</td></tr>\n",
              "\t<tr><td>59</td><td>1</td><td>0</td><td>164</td><td>176</td><td>1</td><td>0</td><td> 90</td><td>0</td><td>1.0</td><td>1</td><td>2</td><td>1</td><td>0</td></tr>\n",
              "\t<tr><td>57</td><td>0</td><td>0</td><td>140</td><td>241</td><td>0</td><td>1</td><td>123</td><td>1</td><td>0.2</td><td>1</td><td>0</td><td>3</td><td>0</td></tr>\n",
              "\t<tr><td>45</td><td>1</td><td>3</td><td>110</td><td>264</td><td>0</td><td>1</td><td>132</td><td>0</td><td>1.2</td><td>1</td><td>0</td><td>3</td><td>0</td></tr>\n",
              "\t<tr><td>68</td><td>1</td><td>0</td><td>144</td><td>193</td><td>1</td><td>1</td><td>141</td><td>0</td><td>3.4</td><td>1</td><td>2</td><td>3</td><td>0</td></tr>\n",
              "\t<tr><td>57</td><td>1</td><td>0</td><td>130</td><td>131</td><td>0</td><td>1</td><td>115</td><td>1</td><td>1.2</td><td>1</td><td>1</td><td>3</td><td>0</td></tr>\n",
              "\t<tr><td>57</td><td>0</td><td>1</td><td>130</td><td>236</td><td>0</td><td>0</td><td>174</td><td>0</td><td>0.0</td><td>1</td><td>1</td><td>2</td><td>0</td></tr>\n",
              "</tbody>\n",
              "</table>\n"
            ]
          },
          "metadata": {
            "tags": []
          }
        }
      ]
    },
    {
      "cell_type": "code",
      "metadata": {
        "colab": {
          "base_uri": "https://localhost:8080/",
          "height": 487
        },
        "id": "rsbu9VxLulII",
        "outputId": "d26856db-22b2-4b58-b369-329eb4256014"
      },
      "source": [
        "#Task 1: Bhushan Koli\n",
        "# a. summarize the entire data using apropriate R Command.\n",
        "library(dplyr)\n",
        "summary(data)"
      ],
      "execution_count": 35,
      "outputs": [
        {
          "output_type": "display_data",
          "data": {
            "text/plain": [
              "      age             sex               cp            trtbps     \n",
              " Min.   :29.00   Min.   :0.0000   Min.   :0.000   Min.   : 94.0  \n",
              " 1st Qu.:47.50   1st Qu.:0.0000   1st Qu.:0.000   1st Qu.:120.0  \n",
              " Median :55.00   Median :1.0000   Median :1.000   Median :130.0  \n",
              " Mean   :54.37   Mean   :0.6832   Mean   :0.967   Mean   :131.6  \n",
              " 3rd Qu.:61.00   3rd Qu.:1.0000   3rd Qu.:2.000   3rd Qu.:140.0  \n",
              " Max.   :77.00   Max.   :1.0000   Max.   :3.000   Max.   :200.0  \n",
              "      chol            fbs            restecg          thalachh    \n",
              " Min.   :126.0   Min.   :0.0000   Min.   :0.0000   Min.   : 71.0  \n",
              " 1st Qu.:211.0   1st Qu.:0.0000   1st Qu.:0.0000   1st Qu.:133.5  \n",
              " Median :240.0   Median :0.0000   Median :1.0000   Median :153.0  \n",
              " Mean   :246.3   Mean   :0.1485   Mean   :0.5281   Mean   :149.6  \n",
              " 3rd Qu.:274.5   3rd Qu.:0.0000   3rd Qu.:1.0000   3rd Qu.:166.0  \n",
              " Max.   :564.0   Max.   :1.0000   Max.   :2.0000   Max.   :202.0  \n",
              "      exng           oldpeak          slp             caa        \n",
              " Min.   :0.0000   Min.   :0.00   Min.   :0.000   Min.   :0.0000  \n",
              " 1st Qu.:0.0000   1st Qu.:0.00   1st Qu.:1.000   1st Qu.:0.0000  \n",
              " Median :0.0000   Median :0.80   Median :1.000   Median :0.0000  \n",
              " Mean   :0.3267   Mean   :1.04   Mean   :1.399   Mean   :0.7294  \n",
              " 3rd Qu.:1.0000   3rd Qu.:1.60   3rd Qu.:2.000   3rd Qu.:1.0000  \n",
              " Max.   :1.0000   Max.   :6.20   Max.   :2.000   Max.   :4.0000  \n",
              "     thall           output      \n",
              " Min.   :0.000   Min.   :0.0000  \n",
              " 1st Qu.:2.000   1st Qu.:0.0000  \n",
              " Median :2.000   Median :1.0000  \n",
              " Mean   :2.314   Mean   :0.5446  \n",
              " 3rd Qu.:3.000   3rd Qu.:1.0000  \n",
              " Max.   :3.000   Max.   :1.0000  "
            ]
          },
          "metadata": {
            "tags": []
          }
        }
      ]
    },
    {
      "cell_type": "code",
      "metadata": {
        "colab": {
          "base_uri": "https://localhost:8080/",
          "height": 34
        },
        "id": "IJAp5haiwMX3",
        "outputId": "b4bc19bd-16a7-470a-f887-fcf7a8c2a814"
      },
      "source": [
        "# b. show class of variable holding data\n",
        "class(data)"
      ],
      "execution_count": 36,
      "outputs": [
        {
          "output_type": "display_data",
          "data": {
            "text/plain": [
              "[1] \"data.frame\""
            ],
            "text/latex": "'data.frame'",
            "text/markdown": "'data.frame'",
            "text/html": [
              "'data.frame'"
            ]
          },
          "metadata": {
            "tags": []
          }
        }
      ]
    },
    {
      "cell_type": "code",
      "metadata": {
        "colab": {
          "base_uri": "https://localhost:8080/",
          "height": 269
        },
        "id": "nSVrNC6Jw1_e",
        "outputId": "e9621c7f-05b0-4ab1-c9c3-c4166e9d6b57"
      },
      "source": [
        "# c. Obtain 5 point statistical summary for all attributes\n",
        "paste('Min.Lower.Medain.Upper.Max')\n",
        "fivenum(data$age)\n",
        "fivenum(data$sex)\n",
        "fivenum(data$cp)\n",
        "fivenum(data$trestbps)\n",
        "fivenum(data$chol)\n",
        "fivenum(data$fbs)\n",
        "fivenum(data$restecg)\n",
        "fivenum(data$thalach)\n",
        "fivenum(data$exang)\n",
        "fivenum(data$oldpeak)\n",
        "fivenum(data$slope)\n",
        "fivenum(data$ca)\n",
        "fivenum(data$thal)\n",
        "fivenum(data$target)"
      ],
      "execution_count": 37,
      "outputs": [
        {
          "output_type": "display_data",
          "data": {
            "text/plain": [
              "[1] \"Min.Lower.Medain.Upper.Max\""
            ],
            "text/latex": "'Min.Lower.Medain.Upper.Max'",
            "text/markdown": "'Min.Lower.Medain.Upper.Max'",
            "text/html": [
              "'Min.Lower.Medain.Upper.Max'"
            ]
          },
          "metadata": {
            "tags": []
          }
        },
        {
          "output_type": "display_data",
          "data": {
            "text/plain": [
              "[1] 29.0 47.5 55.0 61.0 77.0"
            ],
            "text/latex": "\\begin{enumerate*}\n\\item 29\n\\item 47.5\n\\item 55\n\\item 61\n\\item 77\n\\end{enumerate*}\n",
            "text/markdown": "1. 29\n2. 47.5\n3. 55\n4. 61\n5. 77\n\n\n",
            "text/html": [
              "<style>\n",
              ".list-inline {list-style: none; margin:0; padding: 0}\n",
              ".list-inline>li {display: inline-block}\n",
              ".list-inline>li:not(:last-child)::after {content: \"\\00b7\"; padding: 0 .5ex}\n",
              "</style>\n",
              "<ol class=list-inline><li>29</li><li>47.5</li><li>55</li><li>61</li><li>77</li></ol>\n"
            ]
          },
          "metadata": {
            "tags": []
          }
        },
        {
          "output_type": "display_data",
          "data": {
            "text/plain": [
              "[1] 0 0 1 1 1"
            ],
            "text/latex": "\\begin{enumerate*}\n\\item 0\n\\item 0\n\\item 1\n\\item 1\n\\item 1\n\\end{enumerate*}\n",
            "text/markdown": "1. 0\n2. 0\n3. 1\n4. 1\n5. 1\n\n\n",
            "text/html": [
              "<style>\n",
              ".list-inline {list-style: none; margin:0; padding: 0}\n",
              ".list-inline>li {display: inline-block}\n",
              ".list-inline>li:not(:last-child)::after {content: \"\\00b7\"; padding: 0 .5ex}\n",
              "</style>\n",
              "<ol class=list-inline><li>0</li><li>0</li><li>1</li><li>1</li><li>1</li></ol>\n"
            ]
          },
          "metadata": {
            "tags": []
          }
        },
        {
          "output_type": "display_data",
          "data": {
            "text/plain": [
              "[1] 0 0 1 2 3"
            ],
            "text/latex": "\\begin{enumerate*}\n\\item 0\n\\item 0\n\\item 1\n\\item 2\n\\item 3\n\\end{enumerate*}\n",
            "text/markdown": "1. 0\n2. 0\n3. 1\n4. 2\n5. 3\n\n\n",
            "text/html": [
              "<style>\n",
              ".list-inline {list-style: none; margin:0; padding: 0}\n",
              ".list-inline>li {display: inline-block}\n",
              ".list-inline>li:not(:last-child)::after {content: \"\\00b7\"; padding: 0 .5ex}\n",
              "</style>\n",
              "<ol class=list-inline><li>0</li><li>0</li><li>1</li><li>2</li><li>3</li></ol>\n"
            ]
          },
          "metadata": {
            "tags": []
          }
        },
        {
          "output_type": "display_data",
          "data": {
            "text/plain": [
              "[1] NA NA NA NA NA"
            ],
            "text/latex": "\\begin{enumerate*}\n\\item <NA>\n\\item <NA>\n\\item <NA>\n\\item <NA>\n\\item <NA>\n\\end{enumerate*}\n",
            "text/markdown": "1. &lt;NA&gt;\n2. &lt;NA&gt;\n3. &lt;NA&gt;\n4. &lt;NA&gt;\n5. &lt;NA&gt;\n\n\n",
            "text/html": [
              "<style>\n",
              ".list-inline {list-style: none; margin:0; padding: 0}\n",
              ".list-inline>li {display: inline-block}\n",
              ".list-inline>li:not(:last-child)::after {content: \"\\00b7\"; padding: 0 .5ex}\n",
              "</style>\n",
              "<ol class=list-inline><li>&lt;NA&gt;</li><li>&lt;NA&gt;</li><li>&lt;NA&gt;</li><li>&lt;NA&gt;</li><li>&lt;NA&gt;</li></ol>\n"
            ]
          },
          "metadata": {
            "tags": []
          }
        },
        {
          "output_type": "display_data",
          "data": {
            "text/plain": [
              "[1] 126.0 211.0 240.0 274.5 564.0"
            ],
            "text/latex": "\\begin{enumerate*}\n\\item 126\n\\item 211\n\\item 240\n\\item 274.5\n\\item 564\n\\end{enumerate*}\n",
            "text/markdown": "1. 126\n2. 211\n3. 240\n4. 274.5\n5. 564\n\n\n",
            "text/html": [
              "<style>\n",
              ".list-inline {list-style: none; margin:0; padding: 0}\n",
              ".list-inline>li {display: inline-block}\n",
              ".list-inline>li:not(:last-child)::after {content: \"\\00b7\"; padding: 0 .5ex}\n",
              "</style>\n",
              "<ol class=list-inline><li>126</li><li>211</li><li>240</li><li>274.5</li><li>564</li></ol>\n"
            ]
          },
          "metadata": {
            "tags": []
          }
        },
        {
          "output_type": "display_data",
          "data": {
            "text/plain": [
              "[1] 0 0 0 0 1"
            ],
            "text/latex": "\\begin{enumerate*}\n\\item 0\n\\item 0\n\\item 0\n\\item 0\n\\item 1\n\\end{enumerate*}\n",
            "text/markdown": "1. 0\n2. 0\n3. 0\n4. 0\n5. 1\n\n\n",
            "text/html": [
              "<style>\n",
              ".list-inline {list-style: none; margin:0; padding: 0}\n",
              ".list-inline>li {display: inline-block}\n",
              ".list-inline>li:not(:last-child)::after {content: \"\\00b7\"; padding: 0 .5ex}\n",
              "</style>\n",
              "<ol class=list-inline><li>0</li><li>0</li><li>0</li><li>0</li><li>1</li></ol>\n"
            ]
          },
          "metadata": {
            "tags": []
          }
        },
        {
          "output_type": "display_data",
          "data": {
            "text/plain": [
              "[1] 0 0 1 1 2"
            ],
            "text/latex": "\\begin{enumerate*}\n\\item 0\n\\item 0\n\\item 1\n\\item 1\n\\item 2\n\\end{enumerate*}\n",
            "text/markdown": "1. 0\n2. 0\n3. 1\n4. 1\n5. 2\n\n\n",
            "text/html": [
              "<style>\n",
              ".list-inline {list-style: none; margin:0; padding: 0}\n",
              ".list-inline>li {display: inline-block}\n",
              ".list-inline>li:not(:last-child)::after {content: \"\\00b7\"; padding: 0 .5ex}\n",
              "</style>\n",
              "<ol class=list-inline><li>0</li><li>0</li><li>1</li><li>1</li><li>2</li></ol>\n"
            ]
          },
          "metadata": {
            "tags": []
          }
        },
        {
          "output_type": "display_data",
          "data": {
            "text/plain": [
              "[1]  71.0 133.5 153.0 166.0 202.0"
            ],
            "text/latex": "\\begin{enumerate*}\n\\item 71\n\\item 133.5\n\\item 153\n\\item 166\n\\item 202\n\\end{enumerate*}\n",
            "text/markdown": "1. 71\n2. 133.5\n3. 153\n4. 166\n5. 202\n\n\n",
            "text/html": [
              "<style>\n",
              ".list-inline {list-style: none; margin:0; padding: 0}\n",
              ".list-inline>li {display: inline-block}\n",
              ".list-inline>li:not(:last-child)::after {content: \"\\00b7\"; padding: 0 .5ex}\n",
              "</style>\n",
              "<ol class=list-inline><li>71</li><li>133.5</li><li>153</li><li>166</li><li>202</li></ol>\n"
            ]
          },
          "metadata": {
            "tags": []
          }
        },
        {
          "output_type": "display_data",
          "data": {
            "text/plain": [
              "[1] NA NA NA NA NA"
            ],
            "text/latex": "\\begin{enumerate*}\n\\item <NA>\n\\item <NA>\n\\item <NA>\n\\item <NA>\n\\item <NA>\n\\end{enumerate*}\n",
            "text/markdown": "1. &lt;NA&gt;\n2. &lt;NA&gt;\n3. &lt;NA&gt;\n4. &lt;NA&gt;\n5. &lt;NA&gt;\n\n\n",
            "text/html": [
              "<style>\n",
              ".list-inline {list-style: none; margin:0; padding: 0}\n",
              ".list-inline>li {display: inline-block}\n",
              ".list-inline>li:not(:last-child)::after {content: \"\\00b7\"; padding: 0 .5ex}\n",
              "</style>\n",
              "<ol class=list-inline><li>&lt;NA&gt;</li><li>&lt;NA&gt;</li><li>&lt;NA&gt;</li><li>&lt;NA&gt;</li><li>&lt;NA&gt;</li></ol>\n"
            ]
          },
          "metadata": {
            "tags": []
          }
        },
        {
          "output_type": "display_data",
          "data": {
            "text/plain": [
              "[1] 0.0 0.0 0.8 1.6 6.2"
            ],
            "text/latex": "\\begin{enumerate*}\n\\item 0\n\\item 0\n\\item 0.8\n\\item 1.6\n\\item 6.2\n\\end{enumerate*}\n",
            "text/markdown": "1. 0\n2. 0\n3. 0.8\n4. 1.6\n5. 6.2\n\n\n",
            "text/html": [
              "<style>\n",
              ".list-inline {list-style: none; margin:0; padding: 0}\n",
              ".list-inline>li {display: inline-block}\n",
              ".list-inline>li:not(:last-child)::after {content: \"\\00b7\"; padding: 0 .5ex}\n",
              "</style>\n",
              "<ol class=list-inline><li>0</li><li>0</li><li>0.8</li><li>1.6</li><li>6.2</li></ol>\n"
            ]
          },
          "metadata": {
            "tags": []
          }
        },
        {
          "output_type": "display_data",
          "data": {
            "text/plain": [
              "[1] NA NA NA NA NA"
            ],
            "text/latex": "\\begin{enumerate*}\n\\item <NA>\n\\item <NA>\n\\item <NA>\n\\item <NA>\n\\item <NA>\n\\end{enumerate*}\n",
            "text/markdown": "1. &lt;NA&gt;\n2. &lt;NA&gt;\n3. &lt;NA&gt;\n4. &lt;NA&gt;\n5. &lt;NA&gt;\n\n\n",
            "text/html": [
              "<style>\n",
              ".list-inline {list-style: none; margin:0; padding: 0}\n",
              ".list-inline>li {display: inline-block}\n",
              ".list-inline>li:not(:last-child)::after {content: \"\\00b7\"; padding: 0 .5ex}\n",
              "</style>\n",
              "<ol class=list-inline><li>&lt;NA&gt;</li><li>&lt;NA&gt;</li><li>&lt;NA&gt;</li><li>&lt;NA&gt;</li><li>&lt;NA&gt;</li></ol>\n"
            ]
          },
          "metadata": {
            "tags": []
          }
        },
        {
          "output_type": "display_data",
          "data": {
            "text/plain": [
              "[1] 0 0 0 1 4"
            ],
            "text/latex": "\\begin{enumerate*}\n\\item 0\n\\item 0\n\\item 0\n\\item 1\n\\item 4\n\\end{enumerate*}\n",
            "text/markdown": "1. 0\n2. 0\n3. 0\n4. 1\n5. 4\n\n\n",
            "text/html": [
              "<style>\n",
              ".list-inline {list-style: none; margin:0; padding: 0}\n",
              ".list-inline>li {display: inline-block}\n",
              ".list-inline>li:not(:last-child)::after {content: \"\\00b7\"; padding: 0 .5ex}\n",
              "</style>\n",
              "<ol class=list-inline><li>0</li><li>0</li><li>0</li><li>1</li><li>4</li></ol>\n"
            ]
          },
          "metadata": {
            "tags": []
          }
        },
        {
          "output_type": "display_data",
          "data": {
            "text/plain": [
              "[1] NA NA NA NA NA"
            ],
            "text/latex": "\\begin{enumerate*}\n\\item <NA>\n\\item <NA>\n\\item <NA>\n\\item <NA>\n\\item <NA>\n\\end{enumerate*}\n",
            "text/markdown": "1. &lt;NA&gt;\n2. &lt;NA&gt;\n3. &lt;NA&gt;\n4. &lt;NA&gt;\n5. &lt;NA&gt;\n\n\n",
            "text/html": [
              "<style>\n",
              ".list-inline {list-style: none; margin:0; padding: 0}\n",
              ".list-inline>li {display: inline-block}\n",
              ".list-inline>li:not(:last-child)::after {content: \"\\00b7\"; padding: 0 .5ex}\n",
              "</style>\n",
              "<ol class=list-inline><li>&lt;NA&gt;</li><li>&lt;NA&gt;</li><li>&lt;NA&gt;</li><li>&lt;NA&gt;</li><li>&lt;NA&gt;</li></ol>\n"
            ]
          },
          "metadata": {
            "tags": []
          }
        },
        {
          "output_type": "display_data",
          "data": {
            "text/plain": [
              "[1] NA NA NA NA NA"
            ],
            "text/latex": "\\begin{enumerate*}\n\\item <NA>\n\\item <NA>\n\\item <NA>\n\\item <NA>\n\\item <NA>\n\\end{enumerate*}\n",
            "text/markdown": "1. &lt;NA&gt;\n2. &lt;NA&gt;\n3. &lt;NA&gt;\n4. &lt;NA&gt;\n5. &lt;NA&gt;\n\n\n",
            "text/html": [
              "<style>\n",
              ".list-inline {list-style: none; margin:0; padding: 0}\n",
              ".list-inline>li {display: inline-block}\n",
              ".list-inline>li:not(:last-child)::after {content: \"\\00b7\"; padding: 0 .5ex}\n",
              "</style>\n",
              "<ol class=list-inline><li>&lt;NA&gt;</li><li>&lt;NA&gt;</li><li>&lt;NA&gt;</li><li>&lt;NA&gt;</li><li>&lt;NA&gt;</li></ol>\n"
            ]
          },
          "metadata": {
            "tags": []
          }
        }
      ]
    },
    {
      "cell_type": "code",
      "metadata": {
        "colab": {
          "base_uri": "https://localhost:8080/",
          "height": 252
        },
        "id": "eslfBlDGxr_D",
        "outputId": "4700f50c-7403-472c-a473-95571844fcc0"
      },
      "source": [
        "# d. select any 2 atributes that are continuous valued and create a subset of original data with only those columns. \n",
        "# (e.g. sample_data(col1,col2, col3) is stored in variable my_data where as variable data_slice has only col2 and col3 and no other columns. \n",
        "# Num of rows in both must be same.)\n",
        "data_slice <- data %>% select(age:fbs)\n",
        "summary(data_slice)"
      ],
      "execution_count": 39,
      "outputs": [
        {
          "output_type": "display_data",
          "data": {
            "text/plain": [
              "      age             sex               cp            trtbps     \n",
              " Min.   :29.00   Min.   :0.0000   Min.   :0.000   Min.   : 94.0  \n",
              " 1st Qu.:47.50   1st Qu.:0.0000   1st Qu.:0.000   1st Qu.:120.0  \n",
              " Median :55.00   Median :1.0000   Median :1.000   Median :130.0  \n",
              " Mean   :54.37   Mean   :0.6832   Mean   :0.967   Mean   :131.6  \n",
              " 3rd Qu.:61.00   3rd Qu.:1.0000   3rd Qu.:2.000   3rd Qu.:140.0  \n",
              " Max.   :77.00   Max.   :1.0000   Max.   :3.000   Max.   :200.0  \n",
              "      chol            fbs        \n",
              " Min.   :126.0   Min.   :0.0000  \n",
              " 1st Qu.:211.0   1st Qu.:0.0000  \n",
              " Median :240.0   Median :0.0000  \n",
              " Mean   :246.3   Mean   :0.1485  \n",
              " 3rd Qu.:274.5   3rd Qu.:0.0000  \n",
              " Max.   :564.0   Max.   :1.0000  "
            ]
          },
          "metadata": {
            "tags": []
          }
        }
      ]
    },
    {
      "cell_type": "code",
      "metadata": {
        "colab": {
          "base_uri": "https://localhost:8080/",
          "height": 34
        },
        "id": "vUebv4NM1AHq",
        "outputId": "6ab1d2d2-dbf1-433d-8efa-e8b19e5bcd04"
      },
      "source": [
        "# e. Write R function to sample tuples starting at index N to N+m from any data set provided.\n",
        "bb <- data['age']\n",
        "sample(bb[1:10,])"
      ],
      "execution_count": 40,
      "outputs": [
        {
          "output_type": "display_data",
          "data": {
            "text/plain": [
              " [1] 57 56 41 44 52 57 37 56 63 57"
            ],
            "text/latex": "\\begin{enumerate*}\n\\item 57\n\\item 56\n\\item 41\n\\item 44\n\\item 52\n\\item 57\n\\item 37\n\\item 56\n\\item 63\n\\item 57\n\\end{enumerate*}\n",
            "text/markdown": "1. 57\n2. 56\n3. 41\n4. 44\n5. 52\n6. 57\n7. 37\n8. 56\n9. 63\n10. 57\n\n\n",
            "text/html": [
              "<style>\n",
              ".list-inline {list-style: none; margin:0; padding: 0}\n",
              ".list-inline>li {display: inline-block}\n",
              ".list-inline>li:not(:last-child)::after {content: \"\\00b7\"; padding: 0 .5ex}\n",
              "</style>\n",
              "<ol class=list-inline><li>57</li><li>56</li><li>41</li><li>44</li><li>52</li><li>57</li><li>37</li><li>56</li><li>63</li><li>57</li></ol>\n"
            ]
          },
          "metadata": {
            "tags": []
          }
        }
      ]
    },
    {
      "cell_type": "code",
      "metadata": {
        "colab": {
          "base_uri": "https://localhost:8080/",
          "height": 50
        },
        "id": "VubvgDa5vjpt",
        "outputId": "ddfc692b-2781-46ec-d026-cca58aa3d7d9"
      },
      "source": [
        "# Task 2 : Swaraj Kondelkar\n",
        "# a. find out how many values are missing in each of the columns of your data set.\n",
        "tar <- data$target\n",
        "sapply(data, function(tar) sum(is.na(tar)))"
      ],
      "execution_count": 47,
      "outputs": [
        {
          "output_type": "display_data",
          "data": {
            "text/plain": [
              "     age      sex       cp   trtbps     chol      fbs  restecg thalachh \n",
              "       0        0        0        0        0        0        0        0 \n",
              "    exng  oldpeak      slp      caa    thall   output \n",
              "       0        0        0        0        0        0 "
            ],
            "text/latex": "\\begin{description*}\n\\item[age] 0\n\\item[sex] 0\n\\item[cp] 0\n\\item[trtbps] 0\n\\item[chol] 0\n\\item[fbs] 0\n\\item[restecg] 0\n\\item[thalachh] 0\n\\item[exng] 0\n\\item[oldpeak] 0\n\\item[slp] 0\n\\item[caa] 0\n\\item[thall] 0\n\\item[output] 0\n\\end{description*}\n",
            "text/markdown": "age\n:   0sex\n:   0cp\n:   0trtbps\n:   0chol\n:   0fbs\n:   0restecg\n:   0thalachh\n:   0exng\n:   0oldpeak\n:   0slp\n:   0caa\n:   0thall\n:   0output\n:   0\n\n",
            "text/html": [
              "<style>\n",
              ".dl-inline {width: auto; margin:0; padding: 0}\n",
              ".dl-inline>dt, .dl-inline>dd {float: none; width: auto; display: inline-block}\n",
              ".dl-inline>dt::after {content: \":\\0020\"; padding-right: .5ex}\n",
              ".dl-inline>dt:not(:first-of-type) {padding-left: .5ex}\n",
              "</style><dl class=dl-inline><dt>age</dt><dd>0</dd><dt>sex</dt><dd>0</dd><dt>cp</dt><dd>0</dd><dt>trtbps</dt><dd>0</dd><dt>chol</dt><dd>0</dd><dt>fbs</dt><dd>0</dd><dt>restecg</dt><dd>0</dd><dt>thalachh</dt><dd>0</dd><dt>exng</dt><dd>0</dd><dt>oldpeak</dt><dd>0</dd><dt>slp</dt><dd>0</dd><dt>caa</dt><dd>0</dd><dt>thall</dt><dd>0</dd><dt>output</dt><dd>0</dd></dl>\n"
            ]
          },
          "metadata": {
            "tags": []
          }
        }
      ]
    },
    {
      "cell_type": "code",
      "metadata": {
        "id": "U8nnCDIm0WAk"
      },
      "source": [
        "# b. select colum with more than 10% values missing for deletation. Create new copy of dataset\n",
        "# that has one less column call it sample_data_1less.\n",
        "\n",
        "## Remove columns with more than 10% NA\n",
        "dataless1 <-data[, which(colMeans(!is.na(data)) > 0.1)]"
      ],
      "execution_count": 49,
      "outputs": []
    },
    {
      "cell_type": "code",
      "metadata": {
        "colab": {
          "base_uri": "https://localhost:8080/",
          "height": 487
        },
        "id": "xA2B0Cpb0dep",
        "outputId": "ade6f4af-9aef-4552-87a2-766f2f24cc22"
      },
      "source": [
        "# c. Find 5 point summary of all remaining columns with numric attributes\n",
        "summary(dataless1)"
      ],
      "execution_count": 50,
      "outputs": [
        {
          "output_type": "display_data",
          "data": {
            "text/plain": [
              "      age             sex               cp            trtbps     \n",
              " Min.   :29.00   Min.   :0.0000   Min.   :0.000   Min.   : 94.0  \n",
              " 1st Qu.:47.50   1st Qu.:0.0000   1st Qu.:0.000   1st Qu.:120.0  \n",
              " Median :55.00   Median :1.0000   Median :1.000   Median :130.0  \n",
              " Mean   :54.37   Mean   :0.6832   Mean   :0.967   Mean   :131.6  \n",
              " 3rd Qu.:61.00   3rd Qu.:1.0000   3rd Qu.:2.000   3rd Qu.:140.0  \n",
              " Max.   :77.00   Max.   :1.0000   Max.   :3.000   Max.   :200.0  \n",
              "      chol            fbs            restecg          thalachh    \n",
              " Min.   :126.0   Min.   :0.0000   Min.   :0.0000   Min.   : 71.0  \n",
              " 1st Qu.:211.0   1st Qu.:0.0000   1st Qu.:0.0000   1st Qu.:133.5  \n",
              " Median :240.0   Median :0.0000   Median :1.0000   Median :153.0  \n",
              " Mean   :246.3   Mean   :0.1485   Mean   :0.5281   Mean   :149.6  \n",
              " 3rd Qu.:274.5   3rd Qu.:0.0000   3rd Qu.:1.0000   3rd Qu.:166.0  \n",
              " Max.   :564.0   Max.   :1.0000   Max.   :2.0000   Max.   :202.0  \n",
              "      exng           oldpeak          slp             caa        \n",
              " Min.   :0.0000   Min.   :0.00   Min.   :0.000   Min.   :0.0000  \n",
              " 1st Qu.:0.0000   1st Qu.:0.00   1st Qu.:1.000   1st Qu.:0.0000  \n",
              " Median :0.0000   Median :0.80   Median :1.000   Median :0.0000  \n",
              " Mean   :0.3267   Mean   :1.04   Mean   :1.399   Mean   :0.7294  \n",
              " 3rd Qu.:1.0000   3rd Qu.:1.60   3rd Qu.:2.000   3rd Qu.:1.0000  \n",
              " Max.   :1.0000   Max.   :6.20   Max.   :2.000   Max.   :4.0000  \n",
              "     thall           output      \n",
              " Min.   :0.000   Min.   :0.0000  \n",
              " 1st Qu.:2.000   1st Qu.:0.0000  \n",
              " Median :2.000   Median :1.0000  \n",
              " Mean   :2.314   Mean   :0.5446  \n",
              " 3rd Qu.:3.000   3rd Qu.:1.0000  \n",
              " Max.   :3.000   Max.   :1.0000  "
            ]
          },
          "metadata": {
            "tags": []
          }
        }
      ]
    },
    {
      "cell_type": "code",
      "metadata": {
        "colab": {
          "base_uri": "https://localhost:8080/",
          "height": 168
        },
        "id": "BIVFxW4H2j8F",
        "outputId": "889fa9a5-a13f-46f5-953e-59c79bd28ef0"
      },
      "source": [
        "# d. For attribute having maximum spread delete all tuples that have value less than the mean of the\n",
        "# attribute selected. Count the number of tuples reamining in the sampled dataset.\n",
        "\n",
        "m <- mean(data$trestbps, na.rm = \"FALSE\")\n",
        "m\n",
        "\n",
        "df2 <- subset(data, data$trestbps< m)\n",
        "summary(df2$trestbps)\n",
        "print('Rows before row deletion: ')\n",
        "nrow(data)\n",
        "print('Rows before row deletion: ')\n",
        "nrow(df2)"
      ],
      "execution_count": 52,
      "outputs": [
        {
          "output_type": "stream",
          "text": [
            "Warning message in mean.default(data$trestbps, na.rm = \"FALSE\"):\n",
            "“argument is not numeric or logical: returning NA”\n"
          ],
          "name": "stderr"
        },
        {
          "output_type": "display_data",
          "data": {
            "text/plain": [
              "[1] NA"
            ],
            "text/latex": "<NA>",
            "text/markdown": "&lt;NA&gt;",
            "text/html": [
              "&lt;NA&gt;"
            ]
          },
          "metadata": {
            "tags": []
          }
        },
        {
          "output_type": "display_data",
          "data": {
            "text/plain": [
              "Length  Class   Mode \n",
              "     0   NULL   NULL "
            ]
          },
          "metadata": {
            "tags": []
          }
        },
        {
          "output_type": "stream",
          "text": [
            "[1] \"Rows before row deletion: \"\n"
          ],
          "name": "stdout"
        },
        {
          "output_type": "display_data",
          "data": {
            "text/plain": [
              "[1] 303"
            ],
            "text/latex": "303",
            "text/markdown": "303",
            "text/html": [
              "303"
            ]
          },
          "metadata": {
            "tags": []
          }
        },
        {
          "output_type": "stream",
          "text": [
            "[1] \"Rows before row deletion: \"\n"
          ],
          "name": "stdout"
        },
        {
          "output_type": "display_data",
          "data": {
            "text/plain": [
              "[1] 0"
            ],
            "text/latex": "0",
            "text/markdown": "0",
            "text/html": [
              "0"
            ]
          },
          "metadata": {
            "tags": []
          }
        }
      ]
    },
    {
      "cell_type": "code",
      "metadata": {
        "colab": {
          "base_uri": "https://localhost:8080/",
          "height": 50
        },
        "id": "-eEnLUuQ3m69",
        "outputId": "305dc7fb-3a65-41cf-8c89-dd64e9c3c8c5"
      },
      "source": [
        "#Task Number 3: Ishwari Khismatrao\n",
        "# a. print the 5 point statistical summary for any 2 numeric attributes from your data set\n",
        "fivenum(data$age) \n",
        "fivenum(data$chol)"
      ],
      "execution_count": 53,
      "outputs": [
        {
          "output_type": "display_data",
          "data": {
            "text/plain": [
              "[1] 29.0 47.5 55.0 61.0 77.0"
            ],
            "text/latex": "\\begin{enumerate*}\n\\item 29\n\\item 47.5\n\\item 55\n\\item 61\n\\item 77\n\\end{enumerate*}\n",
            "text/markdown": "1. 29\n2. 47.5\n3. 55\n4. 61\n5. 77\n\n\n",
            "text/html": [
              "<style>\n",
              ".list-inline {list-style: none; margin:0; padding: 0}\n",
              ".list-inline>li {display: inline-block}\n",
              ".list-inline>li:not(:last-child)::after {content: \"\\00b7\"; padding: 0 .5ex}\n",
              "</style>\n",
              "<ol class=list-inline><li>29</li><li>47.5</li><li>55</li><li>61</li><li>77</li></ol>\n"
            ]
          },
          "metadata": {
            "tags": []
          }
        },
        {
          "output_type": "display_data",
          "data": {
            "text/plain": [
              "[1] 126.0 211.0 240.0 274.5 564.0"
            ],
            "text/latex": "\\begin{enumerate*}\n\\item 126\n\\item 211\n\\item 240\n\\item 274.5\n\\item 564\n\\end{enumerate*}\n",
            "text/markdown": "1. 126\n2. 211\n3. 240\n4. 274.5\n5. 564\n\n\n",
            "text/html": [
              "<style>\n",
              ".list-inline {list-style: none; margin:0; padding: 0}\n",
              ".list-inline>li {display: inline-block}\n",
              ".list-inline>li:not(:last-child)::after {content: \"\\00b7\"; padding: 0 .5ex}\n",
              "</style>\n",
              "<ol class=list-inline><li>126</li><li>211</li><li>240</li><li>274.5</li><li>564</li></ol>\n"
            ]
          },
          "metadata": {
            "tags": []
          }
        }
      ]
    },
    {
      "cell_type": "code",
      "metadata": {
        "colab": {
          "base_uri": "https://localhost:8080/",
          "height": 487
        },
        "id": "XvSTqxVM3zeA",
        "outputId": "10c8b243-88b5-4b36-b35d-aed8535c9a68"
      },
      "source": [
        "# b. select 2 atributes have closest mean value and draw a scatter plot with proper x and labelsloi\n",
        "# ntt and title (for plotting you must use R library functions or gnuplot and not matplotlib )\n",
        "means<- colMeans(data[sapply(data, is.numeric)] )\n",
        "means\n",
        "\n",
        "library(ggplot2)\n",
        "\n",
        "oldpeak<-data$oldpeak\n",
        "slope<-data$slope\n",
        "plot(data$oldpeak , data$slope , main = \"Scatterplot\" , xlab = \"oldpeak\" , ylab = \"slope\" , las = 1 , xlim = c(0,2) , col = 2 )"
      ],
      "execution_count": 60,
      "outputs": [
        {
          "output_type": "display_data",
          "data": {
            "text/plain": [
              "        age         sex          cp      trtbps        chol         fbs \n",
              " 54.3663366   0.6831683   0.9669967 131.6237624 246.2640264   0.1485149 \n",
              "    restecg    thalachh        exng     oldpeak         slp         caa \n",
              "  0.5280528 149.6468647   0.3267327   1.0396040   1.3993399   0.7293729 \n",
              "      thall      output \n",
              "  2.3135314   0.5445545 "
            ],
            "text/latex": "\\begin{description*}\n\\item[age] 54.3663366336634\n\\item[sex] 0.683168316831683\n\\item[cp] 0.966996699669967\n\\item[trtbps] 131.623762376238\n\\item[chol] 246.26402640264\n\\item[fbs] 0.148514851485149\n\\item[restecg] 0.528052805280528\n\\item[thalachh] 149.646864686469\n\\item[exng] 0.326732673267327\n\\item[oldpeak] 1.03960396039604\n\\item[slp] 1.3993399339934\n\\item[caa] 0.729372937293729\n\\item[thall] 2.31353135313531\n\\item[output] 0.544554455445545\n\\end{description*}\n",
            "text/markdown": "age\n:   54.3663366336634sex\n:   0.683168316831683cp\n:   0.966996699669967trtbps\n:   131.623762376238chol\n:   246.26402640264fbs\n:   0.148514851485149restecg\n:   0.528052805280528thalachh\n:   149.646864686469exng\n:   0.326732673267327oldpeak\n:   1.03960396039604slp\n:   1.3993399339934caa\n:   0.729372937293729thall\n:   2.31353135313531output\n:   0.544554455445545\n\n",
            "text/html": [
              "<style>\n",
              ".dl-inline {width: auto; margin:0; padding: 0}\n",
              ".dl-inline>dt, .dl-inline>dd {float: none; width: auto; display: inline-block}\n",
              ".dl-inline>dt::after {content: \":\\0020\"; padding-right: .5ex}\n",
              ".dl-inline>dt:not(:first-of-type) {padding-left: .5ex}\n",
              "</style><dl class=dl-inline><dt>age</dt><dd>54.3663366336634</dd><dt>sex</dt><dd>0.683168316831683</dd><dt>cp</dt><dd>0.966996699669967</dd><dt>trtbps</dt><dd>131.623762376238</dd><dt>chol</dt><dd>246.26402640264</dd><dt>fbs</dt><dd>0.148514851485149</dd><dt>restecg</dt><dd>0.528052805280528</dd><dt>thalachh</dt><dd>149.646864686469</dd><dt>exng</dt><dd>0.326732673267327</dd><dt>oldpeak</dt><dd>1.03960396039604</dd><dt>slp</dt><dd>1.3993399339934</dd><dt>caa</dt><dd>0.729372937293729</dd><dt>thall</dt><dd>2.31353135313531</dd><dt>output</dt><dd>0.544554455445545</dd></dl>\n"
            ]
          },
          "metadata": {
            "tags": []
          }
        },
        {
          "output_type": "display_data",
          "data": {
            "image/png": "[encoded data removed]",
            "text/plain": [
              "Plot with title “Scatterplot”"
            ]
          },
          "metadata": {
            "tags": [],
            "image/png": {
              "width": 420,
              "height": 420
            }
          }
        }
      ]
    },
    {
      "cell_type": "code",
      "metadata": {
        "colab": {
          "base_uri": "https://localhost:8080/",
          "height": 437
        },
        "id": "5XZ2epUN34RZ",
        "outputId": "aacf81b0-ce6c-4165-c528-3e5db6f655f3"
      },
      "source": [
        "# e. Write a R function to plot histogram of some specific input attribute for any data set provided\n",
        "new.function <- function(oldpeak) {\n",
        "   hist(oldpeak)\n",
        "}\n",
        "\n",
        "new.function(oldpeak)"
      ],
      "execution_count": 61,
      "outputs": [
        {
          "output_type": "display_data",
          "data": {
            "image/png": "[encoded data removed]",
            "text/plain": [
              "Plot with title “Histogram of oldpeak”"
            ]
          },
          "metadata": {
            "tags": [],
            "image/png": {
              "width": 420,
              "height": 420
            }
          }
        }
      ]
    },
    {
      "cell_type": "code",
      "metadata": {
        "colab": {
          "base_uri": "https://localhost:8080/",
          "height": 145
        },
        "id": "eXUl82xs375E",
        "outputId": "34a68ceb-2696-44f0-81b2-a61e702aa205"
      },
      "source": [
        "# c. Find coefficient of correlation using some R library function between above 2 attributes\n",
        "cor(oldpeak,slope, method = c(\"pearson\", \"kendall\", \"spearman\"))"
      ],
      "execution_count": 62,
      "outputs": [
        {
          "output_type": "error",
          "ename": "ERROR",
          "evalue": "ignored",
          "traceback": [
            "Error in cor(oldpeak, slope, method = c(\"pearson\", \"kendall\", \"spearman\")): supply both 'x' and 'y' or a matrix-like 'x'\nTraceback:\n",
            "1. cor(oldpeak, slope, method = c(\"pearson\", \"kendall\", \"spearman\"))",
            "2. stop(\"supply both 'x' and 'y' or a matrix-like 'x'\")"
          ]
        }
      ]
    },
    {
      "cell_type": "code",
      "metadata": {
        "colab": {
          "base_uri": "https://localhost:8080/",
          "height": 437
        },
        "id": "51GUjNQl4KNi",
        "outputId": "cecfbc2a-8d71-422c-e7b3-d6a2293c7566"
      },
      "source": [
        "boxplot(oldpeak,slope)\n",
        "title(\"oldpeak vs. slope\")"
      ],
      "execution_count": 56,
      "outputs": [
        {
          "output_type": "display_data",
          "data": {
            "image/png": "[encoded data removed]",
            "text/plain": [
              "Plot with title “oldpeak vs. slope”"
            ]
          },
          "metadata": {
            "tags": [],
            "image/png": {
              "width": 420,
              "height": 420
            }
          }
        }
      ]
    },
    {
      "cell_type": "code",
      "metadata": {
        "colab": {
          "base_uri": "https://localhost:8080/",
          "height": 229
        },
        "id": "JUXXc9RY4N2b",
        "outputId": "d4fa40a8-4a29-4490-ad27-09b5b4cc757b"
      },
      "source": [
        "boxplot(oldpeak~slope,data=data, main=\"Box Plot\",xlab=\"Oldpeak\", ylab=\"Slope\")"
      ],
      "execution_count": 64,
      "outputs": [
        {
          "output_type": "error",
          "ename": "ERROR",
          "evalue": "ignored",
          "traceback": [
            "Error in stats::model.frame.default(formula = oldpeak ~ slope, data = data): invalid type (NULL) for variable 'slope'\nTraceback:\n",
            "1. boxplot(oldpeak ~ slope, data = data, main = \"Box Plot\", xlab = \"Oldpeak\", \n .     ylab = \"Slope\")",
            "2. boxplot.formula(oldpeak ~ slope, data = data, main = \"Box Plot\", \n .     xlab = \"Oldpeak\", ylab = \"Slope\")",
            "3. eval(m, parent.frame())",
            "4. eval(m, parent.frame())",
            "5. stats::model.frame.default(formula = oldpeak ~ slope, data = data)"
          ]
        }
      ]
    }
  ]
}